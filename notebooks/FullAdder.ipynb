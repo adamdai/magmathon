{
 "cells": [
  {
   "cell_type": "markdown",
   "metadata": {},
   "source": [
    "Start by importing basic magma and mantle functions."
   ]
  },
  {
   "cell_type": "code",
   "execution_count": 1,
   "metadata": {
    "collapsed": true
   },
   "outputs": [],
   "source": [
    "from magma import *\n",
    "from mantle import and_, or_, xor"
   ]
  },
  {
   "cell_type": "markdown",
   "metadata": {},
   "source": [
    "We will also want to demonstrate compiling to verilog and generating test vectors."
   ]
  },
  {
   "cell_type": "code",
   "execution_count": 2,
   "metadata": {
    "collapsed": true
   },
   "outputs": [],
   "source": [
    "from magma.backend.verilog import compile as compile_verilog\n",
    "from magma.simulator.python_simulator import testvectors"
   ]
  },
  {
   "cell_type": "markdown",
   "metadata": {},
   "source": [
    "First version of a Full Adder.\n",
    "\n",
    "In order to make an adder, we create a subclass of `Circuit`. The class arguments are the name of the circuit (\"FullAdder\") and the interface. The adder interface has three inputs `a`, `b`, and `cin` which are type `In(Bit)`. There are two outputs `sum` and `cout` which are of type `Out(Bit)`.\n",
    "\n",
    "The adder body is defined in the method `definition`. This method takes the interface as an argument (`io`). The inputs and outputs to the adder are accessed through `io`."
   ]
  },
  {
   "cell_type": "code",
   "execution_count": 3,
   "metadata": {
    "collapsed": true
   },
   "outputs": [],
   "source": [
    "class FullAdder1(Circuit):\n",
    "    name = \"FullAdder1\"\n",
    "    IO = [\"a\", In(Bit), \"b\", In(Bit), \"cin\", In(Bit), \"sum\", Out(Bit), \"cout\", Out(Bit)]\n",
    "    @classmethod\n",
    "    def definition(io):\n",
    "        # Compute the sum\n",
    "        _sum = io.a ^ io.b ^ io.cin\n",
    "        wire(_sum, io.sum)\n",
    "        # Compute the carry\n",
    "        cout = (io.a & io.b) | (io.b & io.cin) | (io.a & io.cin)\n",
    "        # Wire cout\n",
    "        wire(cout, io.cout)"
   ]
  },
  {
   "cell_type": "markdown",
   "metadata": {},
   "source": [
    "`FullAdder1` can be converted to a verilog module. "
   ]
  },
  {
   "cell_type": "code",
   "execution_count": 4,
   "metadata": {},
   "outputs": [
    {
     "name": "stdout",
     "output_type": "stream",
     "text": [
      "compiling xor_wrapped\n",
      "compiling and_wrapped\n",
      "compiling or_wrapped\n",
      "compiling FullAdder1\n",
      "module xor_wrapped (input  I0, input  I1, output  O);\n",
      "wire  inst0_out;\n",
      "coreir_xor inst0 (.in0(I0), .in1(I1), .out(inst0_out));\n",
      "assign O = inst0_out;\n",
      "endmodule\n",
      "\n",
      "module and_wrapped (input  I0, input  I1, output  O);\n",
      "wire  inst0_out;\n",
      "coreir_and inst0 (.in0(I0), .in1(I1), .out(inst0_out));\n",
      "assign O = inst0_out;\n",
      "endmodule\n",
      "\n",
      "module or_wrapped (input  I0, input  I1, output  O);\n",
      "wire  inst0_out;\n",
      "coreir_or inst0 (.in0(I0), .in1(I1), .out(inst0_out));\n",
      "assign O = inst0_out;\n",
      "endmodule\n",
      "\n",
      "module FullAdder1 (input  a, input  b, input  cin, output  sum, output  cout);\n",
      "wire  inst0_O;\n",
      "wire  inst1_O;\n",
      "wire  inst2_O;\n",
      "wire  inst3_O;\n",
      "wire  inst4_O;\n",
      "wire  inst5_O;\n",
      "wire  inst6_O;\n",
      "xor_wrapped inst0 (.I0(a), .I1(b), .O(inst0_O));\n",
      "xor_wrapped inst1 (.I0(inst0_O), .I1(cin), .O(inst1_O));\n",
      "and_wrapped inst2 (.I0(a), .I1(b), .O(inst2_O));\n",
      "and_wrapped inst3 (.I0(b), .I1(cin), .O(inst3_O));\n",
      "or_wrapped inst4 (.I0(inst2_O), .I1(inst3_O), .O(inst4_O));\n",
      "and_wrapped inst5 (.I0(a), .I1(cin), .O(inst5_O));\n",
      "or_wrapped inst6 (.I0(inst4_O), .I1(inst5_O), .O(inst6_O));\n",
      "assign sum = inst1_O;\n",
      "assign cout = inst6_O;\n",
      "endmodule\n",
      "\n",
      "\n"
     ]
    }
   ],
   "source": [
    "print(compile_verilog(FullAdder1))"
   ]
  },
  {
   "cell_type": "markdown",
   "metadata": {},
   "source": [
    "Next let's test the adder by using a list of test vectors,\n",
    "which are enumerated manually."
   ]
  },
  {
   "cell_type": "code",
   "execution_count": 5,
   "metadata": {},
   "outputs": [
    {
     "name": "stdout",
     "output_type": "stream",
     "text": [
      "Success\n"
     ]
    }
   ],
   "source": [
    "full_adder_test_vectors = [\n",
    "    [0, 0, 0, 0, 0],\n",
    "    [0, 0, 1, 1, 0],\n",
    "    [0, 1, 0, 1, 0],\n",
    "    [0, 1, 1, 0, 1],\n",
    "    [1, 0, 0, 1, 0],\n",
    "    [1, 0, 1, 0, 1],\n",
    "    [1, 1, 0, 0, 1],\n",
    "    [1, 1, 1, 1, 1]\n",
    "]\n",
    "\n",
    "tests = testvectors(FullAdder1)\n",
    "print( \"Success\" if tests == full_adder_test_vectors else \"Failure\" )"
   ]
  },
  {
   "cell_type": "markdown",
   "metadata": {},
   "source": [
    "Here is another way of generating an adder."
   ]
  },
  {
   "cell_type": "code",
   "execution_count": 6,
   "metadata": {
    "collapsed": true,
    "scrolled": true
   },
   "outputs": [],
   "source": [
    "class FullAdder2(Circuit):\n",
    "    name = \"FullAdder2\"\n",
    "    IO = [\"a\", In(Bit), \"b\", In(Bit), \"cin\", In(Bit), \"out\", Out(Bit), \"cout\", Out(Bit)]\n",
    "    @classmethod\n",
    "    def definition(io):\n",
    "        # Generate the sum\n",
    "        sum_ = xor(xor(io.a, io.b), io.cin)\n",
    "        wire(sum_, io.out)\n",
    "        # Generate the carry\n",
    "        ab = and_(io.a, io.b)\n",
    "        bc = and_(io.b, io.cin)\n",
    "        ca = and_(io.cin, io.a)\n",
    "        carry = or_(or_(ab, bc), ca)\n",
    "        wire(carry, io.cout)"
   ]
  },
  {
   "cell_type": "code",
   "execution_count": 7,
   "metadata": {},
   "outputs": [
    {
     "name": "stdout",
     "output_type": "stream",
     "text": [
      "compiling xor_wrapped\n",
      "compiling and_wrapped\n",
      "compiling or_wrapped\n",
      "compiling FullAdder2\n",
      "module xor_wrapped (input  I0, input  I1, output  O);\n",
      "wire  inst0_out;\n",
      "coreir_xor inst0 (.in0(I0), .in1(I1), .out(inst0_out));\n",
      "assign O = inst0_out;\n",
      "endmodule\n",
      "\n",
      "module and_wrapped (input  I0, input  I1, output  O);\n",
      "wire  inst0_out;\n",
      "coreir_and inst0 (.in0(I0), .in1(I1), .out(inst0_out));\n",
      "assign O = inst0_out;\n",
      "endmodule\n",
      "\n",
      "module or_wrapped (input  I0, input  I1, output  O);\n",
      "wire  inst0_out;\n",
      "coreir_or inst0 (.in0(I0), .in1(I1), .out(inst0_out));\n",
      "assign O = inst0_out;\n",
      "endmodule\n",
      "\n",
      "module FullAdder2 (input  a, input  b, input  cin, output  out, output  cout);\n",
      "wire  inst0_O;\n",
      "wire  inst1_O;\n",
      "wire  inst2_O;\n",
      "wire  inst3_O;\n",
      "wire  inst4_O;\n",
      "wire  inst5_O;\n",
      "wire  inst6_O;\n",
      "xor_wrapped inst0 (.I0(a), .I1(b), .O(inst0_O));\n",
      "xor_wrapped inst1 (.I0(inst0_O), .I1(cin), .O(inst1_O));\n",
      "and_wrapped inst2 (.I0(a), .I1(b), .O(inst2_O));\n",
      "and_wrapped inst3 (.I0(b), .I1(cin), .O(inst3_O));\n",
      "and_wrapped inst4 (.I0(cin), .I1(a), .O(inst4_O));\n",
      "or_wrapped inst5 (.I0(inst2_O), .I1(inst3_O), .O(inst5_O));\n",
      "or_wrapped inst6 (.I0(inst5_O), .I1(inst4_O), .O(inst6_O));\n",
      "assign out = inst1_O;\n",
      "assign cout = inst6_O;\n",
      "endmodule\n",
      "\n",
      "\n"
     ]
    }
   ],
   "source": [
    "print(compile_verilog(FullAdder2))"
   ]
  },
  {
   "cell_type": "code",
   "execution_count": 8,
   "metadata": {},
   "outputs": [
    {
     "name": "stdout",
     "output_type": "stream",
     "text": [
      "Success\n"
     ]
    }
   ],
   "source": [
    "tests = testvectors(FullAdder2)\n",
    "print( \"Success\" if tests == full_adder_test_vectors else \"Failure\" )"
   ]
  },
  {
   "cell_type": "markdown",
   "metadata": {},
   "source": [
    "We can print the tests as a table."
   ]
  },
  {
   "cell_type": "code",
   "execution_count": 9,
   "metadata": {},
   "outputs": [
    {
     "name": "stdout",
     "output_type": "stream",
     "text": [
      " a  b ci  o co\n",
      " 0  0  0  0  0 \n",
      " 0  0  1  1  0 \n",
      " 0  1  0  1  0 \n",
      " 0  1  1  0  1 \n",
      " 1  0  0  1  0 \n",
      " 1  0  1  0  1 \n",
      " 1  1  0  0  1 \n",
      " 1  1  1  1  1 \n"
     ]
    }
   ],
   "source": [
    "print(\" a  b ci  o co\")\n",
    "for test in tests:\n",
    "    for t in test:\n",
    "        print(\"{:2d}\".format(t), end=' ')\n",
    "    print()"
   ]
  },
  {
   "cell_type": "markdown",
   "metadata": {},
   "source": [
    "Or plot them as waveforms."
   ]
  },
  {
   "cell_type": "code",
   "execution_count": 10,
   "metadata": {},
   "outputs": [
    {
     "data": {
      "image/png": "[encoded data removed]",
      "text/plain": [
       "<matplotlib.figure.Figure at 0x108ff9748>"
      ]
     },
     "metadata": {},
     "output_type": "display_data"
    }
   ],
   "source": [
    "from magma.waveform import waveform\n",
    "\n",
    "waveform(tests, [\"a\", \"b\", \"cin\", \"sum\", \"cout\"])"
   ]
  },
  {
   "cell_type": "code",
   "execution_count": null,
   "metadata": {
    "collapsed": true
   },
   "outputs": [],
   "source": []
  }
 ],
 "metadata": {
  "kernelspec": {
   "display_name": "Python 3",
   "language": "python",
   "name": "python3"
  },
  "language_info": {
   "codemirror_mode": {
    "name": "ipython",
    "version": 3
   },
   "file_extension": ".py",
   "mimetype": "text/x-python",
   "name": "python",
   "nbconvert_exporter": "python",
   "pygments_lexer": "ipython3",
   "version": "3.6.1"
  }
 },
 "nbformat": 4,
 "nbformat_minor": 2
}
