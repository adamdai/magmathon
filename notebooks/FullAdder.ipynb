{
 "cells": [
  {
   "cell_type": "markdown",
   "metadata": {},
   "source": [
    "Start by importing `Magma`."
   ]
  },
  {
   "cell_type": "code",
   "execution_count": 1,
   "metadata": {
    "collapsed": true,
    "scrolled": true
   },
   "outputs": [],
   "source": [
    "import magma as m"
   ]
  },
  {
   "cell_type": "markdown",
   "metadata": {},
   "source": [
    "Define a function that constructs a full adder."
   ]
  },
  {
   "cell_type": "code",
   "execution_count": 2,
   "metadata": {
    "collapsed": true
   },
   "outputs": [],
   "source": [
    "def fulladder(A, B, C):\n",
    "    return A^B^C, A&B|B&C|C&A"
   ]
  },
  {
   "cell_type": "markdown",
   "metadata": {},
   "source": [
    "Initialize the IceStick headers. `J1` will be used as inputs; `J3` will be used as outputs."
   ]
  },
  {
   "cell_type": "code",
   "execution_count": 3,
   "metadata": {},
   "outputs": [
    {
     "name": "stdout",
     "output_type": "stream",
     "text": [
      "import mantle lattice ice40\n",
      "import mantle lattice mantle40\n"
     ]
    }
   ],
   "source": [
    "from loam.boards.icestick import IceStick\n",
    "\n",
    "icestick = IceStick()\n",
    "icestick.J1[0].input().on()\n",
    "icestick.J1[1].input().on()\n",
    "icestick.J1[2].input().on()\n",
    "icestick.J3[0].output().on()\n",
    "icestick.J3[1].output().on();"
   ]
  },
  {
   "cell_type": "code",
   "execution_count": 4,
   "metadata": {
    "collapsed": true
   },
   "outputs": [],
   "source": [
    "main = icestick.DefineMain()\n",
    "\n",
    "s, c = fulladder(main.J1[0], main.J1[1], main.J1[2])\n",
    "m.wire(s, main.J3[0])\n",
    "m.wire(s, main.J3[1])\n",
    "\n",
    "m.EndDefine()"
   ]
  },
  {
   "cell_type": "code",
   "execution_count": 5,
   "metadata": {},
   "outputs": [
    {
     "name": "stdout",
     "output_type": "stream",
     "text": [
      "compiling XOr2\n",
      "compiling And2\n",
      "compiling Or2\n",
      "compiling main\n"
     ]
    }
   ],
   "source": [
    "m.compile('build/fulladder', main)"
   ]
  },
  {
   "cell_type": "code",
   "execution_count": 6,
   "metadata": {},
   "outputs": [
    {
     "name": "stdout",
     "output_type": "stream",
     "text": [
      "/Users/hanrahan/git/magmathon/notebooks/build\n"
     ]
    }
   ],
   "source": [
    "%%bash\n",
    "cd build\n",
    "yosys -q -p 'synth_ice40 -top main -blif fulladder.blif' fulladder.v\n",
    "arachne-pnr -q -d 1k -o fulladder.txt -p fulladder.pcf fulladder.blif \n",
    "icepack fulladder.txt fulladder.bin"
   ]
  },
  {
   "cell_type": "code",
   "execution_count": 7,
   "metadata": {
    "collapsed": true
   },
   "outputs": [],
   "source": [
    "%%bash \n",
    "# iceprog build/fulladder.bin"
   ]
  },
  {
   "cell_type": "markdown",
   "metadata": {},
   "source": [
    "Show verilog. FullAdder has been mapped to ice40 primitives."
   ]
  },
  {
   "cell_type": "code",
   "execution_count": 8,
   "metadata": {},
   "outputs": [
    {
     "name": "stdout",
     "output_type": "stream",
     "text": [
      "module XOr2 (input [1:0] I, output  O);\n",
      "wire  inst0_O;\n",
      "SB_LUT4 #(.LUT_INIT(16'h6666)) inst0 (.I0(I[0]), .I1(I[1]), .I2(1'b0), .I3(1'b0), .O(inst0_O));\n",
      "assign O = inst0_O;\n",
      "endmodule\n",
      "\n",
      "module And2 (input [1:0] I, output  O);\n",
      "wire  inst0_O;\n",
      "SB_LUT4 #(.LUT_INIT(16'h8888)) inst0 (.I0(I[0]), .I1(I[1]), .I2(1'b0), .I3(1'b0), .O(inst0_O));\n",
      "assign O = inst0_O;\n",
      "endmodule\n",
      "\n",
      "module Or2 (input [1:0] I, output  O);\n",
      "wire  inst0_O;\n",
      "SB_LUT4 #(.LUT_INIT(16'hEEEE)) inst0 (.I0(I[0]), .I1(I[1]), .I2(1'b0), .I3(1'b0), .O(inst0_O));\n",
      "assign O = inst0_O;\n",
      "endmodule\n",
      "\n",
      "module main (input [2:0] J1, output [1:0] J3);\n",
      "wire  inst0_O;\n",
      "wire  inst1_O;\n",
      "wire  inst2_O;\n",
      "wire  inst3_O;\n",
      "wire  inst4_O;\n",
      "wire  inst5_O;\n",
      "wire  inst6_O;\n",
      "XOr2 inst0 (.I({J1[1],J1[0]}), .O(inst0_O));\n",
      "XOr2 inst1 (.I({J1[2],inst0_O}), .O(inst1_O));\n",
      "And2 inst2 (.I({J1[1],J1[0]}), .O(inst2_O));\n",
      "And2 inst3 (.I({J1[2],J1[1]}), .O(inst3_O));\n",
      "Or2 inst4 (.I({inst3_O,inst2_O}), .O(inst4_O));\n",
      "And2 inst5 (.I({J1[0],J1[2]}), .O(inst5_O));\n",
      "Or2 inst6 (.I({inst5_O,inst4_O}), .O(inst6_O));\n",
      "assign J3 = {inst1_O,inst1_O};\n",
      "endmodule\n",
      "\n",
      "\n"
     ]
    }
   ],
   "source": [
    "with open(\"build/fulladder.v\", \"r\") as full_adder_verilog:\n",
    "    print(full_adder_verilog.read())"
   ]
  },
  {
   "cell_type": "markdown",
   "metadata": {},
   "source": [
    "Show physical constraints file. FPGA pins are connected to headers J1 and J2."
   ]
  },
  {
   "cell_type": "code",
   "execution_count": 9,
   "metadata": {},
   "outputs": [
    {
     "name": "stdout",
     "output_type": "stream",
     "text": [
      "set_io J1[0] 112\n",
      "set_io J1[1] 113\n",
      "set_io J1[2] 114\n",
      "set_io J3[1] 61\n",
      "set_io J3[0] 62\n",
      "\n"
     ]
    }
   ],
   "source": [
    "with open(\"build/fulladder.pcf\", \"r\") as full_adder_verilog:\n",
    "    print(full_adder_verilog.read())"
   ]
  },
  {
   "cell_type": "code",
   "execution_count": null,
   "metadata": {
    "collapsed": true
   },
   "outputs": [],
   "source": []
  }
 ],
 "metadata": {
  "kernelspec": {
   "display_name": "Python 3",
   "language": "python",
   "name": "python3"
  },
  "language_info": {
   "codemirror_mode": {
    "name": "ipython",
    "version": 3
   },
   "file_extension": ".py",
   "mimetype": "text/x-python",
   "name": "python",
   "nbconvert_exporter": "python",
   "pygments_lexer": "ipython3",
   "version": "3.6.5"
  }
 },
 "nbformat": 4,
 "nbformat_minor": 2
}
