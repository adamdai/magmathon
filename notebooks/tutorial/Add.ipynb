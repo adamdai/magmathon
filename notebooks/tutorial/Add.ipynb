{
 "cells": [
  {
   "cell_type": "markdown",
   "metadata": {},
   "source": [
    "## Adder\n",
    "\n",
    "In this tutorial, we will construct a 2-bit adder."
   ]
  },
  {
   "cell_type": "code",
   "execution_count": 1,
   "metadata": {
    "collapsed": true,
    "scrolled": true
   },
   "outputs": [],
   "source": [
    "import magma as m\n",
    "m.set_mantle_target(\"ice40\")"
   ]
  },
  {
   "cell_type": "markdown",
   "metadata": {},
   "source": [
    "In the last example, we created a Python function that created a full adder. \n",
    "In this example, we are going to use the built-in `FullAdder` from `Mantle`, our standard library of useful circuits."
   ]
  },
  {
   "cell_type": "code",
   "execution_count": 2,
   "metadata": {},
   "outputs": [
    {
     "name": "stdout",
     "output_type": "stream",
     "text": [
      "import lattice ice40\n",
      "import lattice mantle40\n",
      "FullAdder [\"I0\", In(Bit), \"I1\", In(Bit), \"CIN\", In(Bit), \"O\", Out(Bit), \"COUT\", Out(Bit)]\n"
     ]
    }
   ],
   "source": [
    "from mantle import FullAdder\n",
    "\n",
    "print('{} [{}]'.format(str(FullAdder), str(FullAdder.interface)))"
   ]
  },
  {
   "cell_type": "markdown",
   "metadata": {},
   "source": [
    "Since we are using the ICE40, we need to set the target of `Mantle` to be the ICE40.\n",
    "\n",
    "After we import `FullAdder` we print out its *interface*. This tells us that the full adder has three inputs `I0`, `I1`, and `CIN`. Note that the type of these arguments are `In(Bit)`. \n",
    "In `Magma` all arguments on an interface must be *qualified* to be inputs or outputs. The function `In` convert a `Magma` type to an input. There are also two outputs `O` and `COUT`. Note that the type of these are `Out(Bit)`."
   ]
  },
  {
   "cell_type": "markdown",
   "metadata": {},
   "source": [
    "Now let's build a 2-bit adder using `FullAdder`. \n",
    "We will built a simple ripple carry adder by connecting the carry out of one full adder\n",
    "to the carry in of the next full adder.\n",
    "The resulting adder will accept as input a carry in,\n",
    "and generate a final carry out.\n",
    "\n",
    "![2-Bit Adder](logisim/adder.png)"
   ]
  },
  {
   "cell_type": "markdown",
   "metadata": {},
   "source": [
    "Here is a Python function that constructs the adder."
   ]
  },
  {
   "cell_type": "code",
   "execution_count": 3,
   "metadata": {
    "collapsed": true
   },
   "outputs": [],
   "source": [
    "def adder(A, B, Cin):\n",
    "    n = len(A)\n",
    "    C = []\n",
    "    Cout = Cin\n",
    "    for i in range(n):\n",
    "        fulladder = FullAdder()\n",
    "        m.wire(A[i], fulladder.I0)\n",
    "        m.wire(B[i], fulladder.I1)\n",
    "        m.wire(Cout, fulladder.CIN)\n",
    "        C.append(fulladder.O)\n",
    "        Cout = fulladder.COUT\n",
    "    return m.uint(C), Cout "
   ]
  },
  {
   "cell_type": "markdown",
   "metadata": {},
   "source": [
    "Note that we construct multiple instances of the full adder by calling `FullAdder()` inside the `for` loop. We also create a list of single bit outputs in the Python variable `C`. \n",
    "We then return this list converted to a `Magma` `Uint`. In addition to `Bits(n)`,\n",
    "`Magma` also has built in types `UInt(n)` and `SInt(n)` to represent unsigned and signed ints.\n",
    "`Magma` also has type conversion functions `bits`, `uint`, and `sint` to convert\n",
    "between different types. \n",
    "In this example, `m.uint(C)` converts the list of bits to a `UInt(len(C))`."
   ]
  },
  {
   "cell_type": "markdown",
   "metadata": {},
   "source": [
    "In order to run test the adder,\n",
    "we setup the IceStick board\n",
    "to have four inputs and 2 outputs.\n",
    "As before, `J1` will be used for inputs and `J3` for outputs."
   ]
  },
  {
   "cell_type": "code",
   "execution_count": 4,
   "metadata": {
    "collapsed": true
   },
   "outputs": [],
   "source": [
    "N = 2\n",
    "\n",
    "from loam.boards.icestick import IceStick\n",
    "\n",
    "icestick = IceStick()\n",
    "for i in range(N):\n",
    "    icestick.J1[i].input().on()\n",
    "    icestick.J1[i+N].input().on()\n",
    "    \n",
    "for i in range(N+1):\n",
    "    icestick.J3[i].output().on()"
   ]
  },
  {
   "cell_type": "code",
   "execution_count": 5,
   "metadata": {
    "collapsed": true
   },
   "outputs": [],
   "source": [
    "main = icestick.DefineMain()\n",
    "\n",
    "s, c = adder(main.J1[0:N], main.J1[N:N+N], 0)\n",
    "m.wire( s, main.J3[:N] )\n",
    "m.wire( c, main.J3[N] )\n",
    "\n",
    "m.EndDefine()"
   ]
  },
  {
   "cell_type": "code",
   "execution_count": 6,
   "metadata": {},
   "outputs": [
    {
     "name": "stdout",
     "output_type": "stream",
     "text": [
      "compiling FullAdder\n",
      "compiling main\n"
     ]
    }
   ],
   "source": [
    "m.compile('build/add', main, vendor=\"lattice\")"
   ]
  },
  {
   "cell_type": "code",
   "execution_count": 7,
   "metadata": {},
   "outputs": [
    {
     "name": "stdout",
     "output_type": "stream",
     "text": [
      "/Users/hanrahan/git/magmathon/notebooks/tutorial/build\n"
     ]
    },
    {
     "name": "stderr",
     "output_type": "stream",
     "text": [
      "init..\n",
      "cdone: high\n",
      "reset..\n",
      "cdone: low\n",
      "flash ID: 0x20 0xBA 0x16 0x10 0x00 0x00 0x23 0x51 0x73 0x10 0x23 0x00 0x15 0x00 0x26 0x06 0x06 0x15 0x9F 0x4E\n",
      "file size: 32220\n",
      "erase 64kB sector at 0x000000..\n",
      "programming..\n",
      "reading..\n",
      "VERIFY OK\n",
      "cdone: high\n",
      "Bye.\n"
     ]
    }
   ],
   "source": [
    "%%bash\n",
    "cd build\n",
    "yosys -q -p 'synth_ice40 -top main -blif add.blif' add.v\n",
    "arachne-pnr -q -d 1k -o add.txt -p add.pcf add.blif \n",
    "icepack add.txt add.bin\n",
    "iceprog add.bin"
   ]
  },
  {
   "cell_type": "markdown",
   "metadata": {},
   "source": [
    "You can test the program by connecting up some switches and LEDs to the headers. You should see the sum of the inputs displayed on the LEDs. First, we need to find out what pins `J1` and `J3` are wired up to. (Note: you can use `%` to execute shell commands inline in Jupyter notebooks)"
   ]
  },
  {
   "cell_type": "code",
   "execution_count": 8,
   "metadata": {},
   "outputs": [
    {
     "name": "stdout",
     "output_type": "stream",
     "text": [
      "set_io J1[0] 112\r\n",
      "set_io J1[1] 113\r\n",
      "set_io J1[2] 114\r\n",
      "set_io J1[3] 115\r\n",
      "set_io J3[2] 60\r\n",
      "set_io J3[1] 61\r\n",
      "set_io J3[0] 62\r\n"
     ]
    }
   ],
   "source": [
    "%cat build/add.pcf"
   ]
  },
  {
   "cell_type": "markdown",
   "metadata": {},
   "source": [
    "In this example, we have J1 wire up to the four switch/LED circuits on the left, and J3 wired up to the three LED (no switch) circuits on the right\n",
    "![](images/adder-seq/IMG_20180610_182758.jpg)\n",
    "![](images/adder-seq/IMG_20180610_182802.jpg)\n",
    "![](images/adder-seq/IMG_20180610_182806.jpg)\n",
    "![](images/adder-seq/IMG_20180610_182811.jpg)\n",
    "![](images/adder-seq/IMG_20180610_182819.jpg)\n",
    "![](images/adder-seq/IMG_20180610_182823.jpg)\n",
    "![](images/adder-seq/IMG_20180610_182827.jpg)"
   ]
  },
  {
   "cell_type": "code",
   "execution_count": null,
   "metadata": {
    "collapsed": true
   },
   "outputs": [],
   "source": []
  }
 ],
 "metadata": {
  "kernelspec": {
   "display_name": "Python 3",
   "language": "python",
   "name": "python3"
  },
  "language_info": {
   "codemirror_mode": {
    "name": "ipython",
    "version": 3
   },
   "file_extension": ".py",
   "mimetype": "text/x-python",
   "name": "python",
   "nbconvert_exporter": "python",
   "pygments_lexer": "ipython3",
   "version": "3.6.5"
  }
 },
 "nbformat": 4,
 "nbformat_minor": 2
}
