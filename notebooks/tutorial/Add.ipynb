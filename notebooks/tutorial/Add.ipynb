{
 "cells": [
  {
   "cell_type": "markdown",
   "metadata": {},
   "source": [
    "## Add\n",
    "\n",
    "In this tutorial, we will construct a 2-bit adder.\n",
    "\n",
    "Since we are using the ICE40, we need to set the target of `Mantle` to `\"ice40\"`."
   ]
  },
  {
   "cell_type": "code",
   "execution_count": 1,
   "metadata": {
    "scrolled": true
   },
   "outputs": [],
   "source": [
    "import magma as m\n",
    "m.set_mantle_target(\"ice40\")"
   ]
  },
  {
   "cell_type": "markdown",
   "metadata": {},
   "source": [
    "In the last example, we created a Python function that created a full adder. \n",
    "In this example, we are going to use the built-in `FullAdder` from `Mantle`, our standard library of useful circuits."
   ]
  },
  {
   "cell_type": "code",
   "execution_count": 2,
   "metadata": {},
   "outputs": [
    {
     "name": "stdout",
     "output_type": "stream",
     "text": [
      "import lattice ice40\n",
      "import lattice mantle40\n"
     ]
    }
   ],
   "source": [
    "from mantle import FullAdder"
   ]
  },
  {
   "cell_type": "markdown",
   "metadata": {},
   "source": [
    "We can print out the *interface* of the `FullAdder`."
   ]
  },
  {
   "cell_type": "code",
   "execution_count": 3,
   "metadata": {},
   "outputs": [
    {
     "name": "stdout",
     "output_type": "stream",
     "text": [
      "FullAdder [\"I0\", In(Bit), \"I1\", In(Bit), \"CIN\", In(Bit), \"O\", Out(Bit), \"COUT\", Out(Bit)]\n"
     ]
    }
   ],
   "source": [
    "print('{} [{}]'.format(str(FullAdder), str(FullAdder.interface)))"
   ]
  },
  {
   "cell_type": "markdown",
   "metadata": {},
   "source": [
    "This tells us that the full adder has three inputs `I0`, `I1`, and `CIN`. Note that the type of these arguments are `In(Bit)`. \n",
    "In `Magma` all arguments on an interface must be *qualified* to be inputs or outputs. The function `In` convert a `Magma` type to an input. There are also two outputs `O` and `COUT`, both with type `Out(Bit)`."
   ]
  },
  {
   "cell_type": "markdown",
   "metadata": {},
   "source": [
    "Now let's build a 2-bit adder using `FullAdder`. \n",
    "We'll use a simple ripple carry adder design by connecting the carry out of one full adder\n",
    "to the carry in of the next full adder.\n",
    "The resulting adder will accept as input a carry in,\n",
    "and generate a final carry out. Here's a diagram of the circuit we will construct:\n",
    "\n",
    "![2-Bit Adder](logisim/adder.png)"
   ]
  },
  {
   "cell_type": "markdown",
   "metadata": {},
   "source": [
    "Here is a Python function that constructs the adder."
   ]
  },
  {
   "cell_type": "code",
   "execution_count": 4,
   "metadata": {
    "collapsed": true
   },
   "outputs": [],
   "source": [
    "def adder(A, B, Cin):\n",
    "    n = len(A)\n",
    "    C = []\n",
    "    Cout = Cin\n",
    "    for i in range(n):\n",
    "        fulladder = FullAdder()\n",
    "        m.wire(A[i], fulladder.I0)\n",
    "        m.wire(B[i], fulladder.I1)\n",
    "        m.wire(Cout, fulladder.CIN)\n",
    "        C.append(fulladder.O)\n",
    "        Cout = fulladder.COUT\n",
    "    return m.uint(C), Cout "
   ]
  },
  {
   "cell_type": "markdown",
   "metadata": {},
   "source": [
    "We construct multiple instances of the full adder by calling `FullAdder()` inside the `for` loop. We also create a list of single bit outputs in the Python variable `C`. \n",
    "We then return this list converted to a `Magma` `Uint`. In addition to `Bits(n)`,\n",
    "`Magma` also has built in types `UInt(n)` and `SInt(n)` to represent unsigned and signed ints.\n",
    "`Magma` also has type conversion functions `bits`, `uint`, and `sint` to convert\n",
    "between different types. \n",
    "In this example, `m.uint(C)` converts the list of bits to a `UInt(len(C))`."
   ]
  },
  {
   "cell_type": "markdown",
   "metadata": {},
   "source": [
    "In order to test the adder,\n",
    "we setup the IceStick board\n",
    "to have four inputs and 2 outputs.\n",
    "As before, `J1` will be used for inputs and `J3` for outputs."
   ]
  },
  {
   "cell_type": "code",
   "execution_count": 5,
   "metadata": {},
   "outputs": [
    {
     "name": "stderr",
     "output_type": "stream",
     "text": [
      "--- Logging error ---\n",
      "Traceback (most recent call last):\n",
      "  File \"/Users/lenny/miniconda3/lib/python3.6/logging/__init__.py\", line 992, in emit\n",
      "    msg = self.format(record)\n",
      "  File \"/Users/lenny/miniconda3/lib/python3.6/logging/__init__.py\", line 838, in format\n",
      "    return fmt.format(record)\n",
      "  File \"/Users/lenny/miniconda3/lib/python3.6/logging/__init__.py\", line 575, in format\n",
      "    record.message = record.getMessage()\n",
      "  File \"/Users/lenny/miniconda3/lib/python3.6/logging/__init__.py\", line 338, in getMessage\n",
      "    msg = msg % self.args\n",
      "TypeError: not all arguments converted during string formatting\n",
      "Call stack:\n",
      "  File \"/Users/lenny/miniconda3/lib/python3.6/runpy.py\", line 193, in _run_module_as_main\n",
      "    \"__main__\", mod_spec)\n",
      "  File \"/Users/lenny/miniconda3/lib/python3.6/runpy.py\", line 85, in _run_code\n",
      "    exec(code, run_globals)\n",
      "  File \"/Users/lenny/miniconda3/lib/python3.6/site-packages/ipykernel_launcher.py\", line 16, in <module>\n",
      "    app.launch_new_instance()\n",
      "  File \"/Users/lenny/miniconda3/lib/python3.6/site-packages/traitlets/config/application.py\", line 658, in launch_instance\n",
      "    app.start()\n",
      "  File \"/Users/lenny/miniconda3/lib/python3.6/site-packages/ipykernel/kernelapp.py\", line 477, in start\n",
      "    ioloop.IOLoop.instance().start()\n",
      "  File \"/Users/lenny/miniconda3/lib/python3.6/site-packages/zmq/eventloop/ioloop.py\", line 177, in start\n",
      "    super(ZMQIOLoop, self).start()\n",
      "  File \"/Users/lenny/miniconda3/lib/python3.6/site-packages/tornado/ioloop.py\", line 888, in start\n",
      "    handler_func(fd_obj, events)\n",
      "  File \"/Users/lenny/miniconda3/lib/python3.6/site-packages/tornado/stack_context.py\", line 277, in null_wrapper\n",
      "    return fn(*args, **kwargs)\n",
      "  File \"/Users/lenny/miniconda3/lib/python3.6/site-packages/zmq/eventloop/zmqstream.py\", line 440, in _handle_events\n",
      "    self._handle_recv()\n",
      "  File \"/Users/lenny/miniconda3/lib/python3.6/site-packages/zmq/eventloop/zmqstream.py\", line 472, in _handle_recv\n",
      "    self._run_callback(callback, msg)\n",
      "  File \"/Users/lenny/miniconda3/lib/python3.6/site-packages/zmq/eventloop/zmqstream.py\", line 414, in _run_callback\n",
      "    callback(*args, **kwargs)\n",
      "  File \"/Users/lenny/miniconda3/lib/python3.6/site-packages/tornado/stack_context.py\", line 277, in null_wrapper\n",
      "    return fn(*args, **kwargs)\n",
      "  File \"/Users/lenny/miniconda3/lib/python3.6/site-packages/ipykernel/kernelbase.py\", line 283, in dispatcher\n",
      "    return self.dispatch_shell(stream, msg)\n",
      "  File \"/Users/lenny/miniconda3/lib/python3.6/site-packages/ipykernel/kernelbase.py\", line 235, in dispatch_shell\n",
      "    handler(stream, idents, msg)\n",
      "  File \"/Users/lenny/miniconda3/lib/python3.6/site-packages/ipykernel/kernelbase.py\", line 399, in execute_request\n",
      "    user_expressions, allow_stdin)\n",
      "  File \"/Users/lenny/miniconda3/lib/python3.6/site-packages/ipykernel/ipkernel.py\", line 196, in do_execute\n",
      "    res = shell.run_cell(code, store_history=store_history, silent=silent)\n",
      "  File \"/Users/lenny/miniconda3/lib/python3.6/site-packages/ipykernel/zmqshell.py\", line 533, in run_cell\n",
      "    return super(ZMQInteractiveShell, self).run_cell(*args, **kwargs)\n",
      "  File \"/Users/lenny/miniconda3/lib/python3.6/site-packages/IPython/core/interactiveshell.py\", line 2698, in run_cell\n",
      "    interactivity=interactivity, compiler=compiler, result=result)\n",
      "  File \"/Users/lenny/miniconda3/lib/python3.6/site-packages/IPython/core/interactiveshell.py\", line 2802, in run_ast_nodes\n",
      "    if self.run_code(code, result):\n",
      "  File \"/Users/lenny/miniconda3/lib/python3.6/site-packages/IPython/core/interactiveshell.py\", line 2862, in run_code\n",
      "    exec(code_obj, self.user_global_ns, self.user_ns)\n",
      "  File \"<ipython-input-5-c2bedb629d6e>\", line 3, in <module>\n",
      "    from loam.boards.icestick import IceStick\n",
      "  File \"<frozen importlib._bootstrap>\", line 971, in _find_and_load\n",
      "  File \"<frozen importlib._bootstrap>\", line 955, in _find_and_load_unlocked\n",
      "  File \"<frozen importlib._bootstrap>\", line 665, in _load_unlocked\n",
      "  File \"<frozen importlib._bootstrap_external>\", line 678, in exec_module\n",
      "  File \"<frozen importlib._bootstrap>\", line 219, in _call_with_frames_removed\n",
      "  File \"/Users/lenny/google_drive/repos/magmathon/loam/loam/boards/icestick.py\", line 2, in <module>\n",
      "    set_mantle_target(\"ice40\")\n",
      "  File \"/Users/lenny/google_drive/repos/magmathon/magma/magma/__init__.py\", line 47, in set_mantle_target\n",
      "    warning('setting mantle target again', mantle_target, t )\n",
      "  File \"/Users/lenny/google_drive/repos/magmathon/magma/magma/logging.py\", line 33, in warning\n",
      "    log.warning(message, *args, **kwargs)\n",
      "Message: 'setting mantle target again'\n",
      "Arguments: ('ice40', 'ice40')\n"
     ]
    }
   ],
   "source": [
    "N = 2\n",
    "\n",
    "from loam.boards.icestick import IceStick\n",
    "\n",
    "icestick = IceStick()\n",
    "for i in range(N):\n",
    "    icestick.J1[i].input().on()\n",
    "    icestick.J1[i+N].input().on()\n",
    "    \n",
    "for i in range(N+1):\n",
    "    icestick.J3[i].output().on()"
   ]
  },
  {
   "cell_type": "markdown",
   "metadata": {},
   "source": [
    "We define a `main` function that instances our 2-bit adder and wires it up to `J1` and `J3`. Notice the use of Python's slicing syntax using our width variable `N`."
   ]
  },
  {
   "cell_type": "code",
   "execution_count": 6,
   "metadata": {
    "collapsed": true
   },
   "outputs": [],
   "source": [
    "main = icestick.DefineMain()\n",
    "\n",
    "_sum, cout = adder(main.J1[0:N], main.J1[N:N+N], 0)\n",
    "m.wire( _sum, main.J3[:N] )\n",
    "m.wire( cout, main.J3[N] )\n",
    "\n",
    "m.EndDefine()"
   ]
  },
  {
   "cell_type": "markdown",
   "metadata": {},
   "source": [
    "As before, we compile with the `\"lattice\"` vendor."
   ]
  },
  {
   "cell_type": "code",
   "execution_count": 7,
   "metadata": {},
   "outputs": [
    {
     "name": "stdout",
     "output_type": "stream",
     "text": [
      "compiling FullAdder\n",
      "compiling main\n"
     ]
    }
   ],
   "source": [
    "m.compile('build/add', main, vendor=\"lattice\")"
   ]
  },
  {
   "cell_type": "markdown",
   "metadata": {},
   "source": [
    "And use our `yosys`, `arcachne-pnr`, and `icestorm` tool flow."
   ]
  },
  {
   "cell_type": "code",
   "execution_count": 8,
   "metadata": {},
   "outputs": [
    {
     "name": "stderr",
     "output_type": "stream",
     "text": [
      "init..\n",
      "cdone: high\n",
      "reset..\n",
      "cdone: low\n",
      "flash ID: 0x20 0xBA 0x16 0x10 0x00 0x00 0x23 0x51 0x73 0x10 0x23 0x00 0x35 0x00 0x35 0x06 0x06 0x15 0x43 0xB6\n",
      "file size: 32220\n",
      "erase 64kB sector at 0x000000..\n",
      "programming..\n",
      "reading..\n",
      "VERIFY OK\n",
      "cdone: high\n",
      "Bye.\n"
     ]
    }
   ],
   "source": [
    "%%bash\n",
    "cd build\n",
    "yosys -q -p 'synth_ice40 -top main -blif add.blif' add.v\n",
    "arachne-pnr -q -d 1k -o add.txt -p add.pcf add.blif \n",
    "icepack add.txt add.bin\n",
    "iceprog add.bin"
   ]
  },
  {
   "cell_type": "markdown",
   "metadata": {},
   "source": [
    "You can test the program by connecting up some switches and LEDs to the headers. You should see the sum of the inputs displayed on the LEDs. First, we need to find out what pins `J1` and `J3` are wired up to. (Note: you can use `%` to execute shell commands inline in Jupyter notebooks)"
   ]
  },
  {
   "cell_type": "code",
   "execution_count": 9,
   "metadata": {},
   "outputs": [
    {
     "name": "stdout",
     "output_type": "stream",
     "text": [
      "set_io J1[0] 112\r\n",
      "set_io J1[1] 113\r\n",
      "set_io J1[2] 114\r\n",
      "set_io J1[3] 115\r\n",
      "set_io J3[2] 60\r\n",
      "set_io J3[1] 61\r\n",
      "set_io J3[0] 62\r\n"
     ]
    }
   ],
   "source": [
    "%cat build/add.pcf"
   ]
  },
  {
   "cell_type": "markdown",
   "metadata": {},
   "source": [
    "In this example, we have J1 wire up to the four switch/LED circuits on the left, and J3 wired up to the three LED (no switch) circuits on the right\n",
    "![](images/adder-seq/IMG_20180610_182758.jpg)\n",
    "![](images/adder-seq/IMG_20180610_182802.jpg)\n",
    "![](images/adder-seq/IMG_20180610_182806.jpg)\n",
    "![](images/adder-seq/IMG_20180610_182811.jpg)\n",
    "![](images/adder-seq/IMG_20180610_182819.jpg)\n",
    "![](images/adder-seq/IMG_20180610_182823.jpg)\n",
    "![](images/adder-seq/IMG_20180610_182827.jpg)"
   ]
  },
  {
   "cell_type": "markdown",
   "metadata": {},
   "source": [
    "Again, it can be useful to examine the compiled Verilog.\n",
    "\n",
    "Notice that it includes a Verilog definition of the `mantle` `FullAdder` implemented using the `SB_LUT4` and `SB_CARRY` primtives. The `main` module instances two `FullAdder`s and wires them up. It's quite simple."
   ]
  },
  {
   "cell_type": "code",
   "execution_count": 10,
   "metadata": {},
   "outputs": [
    {
     "name": "stdout",
     "output_type": "stream",
     "text": [
      "module FullAdder (input  I0, input  I1, input  CIN, output  O, output  COUT);\r\n",
      "wire  inst0_O;\r\n",
      "wire  inst1_CO;\r\n",
      "SB_LUT4 #(.LUT_INIT(16'h9696)) inst0 (.I0(I0), .I1(I1), .I2(CIN), .I3(1'b0), .O(inst0_O));\r\n",
      "SB_CARRY inst1 (.I0(I0), .I1(I1), .CI(CIN), .CO(inst1_CO));\r\n",
      "assign O = inst0_O;\r\n",
      "assign COUT = inst1_CO;\r\n",
      "endmodule\r\n",
      "\r\n",
      "module main (input [3:0] J1, output [2:0] J3);\r\n",
      "wire  inst0_O;\r\n",
      "wire  inst0_COUT;\r\n",
      "wire  inst1_O;\r\n",
      "wire  inst1_COUT;\r\n",
      "FullAdder inst0 (.I0(J1[0]), .I1(J1[2]), .CIN(1'b0), .O(inst0_O), .COUT(inst0_COUT));\r\n",
      "FullAdder inst1 (.I0(J1[1]), .I1(J1[3]), .CIN(inst0_COUT), .O(inst1_O), .COUT(inst1_COUT));\r\n",
      "assign J3 = {inst1_COUT,inst1_O,inst0_O};\r\n",
      "endmodule\r\n",
      "\r\n"
     ]
    }
   ],
   "source": [
    "%cat build/add.v"
   ]
  }
 ],
 "metadata": {
  "kernelspec": {
   "display_name": "Python 3",
   "language": "python",
   "name": "python3"
  },
  "language_info": {
   "codemirror_mode": {
    "name": "ipython",
    "version": 3
   },
   "file_extension": ".py",
   "mimetype": "text/x-python",
   "name": "python",
   "nbconvert_exporter": "python",
   "pygments_lexer": "ipython3",
   "version": "3.6.5"
  }
 },
 "nbformat": 4,
 "nbformat_minor": 2
}
