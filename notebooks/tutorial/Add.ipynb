{
 "cells": [
  {
   "cell_type": "markdown",
   "metadata": {},
   "source": [
    "## Add\n",
    "\n",
    "In this tutorial, we will construct a 2-bit adder from 2 full adders.\n",
    "\n",
    "Since we are using the ICE40, we need to set the target of `Mantle` to `\"ice40\"`."
   ]
  },
  {
   "cell_type": "code",
   "execution_count": 1,
   "metadata": {
    "scrolled": true
   },
   "outputs": [],
   "source": [
    "import magma as m\n",
    "m.set_mantle_target(\"ice40\")"
   ]
  },
  {
   "cell_type": "markdown",
   "metadata": {},
   "source": [
    "In the last example, we defined a Python function that created a full adder. \n",
    "In this example, we are going to use the built-in `FullAdder` from `Mantle`, \n",
    "our standard library of useful circuits."
   ]
  },
  {
   "cell_type": "code",
   "execution_count": 2,
   "metadata": {},
   "outputs": [
    {
     "name": "stdout",
     "output_type": "stream",
     "text": [
      "import lattice ice40\n",
      "import lattice mantle40\n"
     ]
    }
   ],
   "source": [
    "from mantle import FullAdder"
   ]
  },
  {
   "cell_type": "markdown",
   "metadata": {},
   "source": [
    "We can print out the *interface* of the `FullAdder`."
   ]
  },
  {
   "cell_type": "code",
   "execution_count": 3,
   "metadata": {},
   "outputs": [
    {
     "name": "stdout",
     "output_type": "stream",
     "text": [
      "FullAdder(I0: In(Bit), I1: In(Bit), CIN: In(Bit), O: Out(Bit), COUT: Out(Bit))\n"
     ]
    }
   ],
   "source": [
    "print(FullAdder)"
   ]
  },
  {
   "cell_type": "markdown",
   "metadata": {},
   "source": [
    "This tells us that the full adder has three inputs `I0`, `I1`, and `CIN`. Note that the type of these arguments are `In(Bit)`. \n",
    "In `Magma` all arguments in the circuit interface must be *qualified* to be inputs or outputs. The function `In` convert a `Magma` type to an input. There are also two outputs `O` and `COUT`, both with type `Out(Bit)`."
   ]
  },
  {
   "cell_type": "markdown",
   "metadata": {},
   "source": [
    "Before testing hhe full adder on the `IceStick` board,\n",
    "let's test it using a simulator."
   ]
  },
  {
   "cell_type": "code",
   "execution_count": 4,
   "metadata": {},
   "outputs": [
    {
     "name": "stdout",
     "output_type": "stream",
     "text": [
      "Success!\n"
     ]
    }
   ],
   "source": [
    "from magma.simulator import PythonSimulator\n",
    "\n",
    "fulladder = PythonSimulator(FullAdder)\n",
    "\n",
    "assert fulladder(1, 0, 0) == (1, 0), \"Failed\"\n",
    "assert fulladder(0, 1, 0) == (1, 0), \"Failed\"\n",
    "assert fulladder(1, 1, 0) == (0, 1), \"Failed\"\n",
    "assert fulladder(1, 0, 1) == (0, 1), \"Failed\"\n",
    "assert fulladder(1, 1, 1) == (1, 1), \"Failed\"\n",
    "print(\"Success!\")"
   ]
  },
  {
   "cell_type": "markdown",
   "metadata": {},
   "source": [
    "Now let's build a 2-bit adder using `FullAdder`. \n",
    "We'll use a simple ripple carry adder design by connecting the carry out of one full adder\n",
    "to the carry in of the next full adder.\n",
    "The resulting adder will accept as input a carry in,\n",
    "and generate a final carry out. Here's a diagram of the circuit we will construct:\n",
    "\n",
    "![2-Bit Adder](logisim/adder.png)"
   ]
  },
  {
   "cell_type": "markdown",
   "metadata": {},
   "source": [
    "Here is a Python function that constructs the adder."
   ]
  },
  {
   "cell_type": "code",
   "execution_count": 5,
   "metadata": {},
   "outputs": [],
   "source": [
    "def adder(A, B, Cin):\n",
    "    n = len(A)\n",
    "    C = []\n",
    "    Cout = Cin\n",
    "    for i in range(n):\n",
    "        fulladder = FullAdder()\n",
    "        m.wire(A[i], fulladder.I0)\n",
    "        m.wire(B[i], fulladder.I1)\n",
    "        m.wire(Cout, fulladder.CIN)\n",
    "        C.append(fulladder.O)\n",
    "        Cout = fulladder.COUT\n",
    "    return m.uint(C), Cout "
   ]
  },
  {
   "cell_type": "markdown",
   "metadata": {},
   "source": [
    "We construct multiple instances of the full adder by calling `FullAdder()` inside the `for` loop. We also create a list of single bit outputs in the Python variable `C`. \n",
    "We then return this list converted to a `Magma` `Uint`. In addition to `Bits(n)`,\n",
    "`Magma` also has built in types `UInt(n)` and `SInt(n)` to represent unsigned and signed ints.\n",
    "`Magma` also has type conversion functions `bits`, `uint`, and `sint` to convert\n",
    "between different types. \n",
    "In this example, `m.uint(C)` converts the list of bits to a `UInt(len(C))`."
   ]
  },
  {
   "cell_type": "markdown",
   "metadata": {},
   "source": [
    "In order to test the adder,\n",
    "we setup the IceStick board\n",
    "to have four inputs and 2 outputs.\n",
    "As before, `J1` will be used for inputs and `J3` for outputs."
   ]
  },
  {
   "cell_type": "code",
   "execution_count": 6,
   "metadata": {},
   "outputs": [],
   "source": [
    "N = 2\n",
    "\n",
    "from loam.boards.icestick import IceStick\n",
    "\n",
    "icestick = IceStick()\n",
    "for i in range(N):\n",
    "    icestick.J1[i].input().on()\n",
    "    icestick.J1[i+N].input().on()\n",
    "    \n",
    "for i in range(N+1):\n",
    "    icestick.J3[i].output().on()"
   ]
  },
  {
   "cell_type": "markdown",
   "metadata": {},
   "source": [
    "We define a `main` function that instances our 2-bit adder and wires it up to `J1` and `J3`. Notice the use of Python's slicing syntax using our width variable `N`."
   ]
  },
  {
   "cell_type": "code",
   "execution_count": 7,
   "metadata": {},
   "outputs": [],
   "source": [
    "main = icestick.DefineMain()\n",
    "\n",
    "_sum, cout = adder(main.J1[0:N], main.J1[N:N+N], 0)\n",
    "m.wire( _sum, main.J3[:N] )\n",
    "m.wire( cout, main.J3[N] )\n",
    "\n",
    "m.EndDefine()"
   ]
  },
  {
   "cell_type": "markdown",
   "metadata": {},
   "source": [
    "As before, we compile."
   ]
  },
  {
   "cell_type": "code",
   "execution_count": 8,
   "metadata": {},
   "outputs": [
    {
     "name": "stdout",
     "output_type": "stream",
     "text": [
      "compiling FullAdder\n",
      "compiling main\n"
     ]
    }
   ],
   "source": [
    "m.compile('build/add', main)"
   ]
  },
  {
   "cell_type": "markdown",
   "metadata": {},
   "source": [
    "And use our `yosys`, `arcachne-pnr`, and `icestorm` tool flow."
   ]
  },
  {
   "cell_type": "code",
   "execution_count": 9,
   "metadata": {},
   "outputs": [
    {
     "name": "stdout",
     "output_type": "stream",
     "text": [
      "/Users/hanrahan/git/magmathon/notebooks/tutorial/build\n"
     ]
    },
    {
     "name": "stderr",
     "output_type": "stream",
     "text": [
      "init..\n",
      "Can't find iCE FTDI USB device (vendor_id 0x0403, device_id 0x6010 or 0x6014).\n",
      "ABORT.\n"
     ]
    }
   ],
   "source": [
    "%%bash\n",
    "cd build\n",
    "yosys -q -p 'synth_ice40 -top main -blif add.blif' add.v\n",
    "arachne-pnr -q -d 1k -o add.txt -p add.pcf add.blif \n",
    "icepack add.txt add.bin\n",
    "iceprog add.bin"
   ]
  },
  {
   "cell_type": "markdown",
   "metadata": {},
   "source": [
    "You can test the program by connecting up some switches and LEDs to the headers. You should see the sum of the inputs displayed on the LEDs. First, we need to find out what pins `J1` and `J3` are wired up to. (Note: you can use `%` to execute shell commands inline in Jupyter notebooks)"
   ]
  },
  {
   "cell_type": "code",
   "execution_count": 10,
   "metadata": {},
   "outputs": [
    {
     "name": "stdout",
     "output_type": "stream",
     "text": [
      "set_io J1[0] 112\r\n",
      "set_io J1[1] 113\r\n",
      "set_io J1[2] 114\r\n",
      "set_io J1[3] 115\r\n",
      "set_io J3[2] 60\r\n",
      "set_io J3[1] 61\r\n",
      "set_io J3[0] 62\r\n"
     ]
    }
   ],
   "source": [
    "%cat build/add.pcf"
   ]
  },
  {
   "cell_type": "markdown",
   "metadata": {},
   "source": [
    "In this example, we have J1 wire up to the four switch/LED circuits on the left, and J3 wired up to the three LED (no switch) circuits on the right\n",
    "![](images/adder-seq/IMG_20180610_182758.jpg)\n",
    "![](images/adder-seq/IMG_20180610_182802.jpg)\n",
    "![](images/adder-seq/IMG_20180610_182806.jpg)\n",
    "![](images/adder-seq/IMG_20180610_182811.jpg)\n",
    "![](images/adder-seq/IMG_20180610_182819.jpg)\n",
    "![](images/adder-seq/IMG_20180610_182823.jpg)\n",
    "![](images/adder-seq/IMG_20180610_182827.jpg)"
   ]
  },
  {
   "cell_type": "markdown",
   "metadata": {},
   "source": [
    "Again, it can be useful to examine the compiled Verilog.\n",
    "\n",
    "Notice that it includes a Verilog definition of the `mantle` `FullAdder` implemented using the `SB_LUT4` and `SB_CARRY` primtives. The `main` module instances two `FullAdder`s and wires them up. "
   ]
  },
  {
   "cell_type": "code",
   "execution_count": 11,
   "metadata": {},
   "outputs": [
    {
     "name": "stdout",
     "output_type": "stream",
     "text": [
      "module FullAdder (input  I0, input  I1, input  CIN, output  O, output  COUT);\r\n",
      "wire  inst0_O;\r\n",
      "wire  inst1_CO;\r\n",
      "SB_LUT4 #(.LUT_INIT(16'h9696)) inst0 (.I0(I0), .I1(I1), .I2(CIN), .I3(1'b0), .O(inst0_O));\r\n",
      "SB_CARRY inst1 (.I0(I0), .I1(I1), .CI(CIN), .CO(inst1_CO));\r\n",
      "assign O = inst0_O;\r\n",
      "assign COUT = inst1_CO;\r\n",
      "endmodule\r\n",
      "\r\n",
      "module main (input [3:0] J1, output [2:0] J3);\r\n",
      "wire  inst0_O;\r\n",
      "wire  inst0_COUT;\r\n",
      "wire  inst1_O;\r\n",
      "wire  inst1_COUT;\r\n",
      "FullAdder inst0 (.I0(J1[0]), .I1(J1[2]), .CIN(1'b0), .O(inst0_O), .COUT(inst0_COUT));\r\n",
      "FullAdder inst1 (.I0(J1[1]), .I1(J1[3]), .CIN(inst0_COUT), .O(inst1_O), .COUT(inst1_COUT));\r\n",
      "assign J3 = {inst1_COUT,inst1_O,inst0_O};\r\n",
      "endmodule\r\n",
      "\r\n"
     ]
    }
   ],
   "source": [
    "%cat build/add.v"
   ]
  },
  {
   "cell_type": "markdown",
   "metadata": {},
   "source": [
    "You can also display the circuit using `graphviz`."
   ]
  },
  {
   "cell_type": "code",
   "execution_count": 12,
   "metadata": {},
   "outputs": [
    {
     "data": {
      "text/html": [
       "<?xml version=\"1.0\" encoding=\"UTF-8\" standalone=\"no\"?>\n",
       "<!DOCTYPE svg PUBLIC \"-//W3C//DTD SVG 1.1//EN\"\n",
       " \"http://www.w3.org/Graphics/SVG/1.1/DTD/svg11.dtd\">\n",
       "<!-- Generated by graphviz version 2.40.1 (20161225.0304)\n",
       " -->\n",
       "<!-- Title: FullAdder Pages: 1 -->\n",
       "<svg width=\"505pt\" height=\"274pt\"\n",
       " viewBox=\"0.00 0.00 504.96 273.96\" xmlns=\"http://www.w3.org/2000/svg\" xmlns:xlink=\"http://www.w3.org/1999/xlink\">\n",
       "<g id=\"graph0\" class=\"graph\" transform=\"scale(1 1) rotate(0) translate(4 269.9558)\">\n",
       "<title>FullAdder</title>\n",
       "<polygon fill=\"#ffffff\" stroke=\"transparent\" points=\"-4,4 -4,-269.9558 500.9601,-269.9558 500.9601,4 -4,4\"/>\n",
       "<text text-anchor=\"middle\" x=\"248.48\" y=\"-6.8\" font-family=\"Times,serif\" font-size=\"14.00\" fill=\"#000000\">FullAdder(I0: In(Bit), I1: In(Bit), CIN: In(Bit), O: Out(Bit), COUT: Out(Bit))</text>\n",
       "<!-- I0 -->\n",
       "<g id=\"node1\" class=\"node\">\n",
       "<title>I0</title>\n",
       "<ellipse fill=\"none\" stroke=\"#000000\" cx=\"44.8598\" cy=\"-240.5\" rx=\"44.7201\" ry=\"25.4118\"/>\n",
       "<text text-anchor=\"middle\" x=\"44.8598\" y=\"-243.3\" font-family=\"Times,serif\" font-size=\"14.00\" fill=\"#000000\">I0</text>\n",
       "<text text-anchor=\"middle\" x=\"44.8598\" y=\"-229.3\" font-family=\"Times,serif\" font-size=\"14.00\" fill=\"#000000\">Out(Bit)</text>\n",
       "</g>\n",
       "<!-- inst0 -->\n",
       "<g id=\"node8\" class=\"node\">\n",
       "<title>inst0</title>\n",
       "<polygon fill=\"none\" stroke=\"#000000\" points=\"138.185,-69.5 138.185,-157.5 266.2954,-157.5 266.2954,-69.5 138.185,-69.5\"/>\n",
       "<text text-anchor=\"middle\" x=\"152.0161\" y=\"-142.3\" font-family=\"Times,serif\" font-size=\"14.00\" fill=\"#000000\">I0</text>\n",
       "<polyline fill=\"none\" stroke=\"#000000\" points=\"138.185,-135.5 165.8471,-135.5 \"/>\n",
       "<text text-anchor=\"middle\" x=\"152.0161\" y=\"-120.3\" font-family=\"Times,serif\" font-size=\"14.00\" fill=\"#000000\">I1</text>\n",
       "<polyline fill=\"none\" stroke=\"#000000\" points=\"138.185,-113.5 165.8471,-113.5 \"/>\n",
       "<text text-anchor=\"middle\" x=\"152.0161\" y=\"-98.3\" font-family=\"Times,serif\" font-size=\"14.00\" fill=\"#000000\">I2</text>\n",
       "<polyline fill=\"none\" stroke=\"#000000\" points=\"138.185,-91.5 165.8471,-91.5 \"/>\n",
       "<text text-anchor=\"middle\" x=\"152.0161\" y=\"-76.3\" font-family=\"Times,serif\" font-size=\"14.00\" fill=\"#000000\">I3</text>\n",
       "<polyline fill=\"none\" stroke=\"#000000\" points=\"165.8471,-69.5 165.8471,-157.5 \"/>\n",
       "<text text-anchor=\"middle\" x=\"203.0161\" y=\"-116.3\" font-family=\"Times,serif\" font-size=\"14.00\" fill=\"#000000\">lut (inst0)</text>\n",
       "<text text-anchor=\"middle\" x=\"203.0161\" y=\"-102.3\" font-family=\"Times,serif\" font-size=\"14.00\" fill=\"#000000\">SB_LUT4</text>\n",
       "<polyline fill=\"none\" stroke=\"#000000\" points=\"240.185,-69.5 240.185,-157.5 \"/>\n",
       "<text text-anchor=\"middle\" x=\"253.2402\" y=\"-109.3\" font-family=\"Times,serif\" font-size=\"14.00\" fill=\"#000000\">O</text>\n",
       "</g>\n",
       "<!-- I0&#45;&gt;inst0 -->\n",
       "<g id=\"edge1\" class=\"edge\">\n",
       "<title>I0&#45;&gt;inst0:I0</title>\n",
       "<path fill=\"none\" stroke=\"#000000\" d=\"M72.7041,-220.319C78.5281,-215.679 84.4849,-210.602 89.7197,-205.5 111.2785,-184.488 106.06,-154.3495 128.2714,-147.7909\"/>\n",
       "<polygon fill=\"#000000\" stroke=\"#000000\" points=\"128.7725,-151.2553 138.2402,-146.5 127.8735,-144.3133 128.7725,-151.2553\"/>\n",
       "</g>\n",
       "<!-- inst1 -->\n",
       "<g id=\"node10\" class=\"node\">\n",
       "<title>inst1</title>\n",
       "<polygon fill=\"none\" stroke=\"#000000\" points=\"125.7197,-176.5 125.7197,-242.5 278.7607,-242.5 278.7607,-176.5 125.7197,-176.5\"/>\n",
       "<text text-anchor=\"middle\" x=\"140.7197\" y=\"-227.3\" font-family=\"Times,serif\" font-size=\"14.00\" fill=\"#000000\">I0</text>\n",
       "<polyline fill=\"none\" stroke=\"#000000\" points=\"125.7197,-220.5 155.7197,-220.5 \"/>\n",
       "<text text-anchor=\"middle\" x=\"140.7197\" y=\"-205.3\" font-family=\"Times,serif\" font-size=\"14.00\" fill=\"#000000\">I1</text>\n",
       "<polyline fill=\"none\" stroke=\"#000000\" points=\"125.7197,-198.5 155.7197,-198.5 \"/>\n",
       "<text text-anchor=\"middle\" x=\"140.7197\" y=\"-183.3\" font-family=\"Times,serif\" font-size=\"14.00\" fill=\"#000000\">CI</text>\n",
       "<polyline fill=\"none\" stroke=\"#000000\" points=\"155.7197,-176.5 155.7197,-242.5 \"/>\n",
       "<text text-anchor=\"middle\" x=\"199.5161\" y=\"-212.3\" font-family=\"Times,serif\" font-size=\"14.00\" fill=\"#000000\">carry (inst1)</text>\n",
       "<text text-anchor=\"middle\" x=\"199.5161\" y=\"-198.3\" font-family=\"Times,serif\" font-size=\"14.00\" fill=\"#000000\">SB_CARRY</text>\n",
       "<polyline fill=\"none\" stroke=\"#000000\" points=\"243.3125,-176.5 243.3125,-242.5 \"/>\n",
       "<text text-anchor=\"middle\" x=\"261.0366\" y=\"-205.3\" font-family=\"Times,serif\" font-size=\"14.00\" fill=\"#000000\">CO</text>\n",
       "</g>\n",
       "<!-- I0&#45;&gt;inst1 -->\n",
       "<g id=\"edge6\" class=\"edge\">\n",
       "<title>I0&#45;&gt;inst1:I0</title>\n",
       "<path fill=\"none\" stroke=\"#000000\" d=\"M88.4045,-233.8646C97.1644,-232.8845 106.481,-232.0804 115.5801,-231.7139\"/>\n",
       "<polygon fill=\"#000000\" stroke=\"#000000\" points=\"115.7958,-235.2102 125.7197,-231.5 115.6481,-228.2118 115.7958,-235.2102\"/>\n",
       "</g>\n",
       "<!-- I1 -->\n",
       "<g id=\"node2\" class=\"node\">\n",
       "<title>I1</title>\n",
       "<ellipse fill=\"none\" stroke=\"#000000\" cx=\"44.8598\" cy=\"-171.5\" rx=\"44.7201\" ry=\"25.4118\"/>\n",
       "<text text-anchor=\"middle\" x=\"44.8598\" y=\"-174.3\" font-family=\"Times,serif\" font-size=\"14.00\" fill=\"#000000\">I1</text>\n",
       "<text text-anchor=\"middle\" x=\"44.8598\" y=\"-160.3\" font-family=\"Times,serif\" font-size=\"14.00\" fill=\"#000000\">Out(Bit)</text>\n",
       "</g>\n",
       "<!-- I1&#45;&gt;inst0 -->\n",
       "<g id=\"edge2\" class=\"edge\">\n",
       "<title>I1&#45;&gt;inst0:I1</title>\n",
       "<path fill=\"none\" stroke=\"#000000\" d=\"M70.5154,-150.4744C85.9378,-139.6713 106.674,-128.1629 128.053,-125.218\"/>\n",
       "<polygon fill=\"#000000\" stroke=\"#000000\" points=\"128.511,-128.6945 138.2402,-124.5 128.0188,-121.7118 128.511,-128.6945\"/>\n",
       "</g>\n",
       "<!-- I1&#45;&gt;inst1 -->\n",
       "<g id=\"edge7\" class=\"edge\">\n",
       "<title>I1&#45;&gt;inst1:I1</title>\n",
       "<path fill=\"none\" stroke=\"#000000\" d=\"M72.576,-191.835C84.8552,-199.2463 100.016,-206.3854 115.5137,-208.7118\"/>\n",
       "<polygon fill=\"#000000\" stroke=\"#000000\" points=\"115.4798,-212.2195 125.7197,-209.5 116.0189,-205.2403 115.4798,-212.2195\"/>\n",
       "</g>\n",
       "<!-- CIN -->\n",
       "<g id=\"node3\" class=\"node\">\n",
       "<title>CIN</title>\n",
       "<ellipse fill=\"none\" stroke=\"#000000\" cx=\"44.8598\" cy=\"-102.5\" rx=\"44.7201\" ry=\"25.4118\"/>\n",
       "<text text-anchor=\"middle\" x=\"44.8598\" y=\"-105.3\" font-family=\"Times,serif\" font-size=\"14.00\" fill=\"#000000\">CIN</text>\n",
       "<text text-anchor=\"middle\" x=\"44.8598\" y=\"-91.3\" font-family=\"Times,serif\" font-size=\"14.00\" fill=\"#000000\">Out(Bit)</text>\n",
       "</g>\n",
       "<!-- CIN&#45;&gt;inst0 -->\n",
       "<g id=\"edge3\" class=\"edge\">\n",
       "<title>CIN&#45;&gt;inst0:I2</title>\n",
       "<path fill=\"none\" stroke=\"#000000\" d=\"M89.9814,-102.5C102.0684,-102.5 115.3365,-102.5 128.1218,-102.5\"/>\n",
       "<polygon fill=\"#000000\" stroke=\"#000000\" points=\"128.2402,-106.0001 138.2402,-102.5 128.2402,-99.0001 128.2402,-106.0001\"/>\n",
       "</g>\n",
       "<!-- CIN&#45;&gt;inst1 -->\n",
       "<g id=\"edge8\" class=\"edge\">\n",
       "<title>CIN&#45;&gt;inst1:CI</title>\n",
       "<path fill=\"none\" stroke=\"#000000\" d=\"M72.9566,-122.4302C78.7648,-127.0858 84.6514,-132.2325 89.7197,-137.5 105.8875,-154.3031 100.7682,-178.7464 115.8017,-185.6327\"/>\n",
       "<polygon fill=\"#000000\" stroke=\"#000000\" points=\"115.2447,-189.0893 125.7197,-187.5 116.54,-182.2101 115.2447,-189.0893\"/>\n",
       "</g>\n",
       "<!-- O -->\n",
       "<g id=\"node4\" class=\"node\">\n",
       "<title>O</title>\n",
       "<ellipse fill=\"none\" stroke=\"#000000\" cx=\"458.6983\" cy=\"-113.5\" rx=\"38.0155\" ry=\"25.4118\"/>\n",
       "<text text-anchor=\"middle\" x=\"458.6983\" y=\"-116.3\" font-family=\"Times,serif\" font-size=\"14.00\" fill=\"#000000\">O</text>\n",
       "<text text-anchor=\"middle\" x=\"458.6983\" y=\"-102.3\" font-family=\"Times,serif\" font-size=\"14.00\" fill=\"#000000\">In(Bit)</text>\n",
       "</g>\n",
       "<!-- COUT -->\n",
       "<g id=\"node5\" class=\"node\">\n",
       "<title>COUT</title>\n",
       "<ellipse fill=\"none\" stroke=\"#000000\" cx=\"458.6983\" cy=\"-209.5\" rx=\"38.0251\" ry=\"25.4118\"/>\n",
       "<text text-anchor=\"middle\" x=\"458.6983\" y=\"-212.3\" font-family=\"Times,serif\" font-size=\"14.00\" fill=\"#000000\">COUT</text>\n",
       "<text text-anchor=\"middle\" x=\"458.6983\" y=\"-198.3\" font-family=\"Times,serif\" font-size=\"14.00\" fill=\"#000000\">In(Bit)</text>\n",
       "</g>\n",
       "<!-- inst0_O -->\n",
       "<g id=\"node6\" class=\"node\">\n",
       "<title>inst0_O</title>\n",
       "<text text-anchor=\"middle\" x=\"349.5986\" y=\"-116.3\" font-family=\"Times,serif\" font-size=\"14.00\" fill=\"#000000\">inst0_O</text>\n",
       "<text text-anchor=\"middle\" x=\"349.5986\" y=\"-102.3\" font-family=\"Times,serif\" font-size=\"14.00\" fill=\"#000000\">Out(Bit)</text>\n",
       "</g>\n",
       "<!-- inst0_O&#45;&gt;O -->\n",
       "<g id=\"edge10\" class=\"edge\">\n",
       "<title>inst0_O&#45;&gt;O</title>\n",
       "<path fill=\"none\" stroke=\"#000000\" d=\"M381.448,-113.5C390.5039,-113.5 400.5757,-113.5 410.3759,-113.5\"/>\n",
       "<polygon fill=\"#000000\" stroke=\"#000000\" points=\"410.4364,-117.0001 420.4363,-113.5 410.4363,-110.0001 410.4364,-117.0001\"/>\n",
       "</g>\n",
       "<!-- inst1_CO -->\n",
       "<g id=\"node7\" class=\"node\">\n",
       "<title>inst1_CO</title>\n",
       "<text text-anchor=\"middle\" x=\"349.5986\" y=\"-212.3\" font-family=\"Times,serif\" font-size=\"14.00\" fill=\"#000000\">inst1_CO</text>\n",
       "<text text-anchor=\"middle\" x=\"349.5986\" y=\"-198.3\" font-family=\"Times,serif\" font-size=\"14.00\" fill=\"#000000\">Out(Bit)</text>\n",
       "</g>\n",
       "<!-- inst1_CO&#45;&gt;COUT -->\n",
       "<g id=\"edge11\" class=\"edge\">\n",
       "<title>inst1_CO&#45;&gt;COUT</title>\n",
       "<path fill=\"none\" stroke=\"#000000\" d=\"M384.4184,-209.5C392.6656,-209.5 401.6082,-209.5 410.3367,-209.5\"/>\n",
       "<polygon fill=\"#000000\" stroke=\"#000000\" points=\"410.4304,-213.0001 420.4304,-209.5 410.4303,-206.0001 410.4304,-213.0001\"/>\n",
       "</g>\n",
       "<!-- inst0&#45;&gt;inst0_O -->\n",
       "<g id=\"edge5\" class=\"edge\">\n",
       "<title>inst0:O&#45;&gt;inst0_O</title>\n",
       "<path fill=\"none\" stroke=\"#000000\" d=\"M266.2402,-113.5C279.6007,-113.5 294.1658,-113.5 307.3291,-113.5\"/>\n",
       "<polygon fill=\"#000000\" stroke=\"#000000\" points=\"307.5355,-117.0001 317.5355,-113.5 307.5355,-110.0001 307.5355,-117.0001\"/>\n",
       "</g>\n",
       "<!-- 0 -->\n",
       "<g id=\"node9\" class=\"node\">\n",
       "<title>0</title>\n",
       "<polygon fill=\"none\" stroke=\"#000000\" points=\"17.8598,-22.5 17.8598,-58.5 71.8598,-58.5 71.8598,-22.5 17.8598,-22.5\"/>\n",
       "<text text-anchor=\"middle\" x=\"44.8598\" y=\"-36.3\" font-family=\"Times,serif\" font-size=\"14.00\" fill=\"#000000\">0</text>\n",
       "</g>\n",
       "<!-- 0&#45;&gt;inst0 -->\n",
       "<g id=\"edge4\" class=\"edge\">\n",
       "<title>0&#45;&gt;inst0:I3</title>\n",
       "<path fill=\"none\" stroke=\"#000000\" d=\"M71.3676,-58.6274C86.8634,-67.7226 107.3988,-77.3389 128.091,-79.8636\"/>\n",
       "<polygon fill=\"#000000\" stroke=\"#000000\" points=\"128.0407,-83.3673 138.2402,-80.5 128.4789,-76.381 128.0407,-83.3673\"/>\n",
       "</g>\n",
       "<!-- inst1&#45;&gt;inst1_CO -->\n",
       "<g id=\"edge9\" class=\"edge\">\n",
       "<title>inst1:CO&#45;&gt;inst1_CO</title>\n",
       "<path fill=\"none\" stroke=\"#000000\" d=\"M278.7607,-209.5C287.0668,-209.5 295.9208,-209.5 304.4554,-209.5\"/>\n",
       "<polygon fill=\"#000000\" stroke=\"#000000\" points=\"304.6491,-213.0001 314.649,-209.5 304.649,-206.0001 304.6491,-213.0001\"/>\n",
       "</g>\n",
       "</g>\n",
       "</svg>\n"
      ],
      "text/plain": [
       "FullAdder = DefineCircuit(\"FullAdder\", \"I0\", In(Bit), \"I1\", In(Bit), \"CIN\", In(Bit), \"O\", Out(Bit), \"COUT\", Out(Bit))\n",
       "inst0 = SB_LUT4(LUT_INIT=0x9696)\n",
       "inst1 = SB_CARRY()\n",
       "wire(FullAdder.I0, inst0.I0)\n",
       "wire(FullAdder.I1, inst0.I1)\n",
       "wire(FullAdder.CIN, inst0.I2)\n",
       "wire(0, inst0.I3)\n",
       "wire(FullAdder.I0, inst1.I0)\n",
       "wire(FullAdder.I1, inst1.I1)\n",
       "wire(FullAdder.CIN, inst1.CI)\n",
       "wire(inst0.O, FullAdder.O)\n",
       "wire(inst1.CO, FullAdder.COUT)\n",
       "EndCircuit()"
      ]
     },
     "execution_count": 12,
     "metadata": {},
     "output_type": "execute_result"
    }
   ],
   "source": [
    "FullAdder"
   ]
  }
 ],
 "metadata": {
  "kernelspec": {
   "display_name": "Python 3",
   "language": "python",
   "name": "python3"
  },
  "language_info": {
   "codemirror_mode": {
    "name": "ipython",
    "version": 3
   },
   "file_extension": ".py",
   "mimetype": "text/x-python",
   "name": "python",
   "nbconvert_exporter": "python",
   "pygments_lexer": "ipython3",
   "version": "3.6.5"
  }
 },
 "nbformat": 4,
 "nbformat_minor": 2
}
