{
 "cells": [
  {
   "cell_type": "markdown",
   "metadata": {},
   "source": [
    "## FullAdder \n",
    "\n",
    "This notebook walks through the implementation of a full adder circuit.\n",
    "\n",
    "Start by importing `Magma`."
   ]
  },
  {
   "cell_type": "code",
   "execution_count": 1,
   "metadata": {
    "collapsed": true,
    "scrolled": true
   },
   "outputs": [],
   "source": [
    "import magma as m"
   ]
  },
  {
   "cell_type": "markdown",
   "metadata": {},
   "source": [
    "Define a Python function that constructs a full adder. A full adder has three single bit inputs, and returns the sum and the carry. The sum is the *exclusive or* of the 3 bits, the carry is 1 if any two of the inputs bits are 1. Here is a schematic of a full adder circuit.\n",
    "\n",
    "![Full Adder](images/full_adder_logisim.png)\n",
    "\n",
    "The values passed to the `fulladder` function are `Magma` values of type `Bit`.\n",
    "The Python bitwise operators are overloaded to compute logical functions of the `Magma` values (this corresponds to constructing the circuits to compute these logical functions).\n",
    "\n",
    "We compute the two desired output values, and return them as a Python tuple. The first element of tuple is the sum, the second element is the carry."
   ]
  },
  {
   "cell_type": "code",
   "execution_count": 2,
   "metadata": {
    "collapsed": true
   },
   "outputs": [],
   "source": [
    "def fulladder(A, B, C):\n",
    "    return A^B^C, A&B|B&C|C&A"
   ]
  },
  {
   "cell_type": "markdown",
   "metadata": {},
   "source": [
    "We can test our Python function using native Python values to verify that our implementation behaves as expected. We'll use the standard Python `assert` pattern."
   ]
  },
  {
   "cell_type": "code",
   "execution_count": 3,
   "metadata": {},
   "outputs": [
    {
     "name": "stdout",
     "output_type": "stream",
     "text": [
      "Success!\n"
     ]
    }
   ],
   "source": [
    "assert fulladder(1, 0, 0) == (1, 0), \"Failed\"\n",
    "assert fulladder(0, 1, 0) == (1, 0), \"Failed\"\n",
    "assert fulladder(1, 1, 0) == (0, 1), \"Failed\"\n",
    "assert fulladder(1, 0, 1) == (0, 1), \"Failed\"\n",
    "assert fulladder(1, 1, 1) == (1, 1), \"Failed\"\n",
    "print(\"Success!\")"
   ]
  },
  {
   "cell_type": "markdown",
   "metadata": {},
   "source": [
    "Now that we have a verified implementation of a `fulladder` in Python, we'll use it construct a `Magma` circuit that is compiled to the IceStick board.\n",
    "\n",
    "In order to setup everything for the IceStick board,\n",
    "we first import the class that describes\n",
    "the board from the module `loam`.\n",
    "`loam` has definitions for commonly used parts and boards. The definition we're interested in is called `IceStick`.\n",
    "\n",
    "The IceStick board is based on a Lattice ICE40HX1K FPGA. \n",
    "The GPIOs on the FPGA are brought out to two headers named `J1` and `J3`.\n",
    "The class `IceStick` contains all the parts on the board\n",
    "and how they are connected via wires."
   ]
  },
  {
   "cell_type": "code",
   "execution_count": 4,
   "metadata": {},
   "outputs": [
    {
     "name": "stdout",
     "output_type": "stream",
     "text": [
      "import lattice ice40\n",
      "import lattice mantle40\n"
     ]
    }
   ],
   "source": [
    "from loam.boards.icestick import IceStick"
   ]
  },
  {
   "cell_type": "markdown",
   "metadata": {},
   "source": [
    "We start by creating an instance of the IceStick board."
   ]
  },
  {
   "cell_type": "code",
   "execution_count": 5,
   "metadata": {},
   "outputs": [],
   "source": [
    "icestick = IceStick()"
   ]
  },
  {
   "cell_type": "markdown",
   "metadata": {},
   "source": [
    "In these tutorials, \n",
    "we adopt the convention that `J1` will be used for inputs\n",
    "and `J3` will be used for outputs.\n",
    "We will use these headers to test our full adder by wiring up some switches\n",
    "and LEDs to the inputs and outputs.\n",
    "\n",
    "We then configure the first three GPIO pins in `J1` as inputs,\n",
    "and the first two pins in `J3` as outputs.\n",
    "We also turn `on` each pin that we are using.\n",
    "Note the use of *method chaining* to set more than\n",
    "one option on a GPIO pin."
   ]
  },
  {
   "cell_type": "code",
   "execution_count": 6,
   "metadata": {},
   "outputs": [
    {
     "data": {
      "text/html": [
       "J3[1] = GPIO(name=\"PIO2_16\")"
      ],
      "text/plain": [
       "J3[1] = GPIO(name=\"PIO2_16\")"
      ]
     },
     "execution_count": 6,
     "metadata": {},
     "output_type": "execute_result"
    }
   ],
   "source": [
    "icestick.J1[0].input().on()\n",
    "icestick.J1[1].input().on()\n",
    "icestick.J1[2].input().on()\n",
    "icestick.J3[0].output().on()\n",
    "icestick.J3[1].output().on()"
   ]
  },
  {
   "cell_type": "markdown",
   "metadata": {},
   "source": [
    "With our `icestick` configured, we move on to the setup of the top level `magma` `main` program that runs on the ICE40. \n",
    "The arguments to the main program are the headers `J1` and `J3`. We call `fulladder` with three single bit inputs from `J1`. \n",
    "We then `wire` the sum and carry outputs returned by `fulladder` to `J3`.\n",
    "\n",
    "The type of `J1` is is `Bits(3)` and `J3` is `Bits(2)`.\n",
    "`Bits(n)` is a length `n` array of `Bit` values.\n",
    "The length of these arrays depend on the number of GPIOs\n",
    "that have been turned on.\n",
    "Arrays of bits can be accessed using the standard Python indexing notation (e.g. `[0]`).\n",
    "\n",
    "We connect the outputs of the full adder to `J3` using a call to `wire`. \n",
    "Remember that assigning an object to a Python variable \n",
    "creates a named reference to that object\n",
    "(such as assigning the values returned by `fulladder` to `_sum` and `cout`).\n",
    "`Magma` values are Python objects,\n",
    " so assigning an object to a variable creates a reference to that `Magma` value."
   ]
  },
  {
   "cell_type": "code",
   "execution_count": 7,
   "metadata": {
    "collapsed": true
   },
   "outputs": [],
   "source": [
    "main = icestick.DefineMain()\n",
    "\n",
    "_sum, cout = fulladder(main.J1[0], main.J1[1], main.J1[2])\n",
    "m.wire(_sum, main.J3[0])\n",
    "m.wire(cout, main.J3[1])"
   ]
  },
  {
   "cell_type": "markdown",
   "metadata": {},
   "source": [
    "When we've finished defining our `main` function, we call the `Magma` function `EndDefine`. Any call to a `Magma` `Define` function such as `DefineMain` or `DefineCircuit` must be accompanied by an `EndDefine` call (similar to how any call to `malloc` must be accompanied by a `free`). This is because `Magma` maintains a stack of definitions, so the `EndDefine` call signals to `Magma` that the current definition on the stack has been completed and should be removed. Failure to call `EndDefine` can lead to nasty error messages that are hard to decipher."
   ]
  },
  {
   "cell_type": "code",
   "execution_count": 8,
   "metadata": {
    "collapsed": true
   },
   "outputs": [],
   "source": [
    "m.EndDefine()"
   ]
  },
  {
   "cell_type": "markdown",
   "metadata": {},
   "source": [
    "Now we can use the `Magma` `compile` function to generate verilog code targeting a board from the `\"lattice\"` vendor. The `vendor` parameter tells `Magma` to generate collateral required to program boards from a specific vendor. When the `\"lattice\"` vendor is specified, `Magma` generates a physical constraints file (pcf) that contains a mapping between physical pin numbers (e.g. 112) and ports on the (compiled) verilog module (e.g. J1[0]).  "
   ]
  },
  {
   "cell_type": "code",
   "execution_count": 9,
   "metadata": {},
   "outputs": [
    {
     "name": "stdout",
     "output_type": "stream",
     "text": [
      "compiling XOr2\n",
      "compiling And2\n",
      "compiling Or2\n",
      "compiling main\n"
     ]
    }
   ],
   "source": [
    "m.compile('build/fulladder', main, vendor=\"lattice\")"
   ]
  },
  {
   "cell_type": "markdown",
   "metadata": {},
   "source": [
    "Then we can use `yosys` and the `icestorm` tools to compile and program the FPGA."
   ]
  },
  {
   "cell_type": "code",
   "execution_count": 10,
   "metadata": {},
   "outputs": [
    {
     "name": "stderr",
     "output_type": "stream",
     "text": [
      "init..\n",
      "cdone: high\n",
      "reset..\n",
      "cdone: low\n",
      "flash ID: 0x20 0xBA 0x16 0x10 0x00 0x00 0x23 0x51 0x73 0x10 0x23 0x00 0x35 0x00 0x35 0x06 0x06 0x15 0x43 0xB6\n",
      "file size: 32220\n",
      "erase 64kB sector at 0x000000..\n",
      "programming..\n",
      "reading..\n",
      "VERIFY OK\n",
      "cdone: high\n",
      "Bye.\n"
     ]
    }
   ],
   "source": [
    "%%bash\n",
    "cd build\n",
    "yosys -q -p 'synth_ice40 -top main -blif fulladder.blif' fulladder.v\n",
    "arachne-pnr -q -d 1k -o fulladder.txt -p fulladder.pcf fulladder.blif \n",
    "icepack fulladder.txt fulladder.bin\n",
    "iceprog fulladder.bin"
   ]
  },
  {
   "cell_type": "markdown",
   "metadata": {},
   "source": [
    "You can test the program by connecting up some switches and LEDs to the headers.  To see which physical pins correspond to the J3 and J1 pins we used, we can inspect the `pcf` file."
   ]
  },
  {
   "cell_type": "code",
   "execution_count": 11,
   "metadata": {},
   "outputs": [
    {
     "name": "stdout",
     "output_type": "stream",
     "text": [
      "set_io J1[0] 112\n",
      "set_io J1[1] 113\n",
      "set_io J1[2] 114\n",
      "set_io J3[1] 61\n",
      "set_io J3[0] 62\n",
      "\n"
     ]
    }
   ],
   "source": [
    "with open(\"build/fulladder.pcf\", \"r\") as full_adder_pcf:\n",
    "    print(full_adder_pcf.read())"
   ]
  },
  {
   "cell_type": "markdown",
   "metadata": {},
   "source": [
    "Here is an example circuit to see the sum of the inputs displayed on a set of LEDs. We have J1 wired up to the right three switch/LED circuits and J3 wired up to the right two LED circuits (without switches).\n",
    "![](images/full-adder-seq/IMG_20180610_183451.jpg)\n",
    "![](images/full-adder-seq/IMG_20180610_183458.jpg)\n",
    "![](images/full-adder-seq/IMG_20180610_183502.jpg)\n",
    "![](images/full-adder-seq/IMG_20180610_183505.jpg)\n",
    "![](images/full-adder-seq/IMG_20180610_183508.jpg)\n",
    "![](images/full-adder-seq/IMG_20180610_183512.jpg)"
   ]
  },
  {
   "cell_type": "markdown",
   "metadata": {},
   "source": [
    "## Verilog\n",
    "\n",
    "If you know verilog, it is instructive to look at the verilog code that was generated."
   ]
  },
  {
   "cell_type": "code",
   "execution_count": 13,
   "metadata": {},
   "outputs": [
    {
     "name": "stdout",
     "output_type": "stream",
     "text": [
      "module XOr2 (input [1:0] I, output  O);\r\n",
      "wire  inst0_O;\r\n",
      "SB_LUT4 #(.LUT_INIT(16'h6666)) inst0 (.I0(I[0]), .I1(I[1]), .I2(1'b0), .I3(1'b0), .O(inst0_O));\r\n",
      "assign O = inst0_O;\r\n",
      "endmodule\r\n",
      "\r\n",
      "module And2 (input [1:0] I, output  O);\r\n",
      "wire  inst0_O;\r\n",
      "SB_LUT4 #(.LUT_INIT(16'h8888)) inst0 (.I0(I[0]), .I1(I[1]), .I2(1'b0), .I3(1'b0), .O(inst0_O));\r\n",
      "assign O = inst0_O;\r\n",
      "endmodule\r\n",
      "\r\n",
      "module Or2 (input [1:0] I, output  O);\r\n",
      "wire  inst0_O;\r\n",
      "SB_LUT4 #(.LUT_INIT(16'hEEEE)) inst0 (.I0(I[0]), .I1(I[1]), .I2(1'b0), .I3(1'b0), .O(inst0_O));\r\n",
      "assign O = inst0_O;\r\n",
      "endmodule\r\n",
      "\r\n",
      "module main (input [2:0] J1, output [1:0] J3);\r\n",
      "wire  inst0_O;\r\n",
      "wire  inst1_O;\r\n",
      "wire  inst2_O;\r\n",
      "wire  inst3_O;\r\n",
      "wire  inst4_O;\r\n",
      "wire  inst5_O;\r\n",
      "wire  inst6_O;\r\n",
      "XOr2 inst0 (.I({J1[1],J1[0]}), .O(inst0_O));\r\n",
      "XOr2 inst1 (.I({J1[2],inst0_O}), .O(inst1_O));\r\n",
      "And2 inst2 (.I({J1[1],J1[0]}), .O(inst2_O));\r\n",
      "And2 inst3 (.I({J1[2],J1[1]}), .O(inst3_O));\r\n",
      "Or2 inst4 (.I({inst3_O,inst2_O}), .O(inst4_O));\r\n",
      "And2 inst5 (.I({J1[0],J1[2]}), .O(inst5_O));\r\n",
      "Or2 inst6 (.I({inst5_O,inst4_O}), .O(inst6_O));\r\n",
      "assign J3 = {inst6_O,inst1_O};\r\n",
      "endmodule\r\n",
      "\r\n"
     ]
    }
   ],
   "source": [
    "%cat build/fulladder.v"
   ]
  },
  {
   "cell_type": "markdown",
   "metadata": {},
   "source": [
    "The logical functions are implemented using verilog modules `And2`, `Or2`, and `XOr2`. These in turn are implemented using 4-bit LUTs using the ICE40 primitive module `SB_LUT4`. The top level `main` module instances the logical functions and wires them up. \n",
    "It is all quite simple."
   ]
  }
 ],
 "metadata": {
  "kernelspec": {
   "display_name": "Python 3",
   "language": "python",
   "name": "python3"
  },
  "language_info": {
   "codemirror_mode": {
    "name": "ipython",
    "version": 3
   },
   "file_extension": ".py",
   "mimetype": "text/x-python",
   "name": "python",
   "nbconvert_exporter": "python",
   "pygments_lexer": "ipython3",
   "version": "3.6.5"
  }
 },
 "nbformat": 4,
 "nbformat_minor": 2
}
