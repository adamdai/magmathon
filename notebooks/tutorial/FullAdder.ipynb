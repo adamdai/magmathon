{
 "cells": [
  {
   "cell_type": "markdown",
   "metadata": {},
   "source": [
    "## FullAdder \n",
    "\n",
    "This notebook walks through the implementation of a full adder circuit.\n",
    "\n",
    "Start by importing `Magma`."
   ]
  },
  {
   "cell_type": "code",
   "execution_count": 1,
   "metadata": {
    "collapsed": true,
    "scrolled": true
   },
   "outputs": [],
   "source": [
    "import magma as m"
   ]
  },
  {
   "cell_type": "markdown",
   "metadata": {},
   "source": [
    "Define a Python function that constructs a full adder. A full adder has three single bit inputs, and returns the sum and the carry. The sum is the *exclusive or* of the 3 bits, the carry is 1 if any two of the inputs bits are 1.\n",
    "\n",
    "![Full Adder](images/full_adder_logisim.png)\n",
    "\n",
    "The values passed to `fulladder` are `Magma` values. \n",
    "These values are of type `Bit`.\n",
    "The python bitwise operators are overloaded to compute logical functions of the `Magma` values (this corresponds to constructing the circuits to compute these logical functions).\n",
    "\n",
    "We compute the two desired output values, and return them as a Python tuple."
   ]
  },
  {
   "cell_type": "code",
   "execution_count": 2,
   "metadata": {
    "collapsed": true
   },
   "outputs": [],
   "source": [
    "def fulladder(A, B, C):\n",
    "    return A^B^C, A&B|B&C|C&A"
   ]
  },
  {
   "cell_type": "markdown",
   "metadata": {},
   "source": [
    "The the IceStick board has two headers `J1` and `J3`, \n",
    "each connected to 8 GPIO pins on the ICE40 FPGA. \n",
    "The type of `J1` and `J3` is `Bits(8)`. `Bits(n)` is a length `n` array of `Bit` values.\n",
    "Arrays of bits can be accessed using the standard Python indexing notation (e.g. `[-1]`).\n",
    "\n",
    "In these tutorials, `J1` will be used for inputs and `J3` will be used for outputs.\n",
    "We configure three pins in `J1` as inputs,\n",
    "and two pins in `J3` as outputs.\n",
    "We also turn on each pin that we are using."
   ]
  },
  {
   "cell_type": "code",
   "execution_count": 3,
   "metadata": {},
   "outputs": [
    {
     "name": "stdout",
     "output_type": "stream",
     "text": [
      "import mantle lattice ice40\n",
      "import mantle lattice mantle40\n"
     ]
    },
    {
     "data": {
      "text/plain": [
       "J3[1] = GPIO(name=\"PIO2_16\")"
      ]
     },
     "execution_count": 3,
     "metadata": {},
     "output_type": "execute_result"
    }
   ],
   "source": [
    "from loam.boards.icestick import IceStick\n",
    "\n",
    "icestick = IceStick()\n",
    "icestick.J1[0].input().on()\n",
    "icestick.J1[1].input().on()\n",
    "icestick.J1[2].input().on()\n",
    "icestick.J3[0].output().on()\n",
    "icestick.J3[1].output().on()"
   ]
  },
  {
   "cell_type": "markdown",
   "metadata": {},
   "source": [
    "Now setup the top level `main` program that runs on the ICE40. The arguments to the main program are the headers `J1` and `J3`. We call `fulladder` with three single bit inputs from `J1`. We then `wire` the sum and carry outputs returned by `fulladder` to `J3`.\n",
    "\n",
    "Note that to connect the outputs of the full adder to `J3` we need to call `wire`. \n",
    "Assigning a Python variable \n",
    "(such as assigning the values returned by `fulladder` to `s` and `c`)\n",
    "is not the same as wiring it.\n",
    "`Magma` values are Python objects,\n",
    "and so assigning an object to a variable creates a reference to that value."
   ]
  },
  {
   "cell_type": "code",
   "execution_count": 4,
   "metadata": {
    "collapsed": true
   },
   "outputs": [],
   "source": [
    "main = icestick.DefineMain()\n",
    "\n",
    "_sum, cout = fulladder(main.J1[0], main.J1[1], main.J1[2])\n",
    "m.wire(_sum, main.J3[0])\n",
    "m.wire(cout, main.J3[1])\n",
    "\n",
    "m.EndDefine()"
   ]
  },
  {
   "cell_type": "markdown",
   "metadata": {},
   "source": [
    "Now we can use the magma's `compile` function to generate verilog code targeting a board from the `\"lattice\"` vendor (this tells magma the collateral it needs to generate to program a vendor specific board)."
   ]
  },
  {
   "cell_type": "code",
   "execution_count": 5,
   "metadata": {},
   "outputs": [
    {
     "name": "stdout",
     "output_type": "stream",
     "text": [
      "compiling XOr2\n",
      "compiling And2\n",
      "compiling Or2\n",
      "compiling main\n"
     ]
    }
   ],
   "source": [
    "m.compile('build/fulladder', main, vendor=\"lattice\")"
   ]
  },
  {
   "cell_type": "markdown",
   "metadata": {},
   "source": [
    "Then we can use `yosys` and the `icestorm` tools to compile and program the FPGA."
   ]
  },
  {
   "cell_type": "code",
   "execution_count": 6,
   "metadata": {},
   "outputs": [
    {
     "name": "stderr",
     "output_type": "stream",
     "text": [
      "init..\n",
      "cdone: high\n",
      "reset..\n",
      "cdone: low\n",
      "flash ID: 0x20 0xBA 0x16 0x10 0x00 0x00 0x23 0x51 0x73 0x10 0x23 0x00 0x35 0x00 0x35 0x06 0x06 0x15 0x43 0xB6\n",
      "file size: 32220\n",
      "erase 64kB sector at 0x000000..\n",
      "programming..\n",
      "reading..\n",
      "VERIFY OK\n",
      "cdone: high\n",
      "Bye.\n"
     ]
    }
   ],
   "source": [
    "%%bash\n",
    "cd build\n",
    "yosys -q -p 'synth_ice40 -top main -blif fulladder.blif' fulladder.v\n",
    "arachne-pnr -q -d 1k -o fulladder.txt -p fulladder.pcf fulladder.blif \n",
    "icepack fulladder.txt fulladder.bin\n",
    "iceprog fulladder.bin"
   ]
  },
  {
   "cell_type": "markdown",
   "metadata": {},
   "source": [
    "You can test the program by connecting up some switches and LEDs to the headers.  To see which physical pins correspond to the J3 and J1 pins we used, we can inspect the `pcf` file."
   ]
  },
  {
   "cell_type": "code",
   "execution_count": 7,
   "metadata": {},
   "outputs": [
    {
     "name": "stdout",
     "output_type": "stream",
     "text": [
      "set_io J1[0] 112\n",
      "set_io J1[1] 113\n",
      "set_io J1[2] 114\n",
      "set_io J3[1] 61\n",
      "set_io J3[0] 62\n",
      "\n"
     ]
    }
   ],
   "source": [
    "with open(\"build/fulladder.pcf\", \"r\") as full_adder_pcf:\n",
    "    print(full_adder_pcf.read())"
   ]
  },
  {
   "cell_type": "markdown",
   "metadata": {},
   "source": [
    "Here is an example circuit to see the sum of the inputs displayed on a set of LEDs.\n",
    "![full adder test circuit on breadboard1](images/full_adder_1.jpg)\n",
    "![full adder test circuit on breadboard2](images/full_adder_2.jpg)\n",
    "![full adder test circuit on breadboard3](images/full_adder_3.jpg)"
   ]
  },
  {
   "cell_type": "markdown",
   "metadata": {},
   "source": [
    "## Verilog\n",
    "\n",
    "If you know verilog, it is instructive to look at the verilog code that was generated."
   ]
  },
  {
   "cell_type": "code",
   "execution_count": 8,
   "metadata": {},
   "outputs": [
    {
     "name": "stdout",
     "output_type": "stream",
     "text": [
      "module XOr2 (input [1:0] I, output  O);\n",
      "wire  inst0_O;\n",
      "SB_LUT4 #(.LUT_INIT(16'h6666)) inst0 (.I0(I[0]), .I1(I[1]), .I2(1'b0), .I3(1'b0), .O(inst0_O));\n",
      "assign O = inst0_O;\n",
      "endmodule\n",
      "\n",
      "module And2 (input [1:0] I, output  O);\n",
      "wire  inst0_O;\n",
      "SB_LUT4 #(.LUT_INIT(16'h8888)) inst0 (.I0(I[0]), .I1(I[1]), .I2(1'b0), .I3(1'b0), .O(inst0_O));\n",
      "assign O = inst0_O;\n",
      "endmodule\n",
      "\n",
      "module Or2 (input [1:0] I, output  O);\n",
      "wire  inst0_O;\n",
      "SB_LUT4 #(.LUT_INIT(16'hEEEE)) inst0 (.I0(I[0]), .I1(I[1]), .I2(1'b0), .I3(1'b0), .O(inst0_O));\n",
      "assign O = inst0_O;\n",
      "endmodule\n",
      "\n",
      "module main (input [2:0] J1, output [1:0] J3);\n",
      "wire  inst0_O;\n",
      "wire  inst1_O;\n",
      "wire  inst2_O;\n",
      "wire  inst3_O;\n",
      "wire  inst4_O;\n",
      "wire  inst5_O;\n",
      "wire  inst6_O;\n",
      "XOr2 inst0 (.I({J1[1],J1[0]}), .O(inst0_O));\n",
      "XOr2 inst1 (.I({J1[2],inst0_O}), .O(inst1_O));\n",
      "And2 inst2 (.I({J1[1],J1[0]}), .O(inst2_O));\n",
      "And2 inst3 (.I({J1[2],J1[1]}), .O(inst3_O));\n",
      "Or2 inst4 (.I({inst3_O,inst2_O}), .O(inst4_O));\n",
      "And2 inst5 (.I({J1[0],J1[2]}), .O(inst5_O));\n",
      "Or2 inst6 (.I({inst5_O,inst4_O}), .O(inst6_O));\n",
      "assign J3 = {inst6_O,inst1_O};\n",
      "endmodule\n",
      "\n",
      "\n"
     ]
    }
   ],
   "source": [
    "with open(\"build/fulladder.v\", \"r\") as full_adder_verilog:\n",
    "    print(full_adder_verilog.read())"
   ]
  },
  {
   "cell_type": "markdown",
   "metadata": {},
   "source": [
    "The logical functions are implemented using verilog modules `And2`, `Or2`, and `XOr2`. These in turn are implemented using 4-bit LUTs using the ICE40 primitive module `SB_LUT4`. The top level `main` module instances the logical functions and wires them up. \n",
    "It is all quite simple."
   ]
  }
 ],
 "metadata": {
  "kernelspec": {
   "display_name": "Python 3",
   "language": "python",
   "name": "python3"
  },
  "language_info": {
   "codemirror_mode": {
    "name": "ipython",
    "version": 3
   },
   "file_extension": ".py",
   "mimetype": "text/x-python",
   "name": "python",
   "nbconvert_exporter": "python",
   "pygments_lexer": "ipython3",
   "version": "3.6.5"
  }
 },
 "nbformat": 4,
 "nbformat_minor": 2
}
