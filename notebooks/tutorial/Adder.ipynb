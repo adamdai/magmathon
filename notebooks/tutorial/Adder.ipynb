{
 "cells": [
  {
   "cell_type": "markdown",
   "metadata": {},
   "source": [
    "## Adder\n",
    "\n",
    "In this tutorial, we will construct a 2-bit adder."
   ]
  },
  {
   "cell_type": "code",
   "execution_count": 1,
   "metadata": {
    "collapsed": true,
    "scrolled": true
   },
   "outputs": [],
   "source": [
    "import magma as m"
   ]
  },
  {
   "cell_type": "markdown",
   "metadata": {},
   "source": [
    "In the last example, we created a Python function that created a full adder. \n",
    "In this example, we are going to use the built-in `FullAdder` from `Mantle`, our standard library of useful circuits."
   ]
  },
  {
   "cell_type": "code",
   "execution_count": 2,
   "metadata": {},
   "outputs": [
    {
     "name": "stdout",
     "output_type": "stream",
     "text": [
      "import mantle lattice ice40\n",
      "import mantle lattice mantle40\n",
      "FullAdder [\"I0\", In(Bit), \"I1\", In(Bit), \"CIN\", In(Bit), \"O\", Out(Bit), \"COUT\", Out(Bit)]\n"
     ]
    }
   ],
   "source": [
    "import os\n",
    "os.environ['MANTLE_TARGET'] = 'ice40'\n",
    "from mantle import FullAdder\n",
    "\n",
    "print('{} [{}]'.format(str(FullAdder), str(FullAdder.interface)))"
   ]
  },
  {
   "cell_type": "markdown",
   "metadata": {},
   "source": [
    "Since we are using the ICE40, we need to set the target of `Mantle` to be the ICE40.\n",
    "\n",
    "After we import `FullAdder` we print out its *interface*. This tells us that the full adder has three inputs `I0`, `I1`, and `CIN`. Note that the type of these arguments are `In(Bit)`. \n",
    "In `Magma` all arguments on an interface must be *qualified* to be inputs or outputs. The function `In` convert a `Magma` type to an input. There are also two outputs `O` and `COUT`. Note that the type of these are `Out(Bit)`."
   ]
  },
  {
   "cell_type": "markdown",
   "metadata": {},
   "source": [
    "Now let's build a 2-bit adder using `FullAdder`. \n",
    "We will built a simple ripple carry adder by connecting the carry out of one full adder\n",
    "to the carry in of the next full adder.\n",
    "The resulting adder will accept as input a carry in,\n",
    "and generate a final carry out.\n",
    "\n",
    "![2-Bit Adder](logisim/adder.png)"
   ]
  },
  {
   "cell_type": "markdown",
   "metadata": {},
   "source": [
    "Here is a Python function that constructs the adder."
   ]
  },
  {
   "cell_type": "code",
   "execution_count": 3,
   "metadata": {
    "collapsed": true
   },
   "outputs": [],
   "source": [
    "def adder(A, B, Cin):\n",
    "    n = len(A)\n",
    "    C = []\n",
    "    Cout = Cin\n",
    "    for i in range(n):\n",
    "        fulladder = FullAdder()\n",
    "        m.wire(A[i], fulladder.I0)\n",
    "        m.wire(B[i], fulladder.I1)\n",
    "        m.wire(Cout, fulladder.CIN)\n",
    "        C.append(fulladder.O)\n",
    "        Cout = fulladder.COUT\n",
    "    return m.uint(C), Cout "
   ]
  },
  {
   "cell_type": "markdown",
   "metadata": {},
   "source": [
    "Note that we construct multiple instances of the full adder by calling `FullAdder()` inside the `for` loop. We also create a list of single bit outputs in the Python variable `C`. \n",
    "We then return this list converted to a `Magma` `Uint`. In addition to `Bits(n)`,\n",
    "`Magma` also has built in types `UInt(n)` and `SInt(n)` to represent unsigned and signed ints.\n",
    "`Magma` also has type conversion functions `bits`, `uint`, and `sint` to convert\n",
    "between different types. \n",
    "In this example, `m.uint(C)` converts the list of bits to a `UInt(len(C))`."
   ]
  },
  {
   "cell_type": "markdown",
   "metadata": {},
   "source": [
    "In order to run test the adder,\n",
    "we setup the IceStick board\n",
    "to have four inputs and 2 outputs.\n",
    "As before, `J1` will be used for inputs and `J3` for outputs."
   ]
  },
  {
   "cell_type": "code",
   "execution_count": 4,
   "metadata": {
    "collapsed": true
   },
   "outputs": [],
   "source": [
    "N = 2\n",
    "\n",
    "from loam.boards.icestick import IceStick\n",
    "\n",
    "icestick = IceStick()\n",
    "for i in range(N):\n",
    "    icestick.J1[i].input().on()\n",
    "    icestick.J1[i+N].input().on()\n",
    "    icestick.J3[i].output().on()"
   ]
  },
  {
   "cell_type": "code",
   "execution_count": 5,
   "metadata": {
    "collapsed": true
   },
   "outputs": [],
   "source": [
    "main = icestick.DefineMain()\n",
    "\n",
    "s, c = adder(main.J1[0:N], main.J1[N:N+N], 0)\n",
    "m.wire( s, main.J3 )\n",
    "\n",
    "m.EndDefine()"
   ]
  },
  {
   "cell_type": "code",
   "execution_count": 6,
   "metadata": {},
   "outputs": [
    {
     "name": "stdout",
     "output_type": "stream",
     "text": [
      "compiling FullAdder\n",
      "compiling main\n"
     ]
    }
   ],
   "source": [
    "m.compile('build/adder', main)"
   ]
  },
  {
   "cell_type": "code",
   "execution_count": 7,
   "metadata": {},
   "outputs": [
    {
     "name": "stdout",
     "output_type": "stream",
     "text": [
      "/Users/hanrahan/git/magmathon/notebooks/build\n"
     ]
    }
   ],
   "source": [
    "%%bash\n",
    "cd build\n",
    "yosys -q -p 'synth_ice40 -top main -blif adder.blif' adder.v\n",
    "arachne-pnr -q -d 1k -o adder.txt -p adder.pcf adder.blif \n",
    "icepack adder.txt adder.bin\n",
    "# iceprog build/adder.bin"
   ]
  },
  {
   "cell_type": "markdown",
   "metadata": {},
   "source": [
    "You can test the program by connecting up some switches and LEDs to the headers. You should see the sum of the inputs displayed on the LEDs."
   ]
  }
 ],
 "metadata": {
  "kernelspec": {
   "display_name": "Python 3",
   "language": "python",
   "name": "python3"
  },
  "language_info": {
   "codemirror_mode": {
    "name": "ipython",
    "version": 3
   },
   "file_extension": ".py",
   "mimetype": "text/x-python",
   "name": "python",
   "nbconvert_exporter": "python",
   "pygments_lexer": "ipython3",
   "version": "3.6.5"
  }
 },
 "nbformat": 4,
 "nbformat_minor": 2
}
