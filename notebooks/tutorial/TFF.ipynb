{
 "cells": [
  {
   "cell_type": "markdown",
   "metadata": {},
   "source": [
    "## Toggle Flip-Flop\n",
    "\n",
    "In this example we create a toggle flip-flop (TFF) from a d-flip-flop and an xor gate. In `Magma`, sequential logic circuits can be constructed by composing combinational logic with register primitives, such as the ice40 DFF."
   ]
  },
  {
   "cell_type": "code",
   "execution_count": null,
   "metadata": {},
   "outputs": [
    {
     "name": "stdout",
     "output_type": "stream",
     "text": [
      "import lattice ice40\n"
     ]
    }
   ],
   "source": [
    "import magma as m\n",
    "m.set_mantle_target(\"ice40\")\n",
    "\n",
    "from mantle import DFF"
   ]
  },
  {
   "cell_type": "code",
   "execution_count": null,
   "metadata": {
    "collapsed": true
   },
   "outputs": [],
   "source": [
    "def tff():\n",
    "    # instance a dff to hold the state of the toggle flip-flop - this needs to be done first\n",
    "    ff = DFF()\n",
    "\n",
    "    # compute the next state as the not of the old state ff.O\n",
    "    ff( ~ff.O )\n",
    "\n",
    "    return ff.O"
   ]
  },
  {
   "cell_type": "code",
   "execution_count": null,
   "metadata": {
    "collapsed": true
   },
   "outputs": [],
   "source": [
    "from loam.boards.icestick import IceStick\n",
    "\n",
    "icestick = IceStick()\n",
    "icestick.Clock.on()\n",
    "icestick.J3[0].rename('J3').output().on()\n",
    "\n",
    "main = icestick.DefineMain()\n",
    "m.wire( tff(), main.J3 )\n",
    "m.EndDefine()"
   ]
  },
  {
   "cell_type": "markdown",
   "metadata": {},
   "source": [
    "## Compile and Build"
   ]
  },
  {
   "cell_type": "code",
   "execution_count": null,
   "metadata": {
    "collapsed": true
   },
   "outputs": [],
   "source": [
    "m.compile(\"build/tff\", main)"
   ]
  },
  {
   "cell_type": "code",
   "execution_count": 1,
   "metadata": {},
   "outputs": [
    {
     "name": "stdout",
     "output_type": "stream",
     "text": [
      "/Users/hanrahan/git/magmathon/notebooks/tutorial/build\n"
     ]
    },
    {
     "name": "stderr",
     "output_type": "stream",
     "text": [
      "note: no set_io constraints for pin `J1'\n",
      "tff.pcf:3: fatal error: Missing 1 set_io constraints\n"
     ]
    }
   ],
   "source": [
    "%%bash\n",
    "cd build\n",
    "yosys -q -p 'synth_ice40 -top main -blif tff.blif' tff.v\n",
    "arachne-pnr -q -d 1k -o tff.txt -p tff.pcf tff.blif \n",
    "icepack tff.txt tff.bin\n",
    "# iceprog tff.bin"
   ]
  },
  {
   "cell_type": "markdown",
   "metadata": {},
   "source": [
    "Pin 0 of J3 should be set to the value of Pin 1 of J1."
   ]
  },
  {
   "cell_type": "code",
   "execution_count": null,
   "metadata": {
    "collapsed": true
   },
   "outputs": [],
   "source": [
    "%%bash\n",
    "cd build\n",
    "yosys -q -p 'synth_ice40 -top main -blif dff.blif' dff.v\n",
    "arachne-pnr -q -d 1k -o dff.txt -p dff.pcf dff.blif \n",
    "icepack dff.txt dff.bin\n",
    "iceprog dff.bin"
   ]
  }
 ],
 "metadata": {
  "kernelspec": {
   "display_name": "Python 3",
   "language": "python",
   "name": "python3"
  },
  "language_info": {
   "codemirror_mode": {
    "name": "ipython",
    "version": 3
   },
   "file_extension": ".py",
   "mimetype": "text/x-python",
   "name": "python",
   "nbconvert_exporter": "python",
   "pygments_lexer": "ipython3",
   "version": "3.6.5"
  }
 },
 "nbformat": 4,
 "nbformat_minor": 2
}
