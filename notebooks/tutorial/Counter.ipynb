{
 "cells": [
  {
   "cell_type": "markdown",
   "metadata": {},
   "source": [
    "## Counter"
   ]
  },
  {
   "cell_type": "code",
   "execution_count": 1,
   "metadata": {
    "collapsed": true
   },
   "outputs": [],
   "source": [
    "import magma as m\n",
    "m.set_mantle_target(\"ice40\")"
   ]
  },
  {
   "cell_type": "markdown",
   "metadata": {},
   "source": [
    "## Circuit "
   ]
  },
  {
   "cell_type": "markdown",
   "metadata": {},
   "source": [
    "To implement a counter we can use the `Register` primitive and the `+` operator. Arithmetic operators are available on the types `UInt` and `SInt`, but not on `Bits`.\n",
    "\n",
    "In this example we show how to construct a new `Circuit`. \n",
    "A circuit in `magma` is like a function in a programming language.\n",
    "\n",
    "A circuit is also a verilog module. \n",
    "To use a circuit, we need to create an instance.\n",
    "Once we have an instance, we can wire up its inputs and outputs."
   ]
  },
  {
   "cell_type": "code",
   "execution_count": 2,
   "metadata": {
    "scrolled": true
   },
   "outputs": [
    {
     "name": "stdout",
     "output_type": "stream",
     "text": [
      "import lattice ice40\n",
      "import lattice mantle40\n"
     ]
    }
   ],
   "source": [
    "from mantle import Register\n",
    "\n",
    "class SimpleCounter4(m.Circuit):\n",
    "    IO = [\"O\", m.Out(m.UInt(4))] + m.ClockInterface()\n",
    "    @classmethod\n",
    "    def definition(io):\n",
    "        reg4 = Register(4)\n",
    "        m.wire(reg4(m.uint(reg4.O) + m.uint(1,4)), io.O)"
   ]
  },
  {
   "cell_type": "markdown",
   "metadata": {},
   "source": [
    "First, notice that we subclass `m.Circuit` to create a new circuit.\n",
    "The name of the circuit will be the name of the subclass.\n",
    "A circuit also has an interface.\n",
    "We declare the interface by setting the class attribute `IO`.\n",
    "This is just a list of names and types.\n",
    "Using lists has the advantage that we can build constructors\n",
    "that build interfaces by creating different lists.\n",
    "In this example, we add the default\n",
    "clock interface to the interface.\n",
    "\n",
    "Inside the class is a `classmethod` named `definition`. \n",
    "This method is called to construct the actual circuit.\n",
    "The interface variables are passed in as a Python object\n",
    "containing named instances of the IO variables. \n",
    "In this case, the only visible interface variable is `O`.\n",
    "\n",
    "This counter is very simple. \n",
    "We create a register,\n",
    "and wire the input of the register to \n",
    "the output of the register plus one.\n",
    "\n",
    "Finally, note that we wire the output of the register\n",
    "to the counter output `O`."
   ]
  },
  {
   "cell_type": "markdown",
   "metadata": {},
   "source": [
    "## Counter Generator\n",
    "\n",
    "The above example creates a counter of size 4. How can we make a more general counter of arbitray width?\n",
    "\n",
    "To do this we create a Python generator.\n",
    "Generators are functions with parameters\n",
    "that return a `Circuit` class.\n",
    "\n",
    "In `magma` we use the convention that\n",
    "generators begin with the prefix `Define`."
   ]
  },
  {
   "cell_type": "code",
   "execution_count": 3,
   "metadata": {
    "collapsed": true
   },
   "outputs": [],
   "source": [
    "def DefineCounter(n):\n",
    "    class _Counter(m.Circuit):\n",
    "        name = 'Counter{}'.format(n)\n",
    "        IO = [\"O\", m.Out(m.UInt(n))] + m.ClockInterface()\n",
    "        @classmethod\n",
    "        def definition(io):\n",
    "            reg = Register(n)\n",
    "            m.wire(reg(m.uint(reg.O) + m.uint(1,n)), io.O)\n",
    "    return _Counter\n",
    "\n",
    "def Counter(n):\n",
    "    return DefineCounter(n)()"
   ]
  },
  {
   "cell_type": "code",
   "execution_count": 4,
   "metadata": {
    "collapsed": true
   },
   "outputs": [],
   "source": [
    "from loam.boards.icestick import IceStick\n",
    "\n",
    "N = 30\n",
    "\n",
    "icestick = IceStick()\n",
    "icestick.Clock.on()\n",
    "for i in range(8):\n",
    "    icestick.J3[i].output().on()\n",
    "    \n",
    "main = icestick.DefineMain()\n",
    "\n",
    "counter = Counter(N)\n",
    "m.wire( counter.O[N-8:N], main.J3 )\n",
    "\n",
    "m.EndDefine()"
   ]
  },
  {
   "cell_type": "markdown",
   "metadata": {},
   "source": [
    "## Compile and Build\n",
    "\n",
    "We can compile and inspect the verilog."
   ]
  },
  {
   "cell_type": "code",
   "execution_count": 5,
   "metadata": {},
   "outputs": [
    {
     "name": "stdout",
     "output_type": "stream",
     "text": [
      "compiling Register30\n",
      "compiling FullAdder\n",
      "compiling Add30\n",
      "compiling Counter30\n",
      "compiling main\n"
     ]
    }
   ],
   "source": [
    "m.compile(\"build/counter\", main)"
   ]
  },
  {
   "cell_type": "code",
   "execution_count": 6,
   "metadata": {},
   "outputs": [
    {
     "name": "stdout",
     "output_type": "stream",
     "text": [
      "/Users/hanrahan/git/magmathon/notebooks/tutorial/build\n"
     ]
    },
    {
     "name": "stderr",
     "output_type": "stream",
     "text": [
      "init..\n",
      "cdone: high\n",
      "reset..\n",
      "cdone: low\n",
      "flash ID: 0x20 0xBA 0x16 0x10 0x00 0x00 0x23 0x12 0x67 0x21 0x20 0x00 0x61 0x00 0x53 0x04 0x11 0x11 0x03 0xB1\n",
      "file size: 32220\n",
      "erase 64kB sector at 0x000000..\n",
      "programming..\n",
      "reading..\n",
      "VERIFY OK\n",
      "cdone: high\n",
      "Bye.\n"
     ]
    }
   ],
   "source": [
    "%%bash\n",
    "cd build\n",
    "yosys -q -p 'synth_ice40 -top main -blif counter.blif' counter.v\n",
    "arachne-pnr -q -d 1k -o counter.txt -p counter.pcf counter.blif \n",
    "icepack counter.txt counter.bin\n",
    "iceprog counter.bin"
   ]
  }
 ],
 "metadata": {
  "kernelspec": {
   "display_name": "Python 3",
   "language": "python",
   "name": "python3"
  },
  "language_info": {
   "codemirror_mode": {
    "name": "ipython",
    "version": 3
   },
   "file_extension": ".py",
   "mimetype": "text/x-python",
   "name": "python",
   "nbconvert_exporter": "python",
   "pygments_lexer": "ipython3",
   "version": "3.6.5"
  }
 },
 "nbformat": 4,
 "nbformat_minor": 2
}
