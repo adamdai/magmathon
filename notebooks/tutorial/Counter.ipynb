{
 "cells": [
  {
   "cell_type": "markdown",
   "metadata": {},
   "source": [
    "## Counter"
   ]
  },
  {
   "cell_type": "code",
   "execution_count": 1,
   "metadata": {
    "collapsed": true
   },
   "outputs": [],
   "source": [
    "import magma as m"
   ]
  },
  {
   "cell_type": "markdown",
   "metadata": {},
   "source": [
    "To implement a counter we can use the `DefineRegister` primitive and the `+` operator. Arithmetic operators are available on the types `UInt` and `SInt`, but not on `Bits`."
   ]
  },
  {
   "cell_type": "code",
   "execution_count": 2,
   "metadata": {
    "scrolled": true
   },
   "outputs": [
    {
     "name": "stdout",
     "output_type": "stream",
     "text": [
      "import mantle lattice ice40\n",
      "import mantle lattice mantle40\n",
      "Register4 [\"I\", In(Bits(4)), \"O\", Out(Bits(4)), \"CLK\", In(Clock)]\n"
     ]
    }
   ],
   "source": [
    "import os\n",
    "os.environ['MANTLE_TARGET'] = 'ice40'\n",
    "from mantle import DefineRegister\n",
    "\n",
    "Register4 = DefineRegister(4)\n",
    "print('{} [{}]'.format(str(Register4), str(Register4.interface)))\n",
    "\n",
    "class Counter4(m.Circuit):\n",
    "    IO = [\"O\", m.Out(m.UInt(4))] + m.ClockInterface()\n",
    "    @classmethod\n",
    "    def definition(io):\n",
    "        reg4 = Register4()\n",
    "        m.wire(reg4(m.uint(reg4.O) + m.uint(1,4)), io.O)\n",
    "        m.wireclock(io, reg4)"
   ]
  },
  {
   "cell_type": "markdown",
   "metadata": {},
   "source": [
    "## Compile and Build\n",
    "\n",
    "We can compile and inspect the verilog."
   ]
  },
  {
   "cell_type": "code",
   "execution_count": 3,
   "metadata": {},
   "outputs": [
    {
     "name": "stdout",
     "output_type": "stream",
     "text": [
      "compiling Register4\n",
      "compiling FullAdder\n",
      "compiling Add4\n",
      "compiling Counter4\n"
     ]
    }
   ],
   "source": [
    "m.compile(\"build/counter\", Counter4)"
   ]
  },
  {
   "cell_type": "code",
   "execution_count": 4,
   "metadata": {},
   "outputs": [
    {
     "name": "stdout",
     "output_type": "stream",
     "text": [
      "module Register4 (input [3:0] I, output [3:0] O, input  CLK);\n",
      "wire  inst0_Q;\n",
      "wire  inst1_Q;\n",
      "wire  inst2_Q;\n",
      "wire  inst3_Q;\n",
      "SB_DFF inst0 (.C(CLK), .D(I[0]), .Q(inst0_Q));\n",
      "SB_DFF inst1 (.C(CLK), .D(I[1]), .Q(inst1_Q));\n",
      "SB_DFF inst2 (.C(CLK), .D(I[2]), .Q(inst2_Q));\n",
      "SB_DFF inst3 (.C(CLK), .D(I[3]), .Q(inst3_Q));\n",
      "assign O = {inst3_Q,inst2_Q,inst1_Q,inst0_Q};\n",
      "endmodule\n",
      "\n",
      "module FullAdder (input  I0, input  I1, input  CIN, output  O, output  COUT);\n",
      "wire  inst0_O;\n",
      "wire  inst1_CO;\n",
      "SB_LUT4 #(.LUT_INIT(16'h9696)) inst0 (.I0(I0), .I1(I1), .I2(CIN), .I3(1'b0), .O(inst0_O));\n",
      "SB_CARRY inst1 (.I0(I0), .I1(I1), .CI(CIN), .CO(inst1_CO));\n",
      "assign O = inst0_O;\n",
      "assign COUT = inst1_CO;\n",
      "endmodule\n",
      "\n",
      "module Add4 (input [3:0] I0, input [3:0] I1, output [3:0] O);\n",
      "wire  inst0_O;\n",
      "wire  inst0_COUT;\n",
      "wire  inst1_O;\n",
      "wire  inst1_COUT;\n",
      "wire  inst2_O;\n",
      "wire  inst2_COUT;\n",
      "wire  inst3_O;\n",
      "wire  inst3_COUT;\n",
      "FullAdder inst0 (.I0(I0[0]), .I1(I1[0]), .CIN(1'b0), .O(inst0_O), .COUT(inst0_COUT));\n",
      "FullAdder inst1 (.I0(I0[1]), .I1(I1[1]), .CIN(inst0_COUT), .O(inst1_O), .COUT(inst1_COUT));\n",
      "FullAdder inst2 (.I0(I0[2]), .I1(I1[2]), .CIN(inst1_COUT), .O(inst2_O), .COUT(inst2_COUT));\n",
      "FullAdder inst3 (.I0(I0[3]), .I1(I1[3]), .CIN(inst2_COUT), .O(inst3_O), .COUT(inst3_COUT));\n",
      "assign O = {inst3_O,inst2_O,inst1_O,inst0_O};\n",
      "endmodule\n",
      "\n",
      "module Counter4 (output [3:0] O, input  CLK);\n",
      "wire [3:0] inst0_O;\n",
      "wire [3:0] inst1_O;\n",
      "Register4 inst0 (.I(inst1_O), .O(inst0_O), .CLK(CLK));\n",
      "Add4 inst1 (.I0(inst0_O), .I1({1'b0,1'b0,1'b0,1'b1}), .O(inst1_O));\n",
      "assign O = inst0_O;\n",
      "endmodule\n",
      "\n",
      "\n"
     ]
    }
   ],
   "source": [
    "with open(\"build/counter.v\", \"r\") as counter_verilog:\n",
    "    print(counter_verilog.read())"
   ]
  }
 ],
 "metadata": {
  "kernelspec": {
   "display_name": "Python 3",
   "language": "python",
   "name": "python3"
  },
  "language_info": {
   "codemirror_mode": {
    "name": "ipython",
    "version": 3
   },
   "file_extension": ".py",
   "mimetype": "text/x-python",
   "name": "python",
   "nbconvert_exporter": "python",
   "pygments_lexer": "ipython3",
   "version": "3.6.5"
  }
 },
 "nbformat": 4,
 "nbformat_minor": 2
}
