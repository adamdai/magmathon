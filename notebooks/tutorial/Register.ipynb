{
 "cells": [
  {
   "cell_type": "markdown",
   "metadata": {},
   "source": [
    "This example demonstrates the use of d-flip-flops and registers."
   ]
  },
  {
   "cell_type": "code",
   "execution_count": 1,
   "metadata": {},
   "outputs": [],
   "source": [
    "import magma as m\n",
    "m.set_mantle_target(\"ice40\")"
   ]
  },
  {
   "cell_type": "markdown",
   "metadata": {},
   "source": [
    "## DFF\n",
    "\n",
    "To use a DFF we import that `mantle` circuit `DFF`.\n",
    "Calling `DFF()` creates an instance of a DFF.\n",
    "\n",
    "A sequential logic element like a DFF is very similar\n",
    "to a combinational logic element like a full adder.\n",
    "It has inputs and outputs.\n",
    "The inputs and outputs are wired up in the same way as\n",
    "a combinational circuit."
   ]
  },
  {
   "cell_type": "code",
   "execution_count": 2,
   "metadata": {},
   "outputs": [
    {
     "name": "stdout",
     "output_type": "stream",
     "text": [
      "import lattice ice40\n",
      "import lattice mantle40\n"
     ]
    }
   ],
   "source": [
    "from loam.boards.icestick import IceStick\n",
    "from mantle import DFF\n",
    "\n",
    "icestick = IceStick()\n",
    "icestick.Clock.on() # Need to turn on the clock for sequential logic\n",
    "icestick.J1[0].input().on()\n",
    "icestick.J3[0].output().on()\n",
    "\n",
    "main = icestick.DefineMain()\n",
    "dff = DFF()\n",
    "m.wire( dff(main.J1), main.J3 )\n",
    "m.EndDefine()"
   ]
  },
  {
   "cell_type": "markdown",
   "metadata": {},
   "source": [
    "Since a flip-flop is a sequential logic element,\n",
    "it has a clock.\n",
    "`magma` automatically wires up the global clock to the flip-flop."
   ]
  },
  {
   "cell_type": "markdown",
   "metadata": {},
   "source": [
    "Let's compile and build."
   ]
  },
  {
   "cell_type": "code",
   "execution_count": 3,
   "metadata": {},
   "outputs": [
    {
     "name": "stdout",
     "output_type": "stream",
     "text": [
      "compiling main\n"
     ]
    }
   ],
   "source": [
    "m.compile(\"build/dff\", main, vendor=\"lattice\")"
   ]
  },
  {
   "cell_type": "code",
   "execution_count": 4,
   "metadata": {},
   "outputs": [
    {
     "name": "stdout",
     "output_type": "stream",
     "text": [
      "/Users/hanrahan/git/magmathon/notebooks/tutorial/build\n"
     ]
    },
    {
     "name": "stderr",
     "output_type": "stream",
     "text": [
      "init..\n",
      "cdone: high\n",
      "reset..\n",
      "cdone: low\n",
      "flash ID: 0x20 0xBA 0x16 0x10 0x00 0x00 0x23 0x51 0x73 0x10 0x23 0x00 0x15 0x00 0x26 0x06 0x06 0x15 0x9F 0x4E\n",
      "file size: 32220\n",
      "erase 64kB sector at 0x000000..\n",
      "programming..\n",
      "reading..\n",
      "VERIFY OK\n",
      "cdone: high\n",
      "Bye.\n"
     ]
    }
   ],
   "source": [
    "%%bash\n",
    "cd build\n",
    "yosys -q -p 'synth_ice40 -top main -blif dff.blif' dff.v\n",
    "arachne-pnr -q -d 1k -o dff.txt -p dff.pcf dff.blif \n",
    "icepack dff.txt dff.bin\n",
    "iceprog dff.bin"
   ]
  },
  {
   "cell_type": "markdown",
   "metadata": {},
   "source": [
    "## Register\n",
    "\n",
    "A register is simply an array of flip-flops.\n",
    "To create an instance of a register call `Register`\n",
    "with the number of bits `n` in the register."
   ]
  },
  {
   "cell_type": "code",
   "execution_count": 5,
   "metadata": {},
   "outputs": [],
   "source": [
    "from loam.boards.icestick import IceStick\n",
    "from mantle import Register\n",
    "\n",
    "icestick = IceStick()\n",
    "icestick.Clock.on() # Need to turn on the clock for sequential logic\n",
    "for i in range(4):\n",
    "    icestick.J1[i].input().on()\n",
    "    icestick.J3[i].output().on()\n",
    "\n",
    "main = icestick.DefineMain()\n",
    "register4 = Register(4)\n",
    "m.wire( register4(main.J1), main.J3 )\n",
    "m.EndDefine()"
   ]
  },
  {
   "cell_type": "markdown",
   "metadata": {},
   "source": [
    "Registers and DFFs are very similar to each other.\n",
    "The only difference is that the input and output to a DFF\n",
    "are `Bit` values,\n",
    "whereas the inputs and the outputs to registers are `Bits(n)`."
   ]
  },
  {
   "cell_type": "code",
   "execution_count": 6,
   "metadata": {},
   "outputs": [
    {
     "name": "stdout",
     "output_type": "stream",
     "text": [
      "compiling Register4\n",
      "compiling main\n"
     ]
    }
   ],
   "source": [
    "m.compile(\"build/register4\", main, vendor=\"lattice\")"
   ]
  },
  {
   "cell_type": "code",
   "execution_count": 7,
   "metadata": {},
   "outputs": [
    {
     "name": "stdout",
     "output_type": "stream",
     "text": [
      "/Users/hanrahan/git/magmathon/notebooks/tutorial/build\n"
     ]
    },
    {
     "name": "stderr",
     "output_type": "stream",
     "text": [
      "init..\n",
      "cdone: high\n",
      "reset..\n",
      "cdone: low\n",
      "flash ID: 0x20 0xBA 0x16 0x10 0x00 0x00 0x23 0x51 0x73 0x10 0x23 0x00 0x15 0x00 0x26 0x06 0x06 0x15 0x9F 0x4E\n",
      "file size: 32220\n",
      "erase 64kB sector at 0x000000..\n",
      "programming..\n",
      "reading..\n",
      "VERIFY OK\n",
      "cdone: high\n",
      "Bye.\n"
     ]
    }
   ],
   "source": [
    "%%bash\n",
    "cd build\n",
    "yosys -q -p 'synth_ice40 -top main -blif register4.blif' register4.v\n",
    "arachne-pnr -q -d 1k -o register4.txt -p register4.pcf register4.blif \n",
    "icepack register4.txt register4.bin\n",
    "iceprog register4.bin"
   ]
  }
 ],
 "metadata": {
  "kernelspec": {
   "display_name": "Python 3",
   "language": "python",
   "name": "python3"
  },
  "language_info": {
   "codemirror_mode": {
    "name": "ipython",
    "version": 3
   },
   "file_extension": ".py",
   "mimetype": "text/x-python",
   "name": "python",
   "nbconvert_exporter": "python",
   "pygments_lexer": "ipython3",
   "version": "3.6.5"
  }
 },
 "nbformat": 4,
 "nbformat_minor": 2
}
