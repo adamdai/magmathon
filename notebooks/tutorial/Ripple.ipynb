{
 "cells": [
  {
   "cell_type": "markdown",
   "metadata": {},
   "source": [
    "## Ripple Adder from Toggle Flip-Flops\n",
    "\n",
    "In this example we create a ripple adder from toggle flip-flops. \n",
    "We also show how to define new `Magma` `Circuits`\n",
    "and introduce *generators*."
   ]
  },
  {
   "cell_type": "code",
   "execution_count": 1,
   "metadata": {},
   "outputs": [
    {
     "name": "stdout",
     "output_type": "stream",
     "text": [
      "import mantle lattice ice40\n",
      "import mantle lattice mantle40\n"
     ]
    }
   ],
   "source": [
    "import magma as m\n",
    "\n",
    "import os\n",
    "os.environ['MANTLE_TARGET'] = 'ice40'\n",
    "from mantle import DFF"
   ]
  },
  {
   "cell_type": "markdown",
   "metadata": {},
   "source": [
    "In the last example, we defined a function that created a\n",
    "toggle flip-flop (TFF) from a DFF and an XOR gate.\n",
    "Let's convert the TFF to a `Circuit`. \n",
    "In `Magma` a `Circuit` is equivalent to a verilog *module*.\n",
    "Circuits can be instanced and then wired to other circuits."
   ]
  },
  {
   "cell_type": "code",
   "execution_count": 2,
   "metadata": {},
   "outputs": [],
   "source": [
    "class TFF(m.Circuit):\n",
    "    IO = [\"O\", m.Out(m.Bit)] + m.ClockInterface()\n",
    "    @classmethod\n",
    "    def definition(io):\n",
    "        ff = DFF()\n",
    "        m.wire( ff(~ff.O), io.O )\n",
    "        m.wireclock( io, ff )"
   ]
  },
  {
   "cell_type": "code",
   "execution_count": 3,
   "metadata": {},
   "outputs": [],
   "source": [
    "def DefineRippleCounter(n):\n",
    "    class RippleCounter(m.Circuit):\n",
    "        name = 'Ripple' + str(n)\n",
    "        IO = [\"O\", m.Out(m.Bits(n))] + m.ClockInterface()\n",
    "        @classmethod\n",
    "        def definition(io):\n",
    "            tffs = [TFF() for i in range(n)]\n",
    "            O = io.CLK\n",
    "            for i in range(n):\n",
    "                m.wire(O, tffs[i].CLK)\n",
    "                O = tffs[i].O\n",
    "                m.wire(O, io.O[i])\n",
    "    return RippleCounter"
   ]
  },
  {
   "cell_type": "code",
   "execution_count": 4,
   "metadata": {},
   "outputs": [],
   "source": [
    "N = 4\n",
    "Ripple = DefineRippleCounter(N)"
   ]
  },
  {
   "cell_type": "code",
   "execution_count": 5,
   "metadata": {},
   "outputs": [],
   "source": [
    "from loam.boards.icestick import IceStick\n",
    "\n",
    "icestick = IceStick()\n",
    "icestick.Clock.on()\n",
    "icestick.J1[0].rename('J1').input().on()  # rename so J1 is not an array\n",
    "for i in range(N):\n",
    "    icestick.J3[i].output().on()\n",
    "\n",
    "main = icestick.DefineMain()\n",
    "ripple = Ripple()\n",
    "m.wire( ripple.O, main.J3 )\n",
    "m.EndDefine()"
   ]
  },
  {
   "cell_type": "markdown",
   "metadata": {},
   "source": [
    "## Compile and Build"
   ]
  },
  {
   "cell_type": "code",
   "execution_count": 6,
   "metadata": {},
   "outputs": [
    {
     "name": "stdout",
     "output_type": "stream",
     "text": [
      "compiling TFF\n",
      "compiling Ripple4\n",
      "compiling main\n"
     ]
    }
   ],
   "source": [
    "m.compile(\"build/ripple\", main)"
   ]
  },
  {
   "cell_type": "code",
   "execution_count": 7,
   "metadata": {},
   "outputs": [
    {
     "name": "stdout",
     "output_type": "stream",
     "text": [
      "/Users/hanrahan/git/magmathon/notebooks/tutorial/build\n"
     ]
    }
   ],
   "source": [
    "%%bash\n",
    "cd build\n",
    "yosys -q -p 'synth_ice40 -top main -blif ripple.blif' ripple.v\n",
    "arachne-pnr -q -d 1k -o ripple.txt -p ripple.pcf ripple.blif \n",
    "icepack ripple.txt ripple.bin\n",
    "# iceprog ripple.bin"
   ]
  },
  {
   "cell_type": "code",
   "execution_count": null,
   "metadata": {
    "collapsed": true
   },
   "outputs": [],
   "source": []
  }
 ],
 "metadata": {
  "kernelspec": {
   "display_name": "Python 3",
   "language": "python",
   "name": "python3"
  },
  "language_info": {
   "codemirror_mode": {
    "name": "ipython",
    "version": 3
   },
   "file_extension": ".py",
   "mimetype": "text/x-python",
   "name": "python",
   "nbconvert_exporter": "python",
   "pygments_lexer": "ipython3",
   "version": "3.6.5"
  }
 },
 "nbformat": 4,
 "nbformat_minor": 2
}
