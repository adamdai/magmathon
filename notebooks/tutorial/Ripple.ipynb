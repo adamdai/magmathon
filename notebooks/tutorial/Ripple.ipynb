{
 "cells": [
  {
   "cell_type": "markdown",
   "metadata": {},
   "source": [
    "## Toggle Flip-Flop\n",
    "\n",
    "In this example we create a toggle flip-flop from a d-flip-flop and an xor gate. This shows how to construct sequential logic circuits using `Magma`."
   ]
  },
  {
   "cell_type": "code",
   "execution_count": 1,
   "metadata": {},
   "outputs": [
    {
     "name": "stdout",
     "output_type": "stream",
     "text": [
      "import mantle lattice ice40\n",
      "import mantle lattice mantle40\n"
     ]
    }
   ],
   "source": [
    "import magma as m\n",
    "\n",
    "import os\n",
    "os.environ['MANTLE_TARGET'] = 'ice40'\n",
    "from mantle import DFF"
   ]
  },
  {
   "cell_type": "code",
   "execution_count": 2,
   "metadata": {
    "collapsed": true
   },
   "outputs": [],
   "source": [
    "def tff(I):\n",
    "    # instance a dff to hold the state of the toggle flip-flop - this needs to be done first\n",
    "    ff = DFF()\n",
    "\n",
    "    # compute the next state using the input I and the old state ff.O\n",
    "    ff( I ^ ff.O)\n",
    "\n",
    "    return ff.O"
   ]
  },
  {
   "cell_type": "code",
   "execution_count": 3,
   "metadata": {},
   "outputs": [],
   "source": [
    "from loam.boards.icestick import IceStick\n",
    "\n",
    "icestick = IceStick()\n",
    "icestick.Clock.on()\n",
    "icestick.J1[0].rename('J1').input().on()  # rename so it is not an array\n",
    "icestick.J3[0].rename('J3').output().on()\n",
    "\n",
    "main = icestick.DefineMain()\n",
    "m.wire( tff(main.J1), main.J3 )\n",
    "m.EndDefine()"
   ]
  },
  {
   "cell_type": "markdown",
   "metadata": {},
   "source": [
    "## Compile and Build"
   ]
  },
  {
   "cell_type": "code",
   "execution_count": 4,
   "metadata": {},
   "outputs": [
    {
     "name": "stdout",
     "output_type": "stream",
     "text": [
      "compiling XOr2\n",
      "compiling main\n"
     ]
    }
   ],
   "source": [
    "m.compile(\"build/tff\", main)"
   ]
  },
  {
   "cell_type": "code",
   "execution_count": 5,
   "metadata": {},
   "outputs": [
    {
     "name": "stdout",
     "output_type": "stream",
     "text": [
      "/Users/hanrahan/git/magmathon/notebooks/build\n"
     ]
    }
   ],
   "source": [
    "%%bash\n",
    "cd build\n",
    "yosys -q -p 'synth_ice40 -top main -blif tff.blif' tff.v\n",
    "arachne-pnr -q -d 1k -o tff.txt -p tff.pcf tff.blif \n",
    "icepack tff.txt tff.bin\n",
    "# iceprog tff.bin"
   ]
  },
  {
   "cell_type": "markdown",
   "metadata": {},
   "source": [
    "If you connect a switch to `J1`,\n",
    "then the flip-flop should toggle when the switch is on."
   ]
  },
  {
   "cell_type": "markdown",
   "metadata": {},
   "source": [
    "Here is the verilog."
   ]
  },
  {
   "cell_type": "code",
   "execution_count": 6,
   "metadata": {},
   "outputs": [
    {
     "name": "stdout",
     "output_type": "stream",
     "text": [
      "module XOr2 (input [1:0] I, output  O);\n",
      "wire  inst0_O;\n",
      "SB_LUT4 #(.LUT_INIT(16'h6666)) inst0 (.I0(I[0]), .I1(I[1]), .I2(1'b0), .I3(1'b0), .O(inst0_O));\n",
      "assign O = inst0_O;\n",
      "endmodule\n",
      "\n",
      "module main (input  J1, output  J3, input  CLKIN);\n",
      "wire  inst0_Q;\n",
      "wire  inst1_O;\n",
      "SB_DFF inst0 (.C(CLKIN), .D(inst1_O), .Q(inst0_Q));\n",
      "XOr2 inst1 (.I({inst0_Q,J1}), .O(inst1_O));\n",
      "assign J3 = inst0_Q;\n",
      "endmodule\n",
      "\n",
      "\n"
     ]
    }
   ],
   "source": [
    "with open(\"build/tff.v\", \"r\") as tff_verilog:\n",
    "    print(tff_verilog.read())"
   ]
  },
  {
   "cell_type": "markdown",
   "metadata": {},
   "source": [
    "Note that this example uses the built-in ICE40 `SB_DFF` and `SB_LUT4` primitives."
   ]
  },
  {
   "cell_type": "code",
   "execution_count": null,
   "metadata": {
    "collapsed": true
   },
   "outputs": [],
   "source": []
  }
 ],
 "metadata": {
  "kernelspec": {
   "display_name": "Python 3",
   "language": "python",
   "name": "python3"
  },
  "language_info": {
   "codemirror_mode": {
    "name": "ipython",
    "version": 3
   },
   "file_extension": ".py",
   "mimetype": "text/x-python",
   "name": "python",
   "nbconvert_exporter": "python",
   "pygments_lexer": "ipython3",
   "version": "3.6.5"
  }
 },
 "nbformat": 4,
 "nbformat_minor": 2
}
