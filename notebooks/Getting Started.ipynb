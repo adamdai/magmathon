{
 "cells": [
  {
   "cell_type": "markdown",
   "metadata": {},
   "source": [
    "[`Magma`](https://github.com/phanrahan/magma) is a simple hardware construction languages written `Python 3`. The central abstraction in `Magma` is a `Circuit`. Magma circuits are analagous to verilog modules. A circuit is a set of functional units that are wired together. Although wiring modules together may seem low-level, it encourages hardware designers to build reusable components, similar to how programmers build libraries. \n",
    "\n",
    "`Magma` is designed to work with [`Mantle`](https://github.com/phanrahan/mantle). `Mantle` is a library of hardware building blocks such as logic and arithmetic units, registers, and memories. \n",
    "\n",
    "The other system is [`Loam`](https://github.com/phanrahan/loam). `Loam` is used to represent *parts* and *boards*. It makes is easy to setup a board such as the Icestick."
   ]
  },
  {
   "cell_type": "markdown",
   "metadata": {},
   "source": [
    "Let's start with a simple example, a program that blinks an LED on the Icestick Board.\n",
    "\n",
    "![icestick](images/icestick.jpg)"
   ]
  },
  {
   "cell_type": "markdown",
   "metadata": {},
   "source": [
    "First, we import `Magma` as the module m and import an n-bit `Counter` from `Mantle`'"
   ]
  },
  {
   "cell_type": "code",
   "execution_count": 1,
   "metadata": {},
   "outputs": [
    {
     "name": "stdout",
     "output_type": "stream",
     "text": [
      "import mantle lattice ice40\n",
      "import mantle lattice mantle40\n"
     ]
    }
   ],
   "source": [
    "import os\n",
    "os.environ['MANTLE_TARGET'] = 'ice40'\n",
    "\n",
    "import magma as m\n",
    "from mantle import Counter"
   ]
  },
  {
   "cell_type": "markdown",
   "metadata": {},
   "source": [
    "The next step is to setup the IceStick board. We import the class `IceStick` from loam. We then create an instance of an Icestock board, and then turn on the Clock and the LED D5. Turning on the clock and the LED sets up the build environment to use the associated pins on the board."
   ]
  },
  {
   "cell_type": "code",
   "execution_count": 4,
   "metadata": {},
   "outputs": [],
   "source": [
    "from loam.boards.icestick import IceStick\n",
    "\n",
    "# Create an instance of an IceStick board\n",
    "icestick = IceStick()\n",
    "\n",
    "# Turn on the Clock \n",
    "#  The clock is turned on because we are using a synchronous counter\n",
    "icestick.Clock.on()\n",
    "\n",
    "# Turn on the LED D5\n",
    "icestick.D5.on();"
   ]
  },
  {
   "cell_type": "markdown",
   "metadata": {},
   "source": [
    "Now that the setup is done, we create a `main` program that runs on the Lattice ICE40 FPGA. This main program becomes the top level module.\n",
    "\n",
    "Once that is done we create a 22-bit counter, and wire the most-significant bit to the LED. The crystal connected to the ICE40 runs at 12 Mhz. A 22-bit counter holds numbers up to 4 million, so the LED will blink roughly 3 times per second."
   ]
  },
  {
   "cell_type": "code",
   "execution_count": null,
   "metadata": {
    "collapsed": true
   },
   "outputs": [],
   "source": [
    "# Define a Magma Circuit on the FPGA on the IceStick\n",
    "main = icestick.DefineMain()\n",
    "\n",
    "# Create a 22-bit counter\n",
    "N = 22\n",
    "counter = Counter(N)\n",
    "\n",
    "# Wire bit 21 of the counter to D5.\n",
    "#  Since the clock frequency is 12Mhz,\n",
    "#  bit 22 will toggle  approximately once per second\n",
    "wire(counter.O[N-1], main.D5)\n",
    "\n",
    "EndDefine()"
   ]
  },
  {
   "cell_type": "markdown",
   "metadata": {},
   "source": [
    "We then compile the program to verilog. This step also creates a PCF (physical constraints file)."
   ]
  },
  {
   "cell_type": "code",
   "execution_count": null,
   "metadata": {},
   "outputs": [],
   "source": [
    "m.compile('build/blink', main)"
   ]
  },
  {
   "cell_type": "markdown",
   "metadata": {},
   "source": [
    "Now we run the open source tools for the Lattice ICE40. \n",
    "`yosys` synthesizes the verilog file (`blink.v`) and produces a netlist (`blink.blif`).\n",
    "`arachne-pnr` runs the place and router.\n",
    "Finally, `icepack` creates the bitstream file."
   ]
  },
  {
   "cell_type": "code",
   "execution_count": null,
   "metadata": {
    "collapsed": true
   },
   "outputs": [],
   "source": [
    "%%bash\n",
    "yosys -q -p 'synth_ice40 -top main -blif build/blink.blif' build/blink.v\n",
    "arachne-pnr -q -d 1k -o build/blink.txt -p build/blink.pcf build/blink.blif \n",
    "icepack build/blink.txt build/blink.bin"
   ]
  },
  {
   "cell_type": "markdown",
   "metadata": {},
   "source": [
    "Upload the bitstream file (`blink.bin`) to the FPGA. \n",
    "The Lattice board needs to be connected to your laptop."
   ]
  },
  {
   "cell_type": "code",
   "execution_count": null,
   "metadata": {
    "collapsed": true
   },
   "outputs": [],
   "source": [
    "%%bash \n",
    "iceprog build/blink.bin"
   ]
  }
 ],
 "metadata": {
  "kernelspec": {
   "display_name": "Python 3",
   "language": "python",
   "name": "python3"
  },
  "language_info": {
   "codemirror_mode": {
    "name": "ipython",
    "version": 3
   },
   "file_extension": ".py",
   "mimetype": "text/x-python",
   "name": "python",
   "nbconvert_exporter": "python",
   "pygments_lexer": "ipython3",
   "version": "3.6.5"
  }
 },
 "nbformat": 4,
 "nbformat_minor": 2
}
