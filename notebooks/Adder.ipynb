{
 "cells": [
  {
   "cell_type": "markdown",
   "metadata": {},
   "source": [
    "Start by importing `Magma` and `Mantle`."
   ]
  },
  {
   "cell_type": "code",
   "execution_count": 1,
   "metadata": {},
   "outputs": [
    {
     "name": "stdout",
     "output_type": "stream",
     "text": [
      "import mantle lattice ice40\n",
      "import mantle lattice mantle40\n"
     ]
    }
   ],
   "source": [
    "import magma as m\n",
    "\n",
    "import os\n",
    "os.environ['MANTLE_TARGET'] = 'ice40'\n",
    "import mantle"
   ]
  },
  {
   "cell_type": "markdown",
   "metadata": {},
   "source": [
    "Now let's build a 4-bit adder from the FullAdder."
   ]
  },
  {
   "cell_type": "code",
   "execution_count": 2,
   "metadata": {
    "collapsed": true
   },
   "outputs": [],
   "source": [
    "class FullAdder(m.Circuit):\n",
    "    name = \"FullAdder\"\n",
    "    IO = [\"A\", m.In(m.Bit), \"B\", m.In(m.Bit), \"Cin\", m.In(m.Bit), \"Sum\", m.Out(m.Bit), \"Cout\", m.Out(m.Bit)]\n",
    "    @classmethod\n",
    "    def definition(io):\n",
    "        # Compute the sum\n",
    "        sum_ = io.A ^ io.B ^ io.Cin\n",
    "        m.wire(sum_, io.Sum)\n",
    "        # Compute the carry\n",
    "        cout = (io.A & io.B) | (io.B & io.Cin) | (io.A & io.Cin)\n",
    "        # Wire cout\n",
    "        m.wire(cout, io.Cout)"
   ]
  },
  {
   "cell_type": "code",
   "execution_count": 3,
   "metadata": {
    "collapsed": true
   },
   "outputs": [],
   "source": [
    "def adder(A, B):\n",
    "    n = len(A)\n",
    "    C = []\n",
    "    Cout = 0\n",
    "    for i in range(n):\n",
    "        fulladder = FullAdder()\n",
    "        m.wire(A[i], fulladder.A)\n",
    "        m.wire(B[i], fulladder.B)\n",
    "        m.wire(Cout, fulladder.Cin)\n",
    "        C.append(fulladder.Sum)\n",
    "        Cout = fulladder.Cout\n",
    "    return m.uint(C)  "
   ]
  },
  {
   "cell_type": "markdown",
   "metadata": {},
   "source": [
    "Initialize the IceStick headers. `J1` will be used as inputs; `J3` will be used as outputs."
   ]
  },
  {
   "cell_type": "code",
   "execution_count": 4,
   "metadata": {
    "collapsed": true
   },
   "outputs": [],
   "source": [
    "from loam.boards.icestick import IceStick\n",
    "\n",
    "icestick = IceStick()\n",
    "for i in range(4):\n",
    "    icestick.J1[i].input().on()\n",
    "    icestick.J1[i+4].input().on()\n",
    "    icestick.J3[i].output().on()"
   ]
  },
  {
   "cell_type": "code",
   "execution_count": 5,
   "metadata": {},
   "outputs": [],
   "source": [
    "main = icestick.DefineMain()\n",
    "\n",
    "m.wire(adder(main.J1[0:4], main.J1[4:8]), main.J3)\n",
    "\n",
    "m.EndDefine()"
   ]
  },
  {
   "cell_type": "code",
   "execution_count": 6,
   "metadata": {},
   "outputs": [
    {
     "name": "stdout",
     "output_type": "stream",
     "text": [
      "compiling XOr2\n",
      "compiling And2\n",
      "compiling Or2\n",
      "compiling FullAdder\n",
      "compiling main\n"
     ]
    }
   ],
   "source": [
    "m.compile('build/adder', main)"
   ]
  },
  {
   "cell_type": "code",
   "execution_count": 7,
   "metadata": {
    "collapsed": true
   },
   "outputs": [],
   "source": [
    "%%bash\n",
    "yosys -q -p 'synth_ice40 -top main -blif build/adder.blif' build/adder.v\n",
    "arachne-pnr -q -d 1k -o build/adder.txt -p build/adder.pcf build/adder.blif \n",
    "icepack build/adder.txt build/adder.bin"
   ]
  },
  {
   "cell_type": "code",
   "execution_count": 8,
   "metadata": {
    "collapsed": true
   },
   "outputs": [],
   "source": [
    "%%bash \n",
    "# iceprog build/adder.bin"
   ]
  }
 ],
 "metadata": {
  "kernelspec": {
   "display_name": "Python 3",
   "language": "python",
   "name": "python3"
  },
  "language_info": {
   "codemirror_mode": {
    "name": "ipython",
    "version": 3
   },
   "file_extension": ".py",
   "mimetype": "text/x-python",
   "name": "python",
   "nbconvert_exporter": "python",
   "pygments_lexer": "ipython3",
   "version": "3.6.5"
  }
 },
 "nbformat": 4,
 "nbformat_minor": 2
}
