{
 "cells": [
  {
   "cell_type": "markdown",
   "metadata": {},
   "source": [
    "# Full Adder\n",
    "Below is a Logisim diagram of a Full Adder circuit implementation. \n",
    "![](./images/full_adder_logisim.png)\n",
    "\n",
    "First we begin by importing magma. We will use the prefix `m` to distinguish between magma functions and native Python."
   ]
  },
  {
   "cell_type": "code",
   "execution_count": 1,
   "metadata": {
    "collapsed": true
   },
   "outputs": [],
   "source": [
    "import magma as m"
   ]
  },
  {
   "cell_type": "markdown",
   "metadata": {},
   "source": [
    "The following information was taken from the Lattice data sheet describing the ice40 architecture. The `SB_LUT4` is a 4-input lookup table that we will configure to implement logic functions.\n",
    "![](./images/SB_LUT4_diagram.png)\n",
    "![](./images/SB_LUT4_verilog.png)\n",
    "\n",
    "We can use `m.DeclareCircuit` to declare a circuit corresponding to the `SB_LUT4` primitive. We use `m.In` and `m.Out` to specify the directionality of a port. All the inputs and outputs are a single `m.Bit`. \n",
    "\n",
    "We also include the values `A0, A1, A2, A3` that enable us to conveniently specify the lookup table (LUT) initialization values. For example, to implement `I0 & I1 ^ I2 | I3`, we can compute the LUT initialization value as `A0 & A1 ^ A2 | A3`."
   ]
  },
  {
   "cell_type": "code",
   "execution_count": 2,
   "metadata": {
    "collapsed": true
   },
   "outputs": [],
   "source": [
    "SB_LUT4 = m.DeclareCircuit(\"SB_LUT4\",\n",
    "                           \"I0\", m.In(m.Bit),\n",
    "                           \"I1\", m.In(m.Bit),\n",
    "                           \"I2\", m.In(m.Bit),\n",
    "                           \"I3\", m.In(m.Bit),\n",
    "                           \"O\",  m.Out(m.Bit))\n",
    "\n",
    "A0 = 0xAAAA\n",
    "A1 = 0xCCCC\n",
    "A2 = 0xF0F0\n",
    "A3 = 0xFF00"
   ]
  },
  {
   "cell_type": "markdown",
   "metadata": {},
   "source": [
    "Based on our logisim diagram, we will need to define 3 logic gates:\n",
    "* 2-bit and\n",
    "* 3-bit or\n",
    "* 3-bit xor"
   ]
  },
  {
   "cell_type": "code",
   "execution_count": 3,
   "metadata": {
    "collapsed": true
   },
   "outputs": [],
   "source": [
    "class And2(m.Circuit):\n",
    "    name = \"And2\"\n",
    "    IO = [\"I0\", m.In(m.Bit), \"I1\", m.In(m.Bit), \"O\", m.Out(m.Bit)]\n",
    "    \n",
    "    @classmethod\n",
    "    def definition(io):\n",
    "        lut = SB_LUT4(LUT_INIT=(A0&A1, 16))\n",
    "        m.wire(io.I0, lut.I0)\n",
    "        m.wire(io.I1, lut.I1)\n",
    "        m.wire(0, lut.I2)\n",
    "        m.wire(0, lut.I3)\n",
    "        m.wire(lut.O, io.O)\n",
    "\n",
    "class Or3(m.Circuit):\n",
    "    name = \"Or3\"\n",
    "    IO = [\"I0\", m.In(m.Bit), \"I1\", m.In(m.Bit), \"I2\", m.In(m.Bit), \"O\", m.Out(m.Bit)]\n",
    "    \n",
    "    @classmethod\n",
    "    def definition(io):\n",
    "        lut = SB_LUT4(LUT_INIT=(A0|A1|A3, 16))\n",
    "        m.wire(io.I0, lut.I0)\n",
    "        m.wire(io.I1, lut.I1)\n",
    "        m.wire(io.I2, lut.I2)\n",
    "        m.wire(0, lut.I3)\n",
    "        m.wire(lut.O, io.O)\n",
    "\n",
    "\n",
    "class Xor3(m.Circuit):\n",
    "    name = \"Xor3\"\n",
    "    IO = [\"I0\", m.In(m.Bit), \"I1\", m.In(m.Bit), \"I2\", m.In(m.Bit), \"O\", m.Out(m.Bit)]\n",
    "    \n",
    "    @classmethod\n",
    "    def definition(io):\n",
    "        lut = SB_LUT4(LUT_INIT=(A0^A1^A3, 16))\n",
    "        m.wire(io.I0, lut.I0)\n",
    "        m.wire(io.I1, lut.I1)\n",
    "        m.wire(io.I2, lut.I2)\n",
    "        m.wire(0, lut.I3)\n",
    "        m.wire(lut.O, io.O)"
   ]
  },
  {
   "cell_type": "markdown",
   "metadata": {},
   "source": [
    "We can define standard Python functions to instance, wire up inputs, and return the output of our logic gates.\n",
    "\n",
    "* `And2()` returns an instance of the And2 circuit\n",
    "* `and2_instance(a, b)` wires `a` and `b` to the inputs of `and2_instance` and returns the output `O`"
   ]
  },
  {
   "cell_type": "code",
   "execution_count": 4,
   "metadata": {
    "collapsed": true
   },
   "outputs": [],
   "source": [
    "def and2(a, b):\n",
    "    and2_instance = And2()\n",
    "    return and2_instance(a, b)\n",
    "\n",
    "def or3(a, b, c):\n",
    "    return Or3()(a, b, c)\n",
    "\n",
    "def xor3(a, b, c):\n",
    "    return Xor3()(a, b, c)"
   ]
  },
  {
   "cell_type": "markdown",
   "metadata": {},
   "source": [
    "Finally, we can define a circuit to implement a Full Adder using our previously defined logic gates."
   ]
  },
  {
   "cell_type": "code",
   "execution_count": 5,
   "metadata": {
    "collapsed": true
   },
   "outputs": [],
   "source": [
    "class FullAdder(m.Circuit):\n",
    "    name = \"FullAdder\"\n",
    "    IO = [\"a\", m.In(m.Bit), \"b\", m.In(m.Bit), \"cin\", m.In(m.Bit), \n",
    "          \"out\", m.Out(m.Bit), \"cout\", m.Out(m.Bit)]\n",
    "    @classmethod\n",
    "    def definition(io):\n",
    "        # Generate the sum\n",
    "        out = xor3(io.a, io.b, io.cin)\n",
    "        m.wire(out, io.out)\n",
    "        # Generate the carry\n",
    "        a_and_b = and2(io.a, io.b)\n",
    "        b_and_cin = and2(io.b, io.cin)\n",
    "        a_and_cin = and2(io.a, io.cin)\n",
    "        cout = or3(a_and_b, b_and_cin, a_and_cin)\n",
    "        m.wire(cout, io.cout)"
   ]
  },
  {
   "cell_type": "markdown",
   "metadata": {},
   "source": [
    "We can import magma's verilog backend to view the verilog definition corresponding to our FullAdder circuit. Notice the logic gates defined in terms of the `SB_LUT4` primitive."
   ]
  },
  {
   "cell_type": "code",
   "execution_count": 6,
   "metadata": {},
   "outputs": [
    {
     "name": "stdout",
     "output_type": "stream",
     "text": [
      "compiling Xor3\n",
      "compiling And2\n",
      "compiling Or3\n",
      "compiling FullAdder\n",
      "module Xor3 (input  I0, input  I1, input  I2, output  O);\n",
      "wire  inst0_O;\n",
      "SB_LUT4 #(.LUT_INIT(16'h9966)) inst0 (.I0(I0), .I1(I1), .I2(I2), .I3(1'b0), .O(inst0_O));\n",
      "assign O = inst0_O;\n",
      "endmodule\n",
      "\n",
      "module And2 (input  I0, input  I1, output  O);\n",
      "wire  inst0_O;\n",
      "SB_LUT4 #(.LUT_INIT(16'h8888)) inst0 (.I0(I0), .I1(I1), .I2(1'b0), .I3(1'b0), .O(inst0_O));\n",
      "assign O = inst0_O;\n",
      "endmodule\n",
      "\n",
      "module Or3 (input  I0, input  I1, input  I2, output  O);\n",
      "wire  inst0_O;\n",
      "SB_LUT4 #(.LUT_INIT(16'hFFEE)) inst0 (.I0(I0), .I1(I1), .I2(I2), .I3(1'b0), .O(inst0_O));\n",
      "assign O = inst0_O;\n",
      "endmodule\n",
      "\n",
      "module FullAdder (input  a, input  b, input  cin, output  out, output  cout);\n",
      "wire  inst0_O;\n",
      "wire  inst1_O;\n",
      "wire  inst2_O;\n",
      "wire  inst3_O;\n",
      "wire  inst4_O;\n",
      "Xor3 inst0 (.I0(a), .I1(b), .I2(cin), .O(inst0_O));\n",
      "And2 inst1 (.I0(a), .I1(b), .O(inst1_O));\n",
      "And2 inst2 (.I0(b), .I1(cin), .O(inst2_O));\n",
      "And2 inst3 (.I0(a), .I1(cin), .O(inst3_O));\n",
      "Or3 inst4 (.I0(inst1_O), .I1(inst2_O), .I2(inst3_O), .O(inst4_O));\n",
      "assign out = inst0_O;\n",
      "assign cout = inst4_O;\n",
      "endmodule\n",
      "\n",
      "\n"
     ]
    }
   ],
   "source": [
    "from magma.backend.verilog import compile as compile_verilog\n",
    "\n",
    "print(compile_verilog(FullAdder))"
   ]
  },
  {
   "cell_type": "markdown",
   "metadata": {},
   "source": [
    "We will test our circuit on the icestick by wiring the outputs to the `D1` and `D2` leds. We begin by importing the `IceStick` module from `loam`. With an instance of the `IceStick`, we turn on the clock, D1, and D2 pins. We then define a `main` function by calling `icestick.main()`, instancing our FullAdder, and wiring up the ports."
   ]
  },
  {
   "cell_type": "code",
   "execution_count": 7,
   "metadata": {
    "scrolled": true
   },
   "outputs": [
    {
     "name": "stdout",
     "output_type": "stream",
     "text": [
      "import mantle lattice ice40\n",
      "import mantle lattice mantle40\n"
     ]
    }
   ],
   "source": [
    "from loam.boards.icestick import IceStick\n",
    "icestick = IceStick()\n",
    "\n",
    "icestick.Clock.on()\n",
    "icestick.D1.on()\n",
    "icestick.D2.on()\n",
    "\n",
    "main = icestick.main()\n",
    "adder = FullAdder()\n",
    "m.wire(0, adder.a)\n",
    "m.wire(1, adder.b)\n",
    "m.wire(1, adder.cin)\n",
    "m.wire(adder.out, main.D1)\n",
    "m.wire(adder.cout, main.D2)"
   ]
  },
  {
   "cell_type": "markdown",
   "metadata": {},
   "source": [
    "We use magma's `m.compile` function to generate verilog and pcf files for the icestick"
   ]
  },
  {
   "cell_type": "code",
   "execution_count": 8,
   "metadata": {
    "scrolled": true
   },
   "outputs": [
    {
     "name": "stdout",
     "output_type": "stream",
     "text": [
      "compiling Xor3\n",
      "compiling And2\n",
      "compiling Or3\n",
      "compiling FullAdder\n",
      "compiling main\n"
     ]
    }
   ],
   "source": [
    "m.compile(\"build/ice_full_adder\", main)"
   ]
  },
  {
   "cell_type": "markdown",
   "metadata": {},
   "source": [
    "Finally, we use the yosys, arachne-pnr, and the icestorm tools to flash our circuit onto the icestick"
   ]
  },
  {
   "cell_type": "code",
   "execution_count": 9,
   "metadata": {},
   "outputs": [
    {
     "name": "stderr",
     "output_type": "stream",
     "text": [
      "init..\n",
      "cdone: high\n",
      "reset..\n",
      "cdone: low\n",
      "flash ID: 0x20 0xBA 0x16 0x10 0x00 0x00 0x23 0x51 0x73 0x10 0x23 0x00 0x35 0x00 0x35 0x06 0x06 0x15 0x43 0xB6\n",
      "file size: 32220\n",
      "erase 64kB sector at 0x000000..\n",
      "programming..\n",
      "reading..\n",
      "VERIFY OK\n",
      "cdone: high\n",
      "Bye.\n"
     ]
    }
   ],
   "source": [
    "%%bash\n",
    "cd build\n",
    "yosys -q -p 'synth_ice40 -top main -blif ice_full_adder.blif' ice_full_adder.v\n",
    "arachne-pnr -q -d 1k -o ice_full_adder.txt -p ice_full_adder.pcf ice_full_adder.blif\n",
    "icepack ice_full_adder.txt ice_full_adder.bin\n",
    "\n",
    "iceprog ice_full_adder.bin"
   ]
  }
 ],
 "metadata": {
  "kernelspec": {
   "display_name": "Python 3",
   "language": "python",
   "name": "python3"
  },
  "language_info": {
   "codemirror_mode": {
    "name": "ipython",
    "version": 3
   },
   "file_extension": ".py",
   "mimetype": "text/x-python",
   "name": "python",
   "nbconvert_exporter": "python",
   "pygments_lexer": "ipython3",
   "version": "3.6.2"
  }
 },
 "nbformat": 4,
 "nbformat_minor": 2
}
