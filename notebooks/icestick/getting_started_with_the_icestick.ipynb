{
 "cells": [
  {
   "cell_type": "markdown",
   "metadata": {},
   "source": [
    "# Gettting Started with the Icestick\n",
    "\n",
    "Adapted from\n",
    "[https://github.com/rdaly525/CS448H/blob/master/icestick/README.md](https://github.com/rdaly525/CS448H/blob/master/icestick/README.md)\n",
    "by Ross Daly\n",
    "\n",
    "### Lattice Icestick\n",
    "[http://www.latticesemi.com/icestick](http://www.latticesemi.com/icestick)\n",
    "\n",
    "> USB thumb drive form factor evaluation board - [...] an easy to use, small size board that allows rapid prototyping of system functions at a very low cost using Lattice Semiconductor's iCE40 FPGA family.\n",
    "\n",
    "### Project Icestorm\n",
    "[http://www.clifford.at/icestorm/](http://www.clifford.at/icestorm/)\n",
    "\n",
    "> Project IceStorm aims at reverse engineering and documenting the bitstream\n",
    "> format of Lattice iCE40 FPGAs and providing simple tools for analyzing and\n",
    "> creating bitstream files. The IceStorm flow (Yosys, Arachne-pnr, and\n",
    "> IceStorm) is a fully open source Verilog-to-Bitstream flow for iCE40 FPGAs.\n",
    "\n",
    "## Setup\n",
    "Follow the installation instructions on the [the icestorm website]([http://www.clifford.at/icestorm/](http://www.clifford.at/icestorm/) under \"Where are the Tools? How to install?\""
   ]
  },
  {
   "cell_type": "code",
   "execution_count": 1,
   "metadata": {},
   "outputs": [
    {
     "name": "stdout",
     "output_type": "stream",
     "text": [
      "from magma import wire, compile, EndCircuit\n",
      "from loam.boards.icestick import IceStick, Counter\n",
      "\n",
      "icestick = IceStick()\n",
      "icestick.Clock.on()\n",
      "icestick.D1.on()\n",
      "\n",
      "main = icestick.main()\n",
      "\n",
      "counter = Counter(24)\n",
      "wire(counter.O[-1], main.D1)\n",
      "\n",
      "EndCircuit()\n",
      "\n"
     ]
    }
   ],
   "source": [
    "with open(\"blink.py\", \"r\") as blink:\n",
    "    print(blink.read())"
   ]
  },
  {
   "cell_type": "markdown",
   "metadata": {},
   "source": [
    "We can use the `magma` binary to compile `blink.py` for the icestick."
   ]
  },
  {
   "cell_type": "code",
   "execution_count": 2,
   "metadata": {},
   "outputs": [
    {
     "name": "stdout",
     "output_type": "stream",
     "text": [
      "import mantle lattice ice40\n",
      "import mantle lattice mantle40\n",
      "compiling FullAdder\n",
      "compiling AdderCout24\n",
      "compiling Register24\n",
      "compiling Counter24\n",
      "compiling main\n"
     ]
    }
   ],
   "source": [
    "!../../bin/magma -b icestick blink.py"
   ]
  },
  {
   "cell_type": "markdown",
   "metadata": {},
   "source": [
    "To inspect the generated verilog"
   ]
  },
  {
   "cell_type": "code",
   "execution_count": 3,
   "metadata": {},
   "outputs": [
    {
     "name": "stdout",
     "output_type": "stream",
     "text": [
      "module FullAdder (input  I0, input  I1, input  CIN, output  O, output  COUT);\n",
      "wire  inst0_O;\n",
      "wire  inst1_CO;\n",
      "SB_LUT4 #(.LUT_INIT(16'h9696)) inst0 (.I0(I0), .I1(I1), .I2(CIN), .I3(1'b0), .O(inst0_O));\n",
      "SB_CARRY inst1 (.I0(I0), .I1(I1), .CI(CIN), .CO(inst1_CO));\n",
      "assign O = inst0_O;\n",
      "assign COUT = inst1_CO;\n",
      "endmodule\n",
      "\n",
      "module AdderCout24 (input [23:0] I0, input [23:0] I1, output [23:0] O, output  COUT);\n",
      "wire  inst0_O;\n",
      "wire  inst0_COUT;\n",
      "wire  inst1_O;\n",
      "wire  inst1_COUT;\n",
      "wire  inst2_O;\n",
      "wire  inst2_COUT;\n",
      "wire  inst3_O;\n",
      "wire  inst3_COUT;\n",
      "wire  inst4_O;\n",
      "wire  inst4_COUT;\n",
      "wire  inst5_O;\n",
      "wire  inst5_COUT;\n",
      "wire  inst6_O;\n",
      "wire  inst6_COUT;\n",
      "wire  inst7_O;\n",
      "wire  inst7_COUT;\n",
      "wire  inst8_O;\n",
      "wire  inst8_COUT;\n",
      "wire  inst9_O;\n",
      "wire  inst9_COUT;\n",
      "wire  inst10_O;\n",
      "wire  inst10_COUT;\n",
      "wire  inst11_O;\n",
      "wire  inst11_COUT;\n",
      "wire  inst12_O;\n",
      "wire  inst12_COUT;\n",
      "wire  inst13_O;\n",
      "wire  inst13_COUT;\n",
      "wire  inst14_O;\n",
      "wire  inst14_COUT;\n",
      "wire  inst15_O;\n",
      "wire  inst15_COUT;\n",
      "wire  inst16_O;\n",
      "wire  inst16_COUT;\n",
      "wire  inst17_O;\n",
      "wire  inst17_COUT;\n",
      "wire  inst18_O;\n",
      "wire  inst18_COUT;\n",
      "wire  inst19_O;\n",
      "wire  inst19_COUT;\n",
      "wire  inst20_O;\n",
      "wire  inst20_COUT;\n",
      "wire  inst21_O;\n",
      "wire  inst21_COUT;\n",
      "wire  inst22_O;\n",
      "wire  inst22_COUT;\n",
      "wire  inst23_O;\n",
      "wire  inst23_COUT;\n",
      "FullAdder inst0 (.I0(I0[0]), .I1(I1[0]), .CIN(1'b0), .O(inst0_O), .COUT(inst0_COUT));\n",
      "FullAdder inst1 (.I0(I0[1]), .I1(I1[1]), .CIN(inst0_COUT), .O(inst1_O), .COUT(inst1_COUT));\n",
      "FullAdder inst2 (.I0(I0[2]), .I1(I1[2]), .CIN(inst1_COUT), .O(inst2_O), .COUT(inst2_COUT));\n",
      "FullAdder inst3 (.I0(I0[3]), .I1(I1[3]), .CIN(inst2_COUT), .O(inst3_O), .COUT(inst3_COUT));\n",
      "FullAdder inst4 (.I0(I0[4]), .I1(I1[4]), .CIN(inst3_COUT), .O(inst4_O), .COUT(inst4_COUT));\n",
      "FullAdder inst5 (.I0(I0[5]), .I1(I1[5]), .CIN(inst4_COUT), .O(inst5_O), .COUT(inst5_COUT));\n",
      "FullAdder inst6 (.I0(I0[6]), .I1(I1[6]), .CIN(inst5_COUT), .O(inst6_O), .COUT(inst6_COUT));\n",
      "FullAdder inst7 (.I0(I0[7]), .I1(I1[7]), .CIN(inst6_COUT), .O(inst7_O), .COUT(inst7_COUT));\n",
      "FullAdder inst8 (.I0(I0[8]), .I1(I1[8]), .CIN(inst7_COUT), .O(inst8_O), .COUT(inst8_COUT));\n",
      "FullAdder inst9 (.I0(I0[9]), .I1(I1[9]), .CIN(inst8_COUT), .O(inst9_O), .COUT(inst9_COUT));\n",
      "FullAdder inst10 (.I0(I0[10]), .I1(I1[10]), .CIN(inst9_COUT), .O(inst10_O), .COUT(inst10_COUT));\n",
      "FullAdder inst11 (.I0(I0[11]), .I1(I1[11]), .CIN(inst10_COUT), .O(inst11_O), .COUT(inst11_COUT));\n",
      "FullAdder inst12 (.I0(I0[12]), .I1(I1[12]), .CIN(inst11_COUT), .O(inst12_O), .COUT(inst12_COUT));\n",
      "FullAdder inst13 (.I0(I0[13]), .I1(I1[13]), .CIN(inst12_COUT), .O(inst13_O), .COUT(inst13_COUT));\n",
      "FullAdder inst14 (.I0(I0[14]), .I1(I1[14]), .CIN(inst13_COUT), .O(inst14_O), .COUT(inst14_COUT));\n",
      "FullAdder inst15 (.I0(I0[15]), .I1(I1[15]), .CIN(inst14_COUT), .O(inst15_O), .COUT(inst15_COUT));\n",
      "FullAdder inst16 (.I0(I0[16]), .I1(I1[16]), .CIN(inst15_COUT), .O(inst16_O), .COUT(inst16_COUT));\n",
      "FullAdder inst17 (.I0(I0[17]), .I1(I1[17]), .CIN(inst16_COUT), .O(inst17_O), .COUT(inst17_COUT));\n",
      "FullAdder inst18 (.I0(I0[18]), .I1(I1[18]), .CIN(inst17_COUT), .O(inst18_O), .COUT(inst18_COUT));\n",
      "FullAdder inst19 (.I0(I0[19]), .I1(I1[19]), .CIN(inst18_COUT), .O(inst19_O), .COUT(inst19_COUT));\n",
      "FullAdder inst20 (.I0(I0[20]), .I1(I1[20]), .CIN(inst19_COUT), .O(inst20_O), .COUT(inst20_COUT));\n",
      "FullAdder inst21 (.I0(I0[21]), .I1(I1[21]), .CIN(inst20_COUT), .O(inst21_O), .COUT(inst21_COUT));\n",
      "FullAdder inst22 (.I0(I0[22]), .I1(I1[22]), .CIN(inst21_COUT), .O(inst22_O), .COUT(inst22_COUT));\n",
      "FullAdder inst23 (.I0(I0[23]), .I1(I1[23]), .CIN(inst22_COUT), .O(inst23_O), .COUT(inst23_COUT));\n",
      "assign O = {inst23_O,inst22_O,inst21_O,inst20_O,inst19_O,inst18_O,inst17_O,inst16_O,inst15_O,inst14_O,inst13_O,inst12_O,inst11_O,inst10_O,inst9_O,inst8_O,inst7_O,inst6_O,inst5_O,inst4_O,inst3_O,inst2_O,inst1_O,inst0_O};\n",
      "assign COUT = inst23_COUT;\n",
      "endmodule\n",
      "\n",
      "module Register24 (input [23:0] I, output [23:0] O, input  CLK);\n",
      "wire  inst0_Q;\n",
      "wire  inst1_Q;\n",
      "wire  inst2_Q;\n",
      "wire  inst3_Q;\n",
      "wire  inst4_Q;\n",
      "wire  inst5_Q;\n",
      "wire  inst6_Q;\n",
      "wire  inst7_Q;\n",
      "wire  inst8_Q;\n",
      "wire  inst9_Q;\n",
      "wire  inst10_Q;\n",
      "wire  inst11_Q;\n",
      "wire  inst12_Q;\n",
      "wire  inst13_Q;\n",
      "wire  inst14_Q;\n",
      "wire  inst15_Q;\n",
      "wire  inst16_Q;\n",
      "wire  inst17_Q;\n",
      "wire  inst18_Q;\n",
      "wire  inst19_Q;\n",
      "wire  inst20_Q;\n",
      "wire  inst21_Q;\n",
      "wire  inst22_Q;\n",
      "wire  inst23_Q;\n",
      "SB_DFF inst0 (.C(CLK), .D(I[0]), .Q(inst0_Q));\n",
      "SB_DFF inst1 (.C(CLK), .D(I[1]), .Q(inst1_Q));\n",
      "SB_DFF inst2 (.C(CLK), .D(I[2]), .Q(inst2_Q));\n",
      "SB_DFF inst3 (.C(CLK), .D(I[3]), .Q(inst3_Q));\n",
      "SB_DFF inst4 (.C(CLK), .D(I[4]), .Q(inst4_Q));\n",
      "SB_DFF inst5 (.C(CLK), .D(I[5]), .Q(inst5_Q));\n",
      "SB_DFF inst6 (.C(CLK), .D(I[6]), .Q(inst6_Q));\n",
      "SB_DFF inst7 (.C(CLK), .D(I[7]), .Q(inst7_Q));\n",
      "SB_DFF inst8 (.C(CLK), .D(I[8]), .Q(inst8_Q));\n",
      "SB_DFF inst9 (.C(CLK), .D(I[9]), .Q(inst9_Q));\n",
      "SB_DFF inst10 (.C(CLK), .D(I[10]), .Q(inst10_Q));\n",
      "SB_DFF inst11 (.C(CLK), .D(I[11]), .Q(inst11_Q));\n",
      "SB_DFF inst12 (.C(CLK), .D(I[12]), .Q(inst12_Q));\n",
      "SB_DFF inst13 (.C(CLK), .D(I[13]), .Q(inst13_Q));\n",
      "SB_DFF inst14 (.C(CLK), .D(I[14]), .Q(inst14_Q));\n",
      "SB_DFF inst15 (.C(CLK), .D(I[15]), .Q(inst15_Q));\n",
      "SB_DFF inst16 (.C(CLK), .D(I[16]), .Q(inst16_Q));\n",
      "SB_DFF inst17 (.C(CLK), .D(I[17]), .Q(inst17_Q));\n",
      "SB_DFF inst18 (.C(CLK), .D(I[18]), .Q(inst18_Q));\n",
      "SB_DFF inst19 (.C(CLK), .D(I[19]), .Q(inst19_Q));\n",
      "SB_DFF inst20 (.C(CLK), .D(I[20]), .Q(inst20_Q));\n",
      "SB_DFF inst21 (.C(CLK), .D(I[21]), .Q(inst21_Q));\n",
      "SB_DFF inst22 (.C(CLK), .D(I[22]), .Q(inst22_Q));\n",
      "SB_DFF inst23 (.C(CLK), .D(I[23]), .Q(inst23_Q));\n",
      "assign O = {inst23_Q,inst22_Q,inst21_Q,inst20_Q,inst19_Q,inst18_Q,inst17_Q,inst16_Q,inst15_Q,inst14_Q,inst13_Q,inst12_Q,inst11_Q,inst10_Q,inst9_Q,inst8_Q,inst7_Q,inst6_Q,inst5_Q,inst4_Q,inst3_Q,inst2_Q,inst1_Q,inst0_Q};\n",
      "endmodule\n",
      "\n",
      "module Counter24 (output [23:0] O, output  COUT, input  CLK);\n",
      "wire [23:0] inst0_O;\n",
      "wire  inst0_COUT;\n",
      "wire [23:0] inst1_O;\n",
      "AdderCout24 inst0 (.I0(inst1_O), .I1({1'b0,1'b0,1'b0,1'b0,1'b0,1'b0,1'b0,1'b0,1'b0,1'b0,1'b0,1'b0,1'b0,1'b0,1'b0,1'b0,1'b0,1'b0,1'b0,1'b0,1'b0,1'b0,1'b0,1'b1}), .O(inst0_O), .COUT(inst0_COUT));\n",
      "Register24 inst1 (.I(inst0_O), .O(inst1_O), .CLK(CLK));\n",
      "assign O = inst1_O;\n",
      "assign COUT = inst0_COUT;\n",
      "endmodule\n",
      "\n",
      "module main (output  D1, input  CLKIN);\n",
      "wire [23:0] inst0_O;\n",
      "wire  inst0_COUT;\n",
      "Counter24 inst0 (.O(inst0_O), .COUT(inst0_COUT), .CLK(CLKIN));\n",
      "assign D1 = inst0_O[23];\n",
      "endmodule\n",
      "\n",
      "\n"
     ]
    }
   ],
   "source": [
    "with open(\"build/blink.v\", \"r\") as blink_verilog:\n",
    "    print(blink_verilog.read())"
   ]
  },
  {
   "cell_type": "markdown",
   "metadata": {},
   "source": [
    "Also the generated pcf"
   ]
  },
  {
   "cell_type": "code",
   "execution_count": 4,
   "metadata": {},
   "outputs": [
    {
     "name": "stdout",
     "output_type": "stream",
     "text": [
      "set_io D1 99\n",
      "set_io CLKIN 21\n",
      "\n"
     ]
    }
   ],
   "source": [
    "with open(\"build/blink.pcf\", \"r\") as blink_pcf:\n",
    "    print(blink_pcf.read())"
   ]
  },
  {
   "cell_type": "markdown",
   "metadata": {},
   "source": [
    "To flash the `blink` circuit onto the icestick using `yosys`, `arachne-pnr` and the `icestorm` tools"
   ]
  },
  {
   "cell_type": "code",
   "execution_count": 5,
   "metadata": {},
   "outputs": [
    {
     "name": "stderr",
     "output_type": "stream",
     "text": [
      "init..\n",
      "cdone: high\n",
      "reset..\n",
      "cdone: low\n",
      "flash ID: 0x20 0xBA 0x16 0x10 0x00 0x00 0x23 0x51 0x73 0x10 0x23 0x00 0x35 0x00 0x35 0x06 0x06 0x15 0x43 0xB6\n",
      "file size: 32220\n",
      "erase 64kB sector at 0x000000..\n",
      "programming..\n",
      "reading..\n",
      "VERIFY OK\n",
      "cdone: high\n",
      "Bye.\n"
     ]
    }
   ],
   "source": [
    "%%bash\n",
    "yosys -q -p 'synth_ice40 -top main -blif build/blink.blif' build/blink.v\n",
    "arachne-pnr -q -d 1k -o build/blink.txt -p build/blink.pcf build/blink.blif \n",
    "icepack build/blink.txt build/blink.bin\n",
    "iceprog build/blink.bin"
   ]
  },
  {
   "cell_type": "markdown",
   "metadata": {},
   "source": [
    "To view the timing analysis"
   ]
  },
  {
   "cell_type": "code",
   "execution_count": 6,
   "metadata": {},
   "outputs": [
    {
     "name": "stdout",
     "output_type": "stream",
     "text": [
      "// Reading input .asc file..\n",
      "// Reading 1k chipdb file..\n",
      "// Creating timing netlist..\n",
      "\n",
      "icetime topological timing analysis report\n",
      "==========================================\n",
      "\n",
      "Info: max_span_hack is enabled: estimate is conservative.\n",
      "\n",
      "Report for critical path:\n",
      "-------------------------\n",
      "\n",
      "        lc40_6_5_3 (LogicCell40) [clk] -> lcout: 0.640 ns\n",
      "     0.640 ns net_10762 (inst0.inst0.inst3.I0)\n",
      "        odrv_6_5_10762_539 (Odrv12) I -> O: 0.540 ns\n",
      "        t37 (LocalMux) I -> O: 0.330 ns\n",
      "        inmux_7_5_15027_15070 (InMux) I -> O: 0.260 ns\n",
      "        lc40_7_5_3 (LogicCell40) in1 -> carryout: 0.260 ns\n",
      "     2.029 ns net_15068 (inst0.inst0.inst3.inst1_CO$2)\n",
      "        lc40_7_5_4 (LogicCell40) carryin -> carryout: 0.126 ns\n",
      "     2.155 ns net_15074 (inst0.inst0.inst4.inst1_CO$2)\n",
      "        lc40_7_5_5 (LogicCell40) carryin -> carryout: 0.126 ns\n",
      "     2.281 ns net_15080 (inst0.inst0.inst5.inst1_CO$2)\n",
      "        lc40_7_5_6 (LogicCell40) carryin -> carryout: 0.126 ns\n",
      "     2.407 ns net_15086 (inst0.inst0.inst6.inst1_CO$2)\n",
      "        lc40_7_5_7 (LogicCell40) carryin -> carryout: 0.126 ns\n",
      "     2.534 ns net_15092 (inst0.inst0.inst7.inst1_CO$2)\n",
      "        t6 (ICE_CARRY_IN_MUX) carryinitin -> carryinitout: 0.196 ns\n",
      "        lc40_7_6_0 (LogicCell40) carryin -> carryout: 0.126 ns\n",
      "     2.856 ns net_15173 (inst0.inst0.inst8.inst1_CO$2)\n",
      "        lc40_7_6_1 (LogicCell40) carryin -> carryout: 0.126 ns\n",
      "     2.983 ns net_15179 (inst0.inst0.inst10.CIN$2)\n",
      "        lc40_7_6_2 (LogicCell40) carryin -> carryout: 0.126 ns\n",
      "     3.109 ns net_15185 (inst0.inst0.inst10.inst1_CO$2)\n",
      "        lc40_7_6_3 (LogicCell40) carryin -> carryout: 0.126 ns\n",
      "     3.235 ns net_15191 (inst0.inst0.inst11.inst1_CO$2)\n",
      "        lc40_7_6_4 (LogicCell40) carryin -> carryout: 0.126 ns\n",
      "     3.361 ns net_15197 (inst0.inst0.inst12.inst1_CO$2)\n",
      "        lc40_7_6_5 (LogicCell40) carryin -> carryout: 0.126 ns\n",
      "     3.487 ns net_15203 (inst0.inst0.inst13.inst1_CO$2)\n",
      "        lc40_7_6_6 (LogicCell40) carryin -> carryout: 0.126 ns\n",
      "     3.614 ns net_15209 (inst0.inst0.inst14.inst1_CO$2)\n",
      "        lc40_7_6_7 (LogicCell40) carryin -> carryout: 0.126 ns\n",
      "     3.740 ns net_15215 (inst0.inst0.inst15.inst1_CO$2)\n",
      "        t8 (ICE_CARRY_IN_MUX) carryinitin -> carryinitout: 0.196 ns\n",
      "        lc40_7_7_0 (LogicCell40) carryin -> carryout: 0.126 ns\n",
      "     4.063 ns net_15296 (inst0.inst0.inst16.inst1_CO$2)\n",
      "        lc40_7_7_1 (LogicCell40) carryin -> carryout: 0.126 ns\n",
      "     4.189 ns net_15302 (inst0.inst0.inst17.inst1_CO$2)\n",
      "        lc40_7_7_2 (LogicCell40) carryin -> carryout: 0.126 ns\n",
      "     4.315 ns net_15308 (inst0.inst0.inst18.inst1_CO$2)\n",
      "        lc40_7_7_3 (LogicCell40) carryin -> carryout: 0.126 ns\n",
      "     4.441 ns net_15314 (inst0.inst0.inst19.inst1_CO$2)\n",
      "        lc40_7_7_4 (LogicCell40) carryin -> carryout: 0.126 ns\n",
      "     4.568 ns net_15320 (inst0.inst0.inst20.inst1_CO$2)\n",
      "        lc40_7_7_5 (LogicCell40) carryin -> carryout: 0.126 ns\n",
      "     4.694 ns net_15326 (inst0.inst0.inst21.inst1_CO$2)\n",
      "        lc40_7_7_6 (LogicCell40) carryin -> carryout: 0.126 ns\n",
      "     4.820 ns net_15332 (inst0.inst0.inst22.inst1_CO$2)\n",
      "        inmux_7_7_15332_15342 (InMux) I -> O: 0.260 ns\n",
      "        lc40_7_7_7 (LogicCell40) in3 -> lcout: 0.316 ns\n",
      "     5.395 ns net_13121 (inst0.inst0.inst22.inst1_CO)\n",
      "        odrv_7_7_13121_15381 (Odrv4) I -> O: 0.372 ns\n",
      "        t70 (LocalMux) I -> O: 0.330 ns\n",
      "        inmux_8_10_17752_17795 (InMux) I -> O: 0.260 ns\n",
      "        t26 (CascadeMux) I -> O: 0.000 ns\n",
      "     6.356 ns net_17795_cascademuxed\n",
      "        lc40_8_10_3 (LogicCell40) in2 [setup]: 0.323 ns\n",
      "     6.679 ns net_15595 (inst0.inst0.inst23.I0)\n",
      "\n",
      "Resolvable net names on path:\n",
      "     0.640 ns ..  1.769 ns inst0.inst0.inst3.I0\n",
      "     2.029 ns ..  2.029 ns inst0.inst0.inst3.inst1_CO$2\n",
      "     2.155 ns ..  2.155 ns inst0.inst0.inst4.inst1_CO$2\n",
      "     2.281 ns ..  2.281 ns inst0.inst0.inst5.inst1_CO$2\n",
      "     2.407 ns ..  2.407 ns inst0.inst0.inst6.inst1_CO$2\n",
      "     2.534 ns ..  2.730 ns inst0.inst0.inst7.inst1_CO$2\n",
      "     2.856 ns ..  2.856 ns inst0.inst0.inst8.inst1_CO$2\n",
      "     2.983 ns ..  2.983 ns inst0.inst0.inst10.CIN$2\n",
      "     3.109 ns ..  3.109 ns inst0.inst0.inst10.inst1_CO$2\n",
      "     3.235 ns ..  3.235 ns inst0.inst0.inst11.inst1_CO$2\n",
      "     3.361 ns ..  3.361 ns inst0.inst0.inst12.inst1_CO$2\n",
      "     3.487 ns ..  3.487 ns inst0.inst0.inst13.inst1_CO$2\n",
      "     3.614 ns ..  3.614 ns inst0.inst0.inst14.inst1_CO$2\n",
      "     3.740 ns ..  3.936 ns inst0.inst0.inst15.inst1_CO$2\n",
      "     4.063 ns ..  4.063 ns inst0.inst0.inst16.inst1_CO$2\n",
      "     4.189 ns ..  4.189 ns inst0.inst0.inst17.inst1_CO$2\n",
      "     4.315 ns ..  4.315 ns inst0.inst0.inst18.inst1_CO$2\n",
      "     4.441 ns ..  4.441 ns inst0.inst0.inst19.inst1_CO$2\n",
      "     4.568 ns ..  4.568 ns inst0.inst0.inst20.inst1_CO$2\n",
      "     4.694 ns ..  4.694 ns inst0.inst0.inst21.inst1_CO$2\n",
      "     4.820 ns ..  5.080 ns inst0.inst0.inst22.inst1_CO$2\n",
      "     5.395 ns ..  6.356 ns inst0.inst0.inst22.inst1_CO\n",
      "                  lcout -> inst0.inst0.inst23.I0\n",
      "\n",
      "Total number of logic levels: 22\n",
      "Total path delay: 6.68 ns (149.73 MHz)\n",
      "\n"
     ]
    }
   ],
   "source": [
    "!icetime -tmd hx1k build/blink.txt"
   ]
  }
 ],
 "metadata": {
  "kernelspec": {
   "display_name": "Python 3",
   "language": "python",
   "name": "python3"
  },
  "language_info": {
   "codemirror_mode": {
    "name": "ipython",
    "version": 3
   },
   "file_extension": ".py",
   "mimetype": "text/x-python",
   "name": "python",
   "nbconvert_exporter": "python",
   "pygments_lexer": "ipython3",
   "version": "3.6.2"
  }
 },
 "nbformat": 4,
 "nbformat_minor": 2
}
