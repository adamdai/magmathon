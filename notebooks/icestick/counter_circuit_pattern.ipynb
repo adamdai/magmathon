{
 "cells": [
  {
   "cell_type": "code",
   "execution_count": 1,
   "metadata": {},
   "outputs": [],
   "source": [
    "import os\n",
    "os.environ['MANTLE_TARGET'] = 'ice40'\n",
    "\n",
    "import magma as m"
   ]
  },
  {
   "cell_type": "markdown",
   "metadata": {},
   "source": [
    "Creating a Counter.\n",
    "\n",
    "![](./images/counter_diagram.jpg)"
   ]
  },
  {
   "cell_type": "markdown",
   "metadata": {},
   "source": [
    "We will use the builder pattern to define a counter module.\n",
    "\n",
    "`DefineCircuit` takes as a first argument the name of the circuit and then an argument list. The argument list is a collection of ports. The argyment list hasan even number of arguments of the form `port1_name, port1_type, port2_name, port2_type, ...`. The argument list is created programmatically, and then passed to `DefineCircuit`. using the python `*` operator.\n",
    "\n",
    "For this example we compose a list of named arguments combined with the output of the `ClockInterface` function.  `ClockInterface`  produces a standard set of inputs for a clock, such as clock enable and/or reset. In this case, we only include a clock (by default) and an optional clock enable because `has_ce=has_ce`.\n",
    "\n",
    "We instance an n-bit `Adders` and `Register` from the `mantle` library. We wire them up based on our counter diagram above. Finally, we call `m.wireclock` to automatically wire up the clock inputs to the `Register` instance."
   ]
  },
  {
   "cell_type": "code",
   "execution_count": 2,
   "metadata": {},
   "outputs": [
    {
     "name": "stdout",
     "output_type": "stream",
     "text": [
      "import mantle lattice ice40\n",
      "import mantle lattice mantle40\n"
     ]
    }
   ],
   "source": [
    "from mantle import Add, Register\n",
    "\n",
    "def DefineCounter(n, has_ce=False):\n",
    "    \n",
    "    class _Counter(m.Circuit):\n",
    "        name = \"Counter{}{}\".format(n, \"_hasce\" if has_ce else \"\")\n",
    "        IO = [\"O\", m.Out(m.Bits(n)), \"COUT\", m.Out(m.Bit)] + m.ClockInterface(has_ce=has_ce)\n",
    "        \n",
    "        @classmethod\n",
    "        def definition(io):\n",
    "            add = Add(n, cin=False, cout=True)\n",
    "            reg = Register(n, has_ce=has_ce)\n",
    "\n",
    "            m.wire( reg.O, add.I0 )\n",
    "            m.wire( m.bits(1, n), add.I1 )\n",
    "\n",
    "            m.wire(add.O, reg.I)\n",
    "\n",
    "            m.wire( reg.O, io.O )\n",
    "\n",
    "            m.wire( add.COUT, io.COUT )\n",
    "\n",
    "            m.wireclock(io, reg)\n",
    "    \n",
    "            m.wiredefaultclock(io, reg)\n",
    "\n",
    "    return _Counter"
   ]
  },
  {
   "cell_type": "code",
   "execution_count": 3,
   "metadata": {},
   "outputs": [
    {
     "name": "stdout",
     "output_type": "stream",
     "text": [
      "compiling FullAdder\n",
      "compiling Add5Cout\n",
      "compiling Register5CE\n",
      "compiling Counter5_hasce\n",
      "compiling Add23Cout\n",
      "compiling Register23\n",
      "compiling Counter23\n",
      "compiling main\n"
     ]
    }
   ],
   "source": [
    "from loam.boards.icestick import IceStick\n",
    "\n",
    "icestick = IceStick()\n",
    "\n",
    "icestick.Clock.on()\n",
    "icestick.D1.on()\n",
    "icestick.D2.on()\n",
    "icestick.D3.on()\n",
    "icestick.D4.on()\n",
    "icestick.D5.on()\n",
    "\n",
    "main = icestick.main()\n",
    "\n",
    "counter4 = DefineCounter(5, has_ce=True)()\n",
    "counter23 = DefineCounter(23)()\n",
    "m.wire(counter23.COUT, counter4.CE)\n",
    "m.wire(counter4.O, m.bits([main.D1, main.D2, main.D3, main.D4, main.D5]))\n",
    "\n",
    "m.compile(\"build/counter_builder\", main)"
   ]
  },
  {
   "cell_type": "markdown",
   "metadata": {},
   "source": [
    "Compile and flash our design onto the icestick. The leds should blink in a 5-bit counter pattern. Change the size of the 23-bit control counter or replace it with a different circuit to experiment with the counting pattern."
   ]
  },
  {
   "cell_type": "code",
   "execution_count": 4,
   "metadata": {},
   "outputs": [
    {
     "name": "stdout",
     "output_type": "stream",
     "text": [
      "/Users/hanrahan/git/magma/notebooks/icestick/build\n"
     ]
    }
   ],
   "source": [
    "%%bash\n",
    "cd build\n",
    "yosys -q -p 'synth_ice40 -top main -blif counter_builder.blif' counter_builder.v\n",
    "arachne-pnr -q -d 1k -o counter_builder.txt -p counter_builder.pcf counter_builder.blif\n",
    "icepack counter_builder.txt counter_builder.bin\n",
    "\n",
    "#!iceprog counter_builder.bin"
   ]
  },
  {
   "cell_type": "code",
   "execution_count": null,
   "metadata": {
    "collapsed": true
   },
   "outputs": [],
   "source": []
  }
 ],
 "metadata": {
  "kernelspec": {
   "display_name": "Python 3",
   "language": "python",
   "name": "python3"
  },
  "language_info": {
   "codemirror_mode": {
    "name": "ipython",
    "version": 3
   },
   "file_extension": ".py",
   "mimetype": "text/x-python",
   "name": "python",
   "nbconvert_exporter": "python",
   "pygments_lexer": "ipython3",
   "version": "3.6.5"
  }
 },
 "nbformat": 4,
 "nbformat_minor": 2
}
