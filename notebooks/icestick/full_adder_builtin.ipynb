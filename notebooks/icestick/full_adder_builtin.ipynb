{
 "cells": [
  {
   "cell_type": "markdown",
   "metadata": {},
   "source": [
    "# Full Adder\n",
    "Below is a Logisim diagram of a Full Adder circuit implementation. \n",
    "![](./images/full_adder_logisim.png)\n",
    "\n",
    "First we begin by importing magma. We will use the prefix `m` to distinguish between magma functions and native Python."
   ]
  },
  {
   "cell_type": "code",
   "execution_count": 1,
   "metadata": {},
   "outputs": [
    {
     "name": "stdout",
     "output_type": "stream",
     "text": [
      "import mantle lattice ice40\n",
      "import mantle lattice mantle40\n"
     ]
    }
   ],
   "source": [
    "import os\n",
    "os.environ['MANTLE_TARGET'] = 'ice40'\n",
    "\n",
    "import magma as m\n",
    "from mantle import And, Or, XOr"
   ]
  },
  {
   "cell_type": "markdown",
   "metadata": {},
   "source": [
    "We can define standard Python functions to instance, wire up inputs, and return the output of our logic gates."
   ]
  },
  {
   "cell_type": "code",
   "execution_count": 2,
   "metadata": {
    "collapsed": true
   },
   "outputs": [],
   "source": [
    "def and2(a, b):\n",
    "    # instance a 2-input And gate and wire up a and b\n",
    "    return And(2)(a, b)\n",
    "\n",
    "def or3(a, b, c):\n",
    "    # instance a 3-input Or gate and wire up a, b, and c\n",
    "    return Or(3)(a, b, c)\n",
    "\n",
    "def xor3(a, b, c):\n",
    "    # instance a 3-input XOr gate and wire up a, b, and c\n",
    "    return XOr(3)(a, b, c)"
   ]
  },
  {
   "cell_type": "markdown",
   "metadata": {},
   "source": [
    "Finally, we can define a circuit to implement a Full Adder using our previously defined logic gates."
   ]
  },
  {
   "cell_type": "code",
   "execution_count": 3,
   "metadata": {},
   "outputs": [],
   "source": [
    "class FullAdder(m.Circuit):\n",
    "    name = \"FullAdder\"\n",
    "    IO = [\"a\", m.In(m.Bit), \"b\", m.In(m.Bit), \"cin\", m.In(m.Bit), \n",
    "          \"sum\", m.Out(m.Bit), \"cout\", m.Out(m.Bit)]\n",
    "    @classmethod\n",
    "    def definition(io):\n",
    "        # Generate the sum\n",
    "        sum = xor3(io.a, io.b, io.cin)\n",
    "        m.wire(sum, io.sum)\n",
    "        # Generate the carry\n",
    "        a_and_b = and2(io.a, io.b)\n",
    "        b_and_cin = and2(io.b, io.cin)\n",
    "        a_and_cin = and2(io.a, io.cin)\n",
    "        cout = or3(a_and_b, b_and_cin, a_and_cin)\n",
    "        m.wire(cout, io.cout)"
   ]
  },
  {
   "cell_type": "markdown",
   "metadata": {},
   "source": [
    "We can import magma's verilog backend to view the verilog definition corresponding to our FullAdder circuit. Notice the logic gates defined in terms of the `SB_LUT4` primitive."
   ]
  },
  {
   "cell_type": "code",
   "execution_count": 4,
   "metadata": {},
   "outputs": [
    {
     "name": "stdout",
     "output_type": "stream",
     "text": [
      "compiling XOr3\n",
      "compiling And2\n",
      "compiling Or3\n",
      "compiling FullAdder\n",
      "module XOr3 (input [2:0] I, output  O);\n",
      "wire  inst0_O;\n",
      "SB_LUT4 #(.LUT_INIT(16'h9696)) inst0 (.I0(I[0]), .I1(I[1]), .I2(I[2]), .I3(1'b0), .O(inst0_O));\n",
      "assign O = inst0_O;\n",
      "endmodule\n",
      "\n",
      "module And2 (input [1:0] I, output  O);\n",
      "wire  inst0_O;\n",
      "SB_LUT4 #(.LUT_INIT(16'h8888)) inst0 (.I0(I[0]), .I1(I[1]), .I2(1'b0), .I3(1'b0), .O(inst0_O));\n",
      "assign O = inst0_O;\n",
      "endmodule\n",
      "\n",
      "module Or3 (input [2:0] I, output  O);\n",
      "wire  inst0_O;\n",
      "SB_LUT4 #(.LUT_INIT(16'hFEFE)) inst0 (.I0(I[0]), .I1(I[1]), .I2(I[2]), .I3(1'b0), .O(inst0_O));\n",
      "assign O = inst0_O;\n",
      "endmodule\n",
      "\n",
      "module FullAdder (input  a, input  b, input  cin, output  sum, output  cout);\n",
      "wire  inst0_O;\n",
      "wire  inst1_O;\n",
      "wire  inst2_O;\n",
      "wire  inst3_O;\n",
      "wire  inst4_O;\n",
      "XOr3 inst0 (.I({cin,b,a}), .O(inst0_O));\n",
      "And2 inst1 (.I({b,a}), .O(inst1_O));\n",
      "And2 inst2 (.I({cin,b}), .O(inst2_O));\n",
      "And2 inst3 (.I({cin,a}), .O(inst3_O));\n",
      "Or3 inst4 (.I({inst3_O,inst2_O,inst1_O}), .O(inst4_O));\n",
      "assign sum = inst0_O;\n",
      "assign cout = inst4_O;\n",
      "endmodule\n",
      "\n",
      "\n"
     ]
    }
   ],
   "source": [
    "from magma.backend.verilog import compile as compile_verilog\n",
    "\n",
    "print(compile_verilog(FullAdder))"
   ]
  },
  {
   "cell_type": "markdown",
   "metadata": {},
   "source": [
    "We will test our circuit on the icestick by wiring the outputs to the `D1` and `D2` leds. We begin by importing the `IceStick` module from `loam`. With an instance of the `IceStick`, we turn on the clock, D1, and D2 pins. We then define a `main` function by calling `icestick.main()`, instancing our FullAdder, and wiring up the ports."
   ]
  },
  {
   "cell_type": "code",
   "execution_count": 5,
   "metadata": {
    "scrolled": true
   },
   "outputs": [],
   "source": [
    "from loam.boards.icestick import IceStick\n",
    "\n",
    "icestick = IceStick()\n",
    "\n",
    "icestick.Clock.on()\n",
    "icestick.D1.on()\n",
    "icestick.D2.on()\n",
    "\n",
    "main = icestick.main()\n",
    "adder = FullAdder()\n",
    "m.wire(0, adder.a)\n",
    "m.wire(1, adder.b)\n",
    "m.wire(1, adder.cin)\n",
    "m.wire(adder.sum, main.D1)\n",
    "m.wire(adder.cout, main.D2)"
   ]
  },
  {
   "cell_type": "markdown",
   "metadata": {},
   "source": [
    "We use magma's `m.compile` function to generate verilog and pcf files for the icestick"
   ]
  },
  {
   "cell_type": "code",
   "execution_count": 6,
   "metadata": {
    "scrolled": true
   },
   "outputs": [
    {
     "name": "stdout",
     "output_type": "stream",
     "text": [
      "compiling XOr3\n",
      "compiling And2\n",
      "compiling Or3\n",
      "compiling FullAdder\n",
      "compiling main\n"
     ]
    }
   ],
   "source": [
    "m.compile(\"build/ice_full_adder\", main)"
   ]
  },
  {
   "cell_type": "markdown",
   "metadata": {},
   "source": [
    "Finally, we use the yosys, arachne-pnr, and the icestorm tools to flash our circuit onto the icestick"
   ]
  },
  {
   "cell_type": "code",
   "execution_count": 7,
   "metadata": {},
   "outputs": [
    {
     "name": "stdout",
     "output_type": "stream",
     "text": [
      "/Users/hanrahan/git/magma/notebooks/icestick/build\n"
     ]
    }
   ],
   "source": [
    "%%bash\n",
    "cd build\n",
    "yosys -q -p 'synth_ice40 -top main -blif ice_full_adder.blif' ice_full_adder.v\n",
    "arachne-pnr -q -d 1k -o ice_full_adder.txt -p ice_full_adder.pcf ice_full_adder.blif\n",
    "icepack ice_full_adder.txt ice_full_adder.bin"
   ]
  },
  {
   "cell_type": "markdown",
   "metadata": {},
   "source": [
    "Uncomment the code below to program the IceStick board."
   ]
  },
  {
   "cell_type": "code",
   "execution_count": 8,
   "metadata": {
    "collapsed": true
   },
   "outputs": [],
   "source": [
    "#!iceprog ice_full_adder.bin"
   ]
  }
 ],
 "metadata": {
  "kernelspec": {
   "display_name": "Python 3",
   "language": "python",
   "name": "python3"
  },
  "language_info": {
   "codemirror_mode": {
    "name": "ipython",
    "version": 3
   },
   "file_extension": ".py",
   "mimetype": "text/x-python",
   "name": "python",
   "nbconvert_exporter": "python",
   "pygments_lexer": "ipython3",
   "version": "3.6.5"
  }
 },
 "nbformat": 4,
 "nbformat_minor": 2
}
