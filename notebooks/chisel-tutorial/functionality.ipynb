{
 "cells": [
  {
   "cell_type": "code",
   "execution_count": 1,
   "metadata": {
    "collapsed": true
   },
   "outputs": [],
   "source": [
    "from magma import *\n",
    "import os\n",
    "os.environ[\"MANTLE\"] = \"coreir\"\n",
    "from mantle.common.operator import and_, or_, xor, not_"
   ]
  },
  {
   "cell_type": "code",
   "execution_count": 2,
   "metadata": {
    "collapsed": true
   },
   "outputs": [],
   "source": [
    "def clb(a, b, c, d):\n",
    "    return (a & b) | (~c & d)\n",
    "\n",
    "T = UInt(16)\n",
    "class Combinational(Circuit):\n",
    "    name = \"Combinational\"\n",
    "    IO = [\"a\", In(T), \"b\", In(T), \"c\", Out(T)]\n",
    "    @classmethod\n",
    "    def definition(io):\n",
    "        wire(clb(io.a, io.b, io.a, io.b), io.c)"
   ]
  },
  {
   "cell_type": "code",
   "execution_count": 3,
   "metadata": {},
   "outputs": [
    {
     "name": "stdout",
     "output_type": "stream",
     "text": [
      "Success!\n"
     ]
    }
   ],
   "source": [
    "from magma.simulator import PythonSimulator\n",
    "from magma.bit_vector import BitVector\n",
    "\n",
    "simulator = PythonSimulator(Combinational)\n",
    "a = BitVector(148, num_bits=16)\n",
    "b = BitVector(41, num_bits=16)\n",
    "simulator.set_value(Combinational.a, a)\n",
    "simulator.set_value(Combinational.b, b)\n",
    "simulator.evaluate()\n",
    "assert simulator.get_value(Combinational.c) == clb(a, b, a, b)\n",
    "print(\"Success!\")"
   ]
  }
 ],
 "metadata": {
  "kernelspec": {
   "display_name": "Python 3",
   "language": "python",
   "name": "python3"
  },
  "language_info": {
   "codemirror_mode": {
    "name": "ipython",
    "version": 3
   },
   "file_extension": ".py",
   "mimetype": "text/x-python",
   "name": "python",
   "nbconvert_exporter": "python",
   "pygments_lexer": "ipython3",
   "version": "3.6.1"
  }
 },
 "nbformat": 4,
 "nbformat_minor": 2
}
