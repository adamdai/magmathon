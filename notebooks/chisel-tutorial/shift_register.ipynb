{
 "cells": [
  {
   "cell_type": "code",
   "execution_count": 1,
   "metadata": {},
   "outputs": [],
   "source": [
    "from magma import *\n",
    "import os\n",
    "os.environ[\"MANTLE\"] = \"coreir\"\n",
    "from mantle.common import FFs\n",
    "\n",
    "@cache_definition\n",
    "def DefineShiftRegister(n, init=0, has_ce=False, has_reset=False):\n",
    "    class _ShiftRegister(Circuit):\n",
    "        name = 'ShiftRegister_{}_{}_{}_{}'.format(n, init, has_ce, has_reset)\n",
    "        IO = ['I', In(Bit), 'O', Out(Bit)] + \\\n",
    "               ClockInterface(has_ce, has_reset)\n",
    "        @classmethod\n",
    "        def definition(siso):\n",
    "            ffs = FFs(n, init=init, has_ce=has_ce, has_reset=has_reset)\n",
    "            reg = braid(ffs, foldargs={\"I\":\"O\"})\n",
    "            reg(siso.I)\n",
    "            wire(reg.O, siso.O)\n",
    "            wireclock(siso, reg)\n",
    "    return _ShiftRegister"
   ]
  },
  {
   "cell_type": "code",
   "execution_count": 3,
   "metadata": {},
   "outputs": [
    {
     "name": "stdout",
     "output_type": "stream",
     "text": [
      "{\"top\":\"global.ShiftRegister_2_0_True_False\",\n",
      "\"namespaces\":{\n",
      "  \"global\":{\n",
      "    \"modules\":{\n",
      "      \"DFF_init0_has_ceTrue_has_resetFalse\":{\n",
      "        \"type\":[\"Record\",{\n",
      "          \"I\":\"BitIn\",\n",
      "          \"O\":\"Bit\",\n",
      "          \"CLK\":[\"Named\",\"coreir.clkIn\"],\n",
      "          \"CE\":\"BitIn\"\n",
      "        }],\n",
      "        \"instances\":{\n",
      "          \"inst0\":{\n",
      "            \"genref\":\"mantle.reg\",\n",
      "            \"genargs\":{\"has_clr\":[\"Bool\",false], \"has_en\":[\"Bool\",true], \"has_rst\":[\"Bool\",false], \"width\":[\"Int\",1]},\n",
      "            \"modargs\":{\"init\":[[\"BitVector\",1],0]}\n",
      "          }\n",
      "        },\n",
      "        \"connections\":[\n",
      "          [\"inst0.clk\",\"self.CLK\"],\n",
      "          [\"inst0.en\",\"self.CE\"],\n",
      "          [\"self.I\",\"inst0.in.0\"],\n",
      "          [\"self.O\",\"inst0.out.0\"]\n",
      "        ]\n",
      "      },\n",
      "      \"ShiftRegister_2_0_True_False\":{\n",
      "        \"type\":[\"Record\",{\n",
      "          \"I\":\"BitIn\",\n",
      "          \"O\":\"Bit\",\n",
      "          \"CLK\":[\"Named\",\"coreir.clkIn\"],\n",
      "          \"CE\":\"BitIn\"\n",
      "        }],\n",
      "        \"instances\":{\n",
      "          \"inst0\":{\n",
      "            \"modref\":\"global.DFF_init0_has_ceTrue_has_resetFalse\"\n",
      "          },\n",
      "          \"inst1\":{\n",
      "            \"modref\":\"global.DFF_init0_has_ceTrue_has_resetFalse\"\n",
      "          }\n",
      "        },\n",
      "        \"connections\":[\n",
      "          [\"inst0.CE\",\"self.CE\"],\n",
      "          [\"inst0.CLK\",\"self.CLK\"],\n",
      "          [\"inst0.I\",\"self.I\"],\n",
      "          [\"inst0.O\",\"inst1.I\"],\n",
      "          [\"inst1.CE\",\"self.CE\"],\n",
      "          [\"inst1.CLK\",\"self.CLK\"],\n",
      "          [\"inst1.O\",\"self.O\"]\n",
      "        ]\n",
      "      }\n",
      "    }\n",
      "  }\n",
      "}\n",
      "}\n"
     ]
    }
   ],
   "source": [
    "# from magma.backend.verilog import compile as compile_verilog\n",
    "# print(compile_verilog(DefineShiftRegister(2, has_ce=True)))\n",
    "\n",
    "from magma.backend.coreir_ import compile as compile_coreir\n",
    "\n",
    "compile_coreir(DefineShiftRegister(2, has_ce=True), \"build/DefineShiftRegister.json\")\n",
    "with open(\"build/DefineShiftRegister.json\", \"r\") as f:\n",
    "    print(f.read())"
   ]
  },
  {
   "cell_type": "code",
   "execution_count": 4,
   "metadata": {
    "collapsed": true
   },
   "outputs": [],
   "source": [
    "from magma.simulator import PythonSimulator\n",
    "from magma.bit_vector import BitVector\n",
    "\n",
    "N = 3\n",
    "ShiftRegisterNCE = DefineShiftRegister(N, has_ce=True)\n",
    "simulator = PythonSimulator(ShiftRegisterNCE, clock=ShiftRegisterNCE.CLK)\n",
    "outputs = []\n",
    "for j in range(2):\n",
    "    simulator.step()\n",
    "    simulator.evaluate()\n",
    "for I, enable in [(1, 1), (0, 1), (1, 1), (0, 1), (1, 0), (0, 0), (1, 1), (1, 1), (1, 1), (1, 1)]:\n",
    "    simulator.set_value(ShiftRegisterNCE.I, bool(I))\n",
    "    simulator.set_value(ShiftRegisterNCE.CE, bool(enable))\n",
    "    for j in range(2):\n",
    "        simulator.step()\n",
    "        simulator.evaluate()\n",
    "        O = simulator.get_value(ShiftRegisterNCE.O)\n",
    "        CLK = simulator.get_value(ShiftRegisterNCE.CLK)\n",
    "        outputs.append([O, I, enable, CLK])"
   ]
  },
  {
   "cell_type": "code",
   "execution_count": 5,
   "metadata": {},
   "outputs": [
    {
     "data": {
      "image/png": "[encoded data removed]",
      "text/plain": [
       "<matplotlib.figure.Figure at 0x10ccae2b0>"
      ]
     },
     "metadata": {},
     "output_type": "display_data"
    }
   ],
   "source": [
    "from magma.waveform import waveform\n",
    "\n",
    "waveform(outputs, [\"O\", \"I\", \"CE\", \"CLK\"])"
   ]
  },
  {
   "cell_type": "code",
   "execution_count": null,
   "metadata": {
    "collapsed": true
   },
   "outputs": [],
   "source": []
  }
 ],
 "metadata": {
  "kernelspec": {
   "display_name": "Python 3",
   "language": "python",
   "name": "python3"
  },
  "language_info": {
   "codemirror_mode": {
    "name": "ipython",
    "version": 3
   },
   "file_extension": ".py",
   "mimetype": "text/x-python",
   "name": "python",
   "nbconvert_exporter": "python",
   "pygments_lexer": "ipython3",
   "version": "3.6.1"
  }
 },
 "nbformat": 4,
 "nbformat_minor": 2
}
