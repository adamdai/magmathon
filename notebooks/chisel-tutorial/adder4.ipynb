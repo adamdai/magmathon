{
 "cells": [
  {
   "cell_type": "code",
   "execution_count": 1,
   "metadata": {
    "collapsed": true
   },
   "outputs": [],
   "source": [
    "from magma import *"
   ]
  },
  {
   "cell_type": "code",
   "execution_count": 2,
   "metadata": {},
   "outputs": [],
   "source": [
    "import os\n",
    "os.environ[\"MANTLE\"] = \"coreir\"\n",
    "from mantle import And, Or, XOr\n",
    "\n",
    "class FullAdder(Circuit):\n",
    "    name = \"FullAdder\"\n",
    "    IO = [\"a\", In(Bit), \"b\", In(Bit), \"cin\", In(Bit), \"out\", Out(Bit), \"cout\", Out(Bit)]\n",
    "    @classmethod\n",
    "    def definition(io):\n",
    "        # Generate the sum\n",
    "        _sum = XOr(3)(io.a, io.b, io.cin)\n",
    "        wire(_sum, io.out)\n",
    "        # Generate the carry\n",
    "        carry = Or(3)(And(2)(io.a, io.b), And(2)(io.b, io.cin), And(2)(io.a, io.cin))\n",
    "        wire(carry, io.cout)"
   ]
  },
  {
   "cell_type": "code",
   "execution_count": 3,
   "metadata": {
    "collapsed": true
   },
   "outputs": [],
   "source": [
    "T = Bits(4)\n",
    "class Adder4(Circuit):\n",
    "    name = \"Adder4\"\n",
    "    IO = [\"a\", In(T), \"b\", In(T), \"cin\", In(Bit), \"out\", Out(T), \"cout\", Out(Bit)]\n",
    "    @classmethod\n",
    "    def definition(io):\n",
    "        adder1 = FullAdder()\n",
    "        wire(io.a[0], adder1.a)\n",
    "        wire(io.b[0], adder1.b)\n",
    "        wire(io.cin, adder1.cin)\n",
    "        adder2 = FullAdder()\n",
    "        wire(io.a[1], adder2.a)\n",
    "        wire(io.b[1], adder2.b)\n",
    "        wire(adder1.cout, adder2.cin)\n",
    "        adder3 = FullAdder()\n",
    "        wire(io.a[2], adder3.a)\n",
    "        wire(io.b[2], adder3.b)\n",
    "        wire(adder2.cout, adder3.cin)\n",
    "        adder4 = FullAdder()\n",
    "        wire(io.a[3], adder4.a)\n",
    "        wire(io.b[3], adder4.b)\n",
    "        wire(adder3.cout, adder4.cin)\n",
    "        \n",
    "        wire(adder4.cout, io.cout)\n",
    "        wire(bits([adder1.out, adder2.out, adder3.out, adder4.out]), io.out)"
   ]
  },
  {
   "cell_type": "code",
   "execution_count": 4,
   "metadata": {},
   "outputs": [
    {
     "name": "stdout",
     "output_type": "stream",
     "text": [
      "Success!\n"
     ]
    }
   ],
   "source": [
    "from magma.simulator import PythonSimulator\n",
    "from magma.bit_vector import BitVector\n",
    "\n",
    "simulator = PythonSimulator(Adder4)\n",
    "simulator.set_value(Adder4.a, BitVector(2, num_bits=4))\n",
    "simulator.set_value(Adder4.b, BitVector(3, num_bits=4))\n",
    "simulator.set_value(Adder4.cin, True)\n",
    "simulator.evaluate()\n",
    "assert simulator.get_value(Adder4.out) == BitVector(6, num_bits=4)\n",
    "assert simulator.get_value(Adder4.cout) == False\n",
    "print(\"Success!\")"
   ]
  }
 ],
 "metadata": {
  "kernelspec": {
   "display_name": "Python 3",
   "language": "python",
   "name": "python3"
  },
  "language_info": {
   "codemirror_mode": {
    "name": "ipython",
    "version": 3
   },
   "file_extension": ".py",
   "mimetype": "text/x-python",
   "name": "python",
   "nbconvert_exporter": "python",
   "pygments_lexer": "ipython3",
   "version": "3.6.1"
  }
 },
 "nbformat": 4,
 "nbformat_minor": 2
}
