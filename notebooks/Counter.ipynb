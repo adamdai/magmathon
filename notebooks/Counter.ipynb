{
 "cells": [
  {
   "cell_type": "code",
   "execution_count": 1,
   "metadata": {
    "collapsed": true
   },
   "outputs": [],
   "source": [
    "import magma as m\n",
    "from mantle import DefineRegister"
   ]
  },
  {
   "cell_type": "markdown",
   "metadata": {},
   "source": [
    "To implement a counter we can use the `DefineRegister` primitive and the `+` operator for `m.UInt` instances."
   ]
  },
  {
   "cell_type": "code",
   "execution_count": 2,
   "metadata": {
    "scrolled": true
   },
   "outputs": [
    {
     "name": "stdout",
     "output_type": "stream",
     "text": [
      "Register4 [\"I\", In(UInt(4)), \"O\", Out(UInt(4)), \"CLK\", In(Clock)]\n"
     ]
    }
   ],
   "source": [
    "import os\n",
    "os.environ['MANTLE_TARGET'] = 'ice40'\n",
    "from mantle import DefineRegister\n",
    "\n",
    "Reg4 = DefineRegister(4, _type=m.UInt)\n",
    "print('{} [{}]'.format(str(Reg4), str(Reg4.interface)))\n",
    "\n",
    "class Counter4(m.Circuit):\n",
    "    name = \"Counter4\"\n",
    "    IO = [\"count\", m.Out(m.UInt(4))] + m.ClockInterface()\n",
    "    @classmethod\n",
    "    def definition(io):\n",
    "        reg4 = Reg4()\n",
    "        count = reg4.O + m.uint(1,4)\n",
    "        m.wire(count, reg4.I)\n",
    "        m.wire(reg4.O, io.count)\n",
    "        m.wireclock(io, reg4)"
   ]
  },
  {
   "cell_type": "markdown",
   "metadata": {},
   "source": [
    "We use the Python simulator to generate a waveform of our circuit.\n",
    "* `step` steps the clock\n",
    "* `evaluate` evaluates the circuit\n",
    "* `get_value` returns the value of the circuit ports"
   ]
  },
  {
   "cell_type": "markdown",
   "metadata": {},
   "source": [
    "We can also inspect the generated verilog for our counter."
   ]
  },
  {
   "cell_type": "code",
   "execution_count": 3,
   "metadata": {},
   "outputs": [
    {
     "name": "stdout",
     "output_type": "stream",
     "text": [
      "compiling DFF_init0_has_ceFalse_has_resetFalse\n",
      "compiling Register4\n",
      "compiling Add4\n",
      "compiling Counter4\n"
     ]
    }
   ],
   "source": [
    "m.compile(\"build/counter\", Counter4)"
   ]
  },
  {
   "cell_type": "code",
   "execution_count": 4,
   "metadata": {},
   "outputs": [
    {
     "name": "stdout",
     "output_type": "stream",
     "text": [
      "module DFF_init0_has_ceFalse_has_resetFalse (input  I, output  O, input  CLK);\n",
      "wire [0:0] inst0_out;\n",
      "coreir_reg_P #(.init(<coreir.type.BitVector object at 0x10815a080>)) inst0 (.in({I}), .clk(CLK), .out(inst0_out));\n",
      "assign O = inst0_out[0];\n",
      "endmodule\n",
      "\n",
      "module Register4 (input [3:0] I, output [3:0] O, input  CLK);\n",
      "wire  inst0_O;\n",
      "wire  inst1_O;\n",
      "wire  inst2_O;\n",
      "wire  inst3_O;\n",
      "DFF_init0_has_ceFalse_has_resetFalse inst0 (.I(I[0]), .O(inst0_O), .CLK(CLK));\n",
      "DFF_init0_has_ceFalse_has_resetFalse inst1 (.I(I[1]), .O(inst1_O), .CLK(CLK));\n",
      "DFF_init0_has_ceFalse_has_resetFalse inst2 (.I(I[2]), .O(inst2_O), .CLK(CLK));\n",
      "DFF_init0_has_ceFalse_has_resetFalse inst3 (.I(I[3]), .O(inst3_O), .CLK(CLK));\n",
      "assign O = {inst3_O,inst2_O,inst1_O,inst0_O};\n",
      "endmodule\n",
      "\n",
      "module Add4 (input [3:0] I0, input [3:0] I1, output [3:0] O);\n",
      "wire [3:0] inst0_out;\n",
      "coreir_add4 inst0 (.in0(I0), .in1(I1), .out(inst0_out));\n",
      "assign O = inst0_out;\n",
      "endmodule\n",
      "\n",
      "module Counter4 (output [3:0] count, input  CLK);\n",
      "wire [3:0] inst0_O;\n",
      "wire [3:0] inst1_O;\n",
      "Register4 inst0 (.I(inst1_O), .O(inst0_O), .CLK(CLK));\n",
      "Add4 inst1 (.I0(inst0_O), .I1({1'b0,1'b0,1'b0,1'b1}), .O(inst1_O));\n",
      "assign count = inst0_O;\n",
      "endmodule\n",
      "\n",
      "\n"
     ]
    }
   ],
   "source": [
    "with open(\"build/counter.v\", \"r\") as counter_verilog:\n",
    "    print(counter_verilog.read())"
   ]
  }
 ],
 "metadata": {
  "kernelspec": {
   "display_name": "Python 3",
   "language": "python",
   "name": "python3"
  },
  "language_info": {
   "codemirror_mode": {
    "name": "ipython",
    "version": 3
   },
   "file_extension": ".py",
   "mimetype": "text/x-python",
   "name": "python",
   "nbconvert_exporter": "python",
   "pygments_lexer": "ipython3",
   "version": "3.6.5"
  }
 },
 "nbformat": 4,
 "nbformat_minor": 2
}
