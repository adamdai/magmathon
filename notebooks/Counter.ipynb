{
 "cells": [
  {
   "cell_type": "code",
   "execution_count": 1,
   "metadata": {
    "collapsed": true
   },
   "outputs": [],
   "source": [
    "import magma as m\n",
    "from mantle import DefineRegister"
   ]
  },
  {
   "cell_type": "markdown",
   "metadata": {},
   "source": [
    "To implement a counter we can use the `DefineRegister` primitive and the `+` operator for `m.UInt` instances."
   ]
  },
  {
   "cell_type": "code",
   "execution_count": 2,
   "metadata": {
    "collapsed": true,
    "scrolled": true
   },
   "outputs": [],
   "source": [
    "Reg4 = DefineRegister(4, _type=m.UInt)\n",
    "\n",
    "class Counter4(m.Circuit):\n",
    "    name = \"Counter4\"\n",
    "    IO = [\"count\", m.Out(m.UInt(4))] + m.ClockInterface()\n",
    "    @classmethod\n",
    "    def definition(io):\n",
    "        reg4 = Reg4()\n",
    "        count = reg4.O + m.uint(1,4)\n",
    "        m.wire(count, reg4.I)\n",
    "        m.wire(reg4.O, io.count)\n",
    "        m.wireclock(io, reg4)"
   ]
  },
  {
   "cell_type": "markdown",
   "metadata": {},
   "source": [
    "We use the Python simulator to generate a waveform of our circuit.\n",
    "* `step` steps the clock\n",
    "* `evaluate` evaluates the circuit\n",
    "* `get_value` returns the value of the circuit ports"
   ]
  },
  {
   "cell_type": "code",
   "execution_count": 3,
   "metadata": {},
   "outputs": [],
   "source": [
    "from magma.simulator.python_simulator import PythonSimulator\n",
    "from magma.scope import Scope\n",
    "\n",
    "simulator = PythonSimulator(Counter4, Counter4.CLK)\n",
    "scope = Scope()\n",
    "waveforms = []\n",
    "for i in range(18):\n",
    "    for j in range(2):\n",
    "        simulator.advance()\n",
    "        simulator.evaluate()\n",
    "        clk = simulator.get_value(Counter4.CLK, scope)\n",
    "        O = simulator.get_value(Counter4.count, scope)\n",
    "        waveforms.append(O + [clk])"
   ]
  },
  {
   "cell_type": "markdown",
   "metadata": {},
   "source": [
    "magma provides a helper function to plot waveform diagrams"
   ]
  },
  {
   "cell_type": "code",
   "execution_count": 4,
   "metadata": {
    "scrolled": true
   },
   "outputs": [
    {
     "data": {
      "image/png": "[encoded data removed]",
      "text/plain": [
       "<matplotlib.figure.Figure at 0x1074922b0>"
      ]
     },
     "metadata": {},
     "output_type": "display_data"
    }
   ],
   "source": [
    "from magma.waveform import waveform\n",
    "\n",
    "waveform(waveforms, [\"O[0]\", \"O[1]\", \"O[2]\", \"O[3]\", \"CLK\"])"
   ]
  },
  {
   "cell_type": "markdown",
   "metadata": {},
   "source": [
    "We can also inspect the generated verilog for our counter."
   ]
  },
  {
   "cell_type": "code",
   "execution_count": 5,
   "metadata": {},
   "outputs": [
    {
     "name": "stdout",
     "output_type": "stream",
     "text": [
      "compiling DFF_init0_has_ceFalse_has_resetFalse\n",
      "compiling Register4\n",
      "compiling Add4\n",
      "compiling Counter4\n"
     ]
    }
   ],
   "source": [
    "m.compile(\"build/counter\", Counter4, include_coreir=True)"
   ]
  },
  {
   "cell_type": "code",
   "execution_count": 6,
   "metadata": {},
   "outputs": [
    {
     "name": "stdout",
     "output_type": "stream",
     "text": [
      "`include \"/Users/lenny/google_drive/repos/magmathon/magma/magma/backend/coreir_prims.v\"\n",
      "module DFF_init0_has_ceFalse_has_resetFalse (input  I, output  O, input  CLK);\n",
      "wire [0:0] inst0_out;\n",
      "coreir_reg_P #(.init(<coreir.type.BitVector object at 0x1061f8240>)) inst0 (.in({I}), .clk(CLK), .out(inst0_out));\n",
      "assign O = inst0_out[0];\n",
      "endmodule\n",
      "\n",
      "module Register4 (input [3:0] I, output [3:0] O, input  CLK);\n",
      "wire  inst0_O;\n",
      "wire  inst1_O;\n",
      "wire  inst2_O;\n",
      "wire  inst3_O;\n",
      "DFF_init0_has_ceFalse_has_resetFalse inst0 (.I(I[0]), .O(inst0_O), .CLK(CLK));\n",
      "DFF_init0_has_ceFalse_has_resetFalse inst1 (.I(I[1]), .O(inst1_O), .CLK(CLK));\n",
      "DFF_init0_has_ceFalse_has_resetFalse inst2 (.I(I[2]), .O(inst2_O), .CLK(CLK));\n",
      "DFF_init0_has_ceFalse_has_resetFalse inst3 (.I(I[3]), .O(inst3_O), .CLK(CLK));\n",
      "assign O = {inst3_O,inst2_O,inst1_O,inst0_O};\n",
      "endmodule\n",
      "\n",
      "module Add4 (input [3:0] I0, input [3:0] I1, output [3:0] O);\n",
      "wire [3:0] inst0_out;\n",
      "coreir_add4 inst0 (.in0(I0), .in1(I1), .out(inst0_out));\n",
      "assign O = inst0_out;\n",
      "endmodule\n",
      "\n",
      "module Counter4 (output [3:0] count, input  CLK);\n",
      "wire [3:0] inst0_O;\n",
      "wire [3:0] inst1_O;\n",
      "Register4 inst0 (.I(inst1_O), .O(inst0_O), .CLK(CLK));\n",
      "Add4 inst1 (.I0(inst0_O), .I1({1'b0,1'b0,1'b0,1'b1}), .O(inst1_O));\n",
      "assign count = inst0_O;\n",
      "endmodule\n",
      "\n",
      "\n"
     ]
    }
   ],
   "source": [
    "with open(\"build/counter.v\", \"r\") as counter_verilog:\n",
    "    print(counter_verilog.read())"
   ]
  }
 ],
 "metadata": {
  "kernelspec": {
   "display_name": "Python 3",
   "language": "python",
   "name": "python3"
  },
  "language_info": {
   "codemirror_mode": {
    "name": "ipython",
    "version": 3
   },
   "file_extension": ".py",
   "mimetype": "text/x-python",
   "name": "python",
   "nbconvert_exporter": "python",
   "pygments_lexer": "ipython3",
   "version": "3.6.1"
  }
 },
 "nbformat": 4,
 "nbformat_minor": 2
}
