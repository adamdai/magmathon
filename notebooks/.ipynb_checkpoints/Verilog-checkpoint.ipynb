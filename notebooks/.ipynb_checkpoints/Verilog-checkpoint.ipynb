{
 "cells": [
  {
   "cell_type": "code",
   "execution_count": 1,
   "metadata": {},
   "outputs": [
    {
     "name": "stdout",
     "output_type": "stream",
     "text": [
      "CSA_4\n",
      "CSA_4 = DeclareCircuit(\"CSA_4\", \"a\", Array(4,In(Bit)), \"b\", Array(4,In(Bit)), \"c\", Array(4,In(Bit)), \"s\", Array(4,Out(Bit)), \"co\", Array(4,Out(Bit)))\n"
     ]
    }
   ],
   "source": [
    "from magma import DeclareFromVerilog\n",
    "\n",
    "source = '''\\\n",
    "module CSA_4 ( input [3:0] a,b,c, output [3:0] s, co);\n",
    "   assign s = a ^ b ^c;\n",
    "   assign co = a&b | b&c | a&c;\n",
    "endmodule'''\n",
    "\n",
    "CSA4 = DeclareFromVerilog(source)[0]\n",
    "\n",
    "print(str(CSA4))\n",
    "print(repr(CSA4))"
   ]
  },
  {
   "cell_type": "code",
   "execution_count": 2,
   "metadata": {
    "collapsed": true
   },
   "outputs": [],
   "source": [
    "from magma import DefineFromTemplatedVerilog\n",
    "\n",
    "source = '''\\\n",
    "module CSA${N} ( input [${N-1}:0] a,b,c, output [${N-1}:0] s, co );\n",
    "   assign s = a ^ b ^c;\n",
    "   assign co = a&b | b&c | a&c;\n",
    "endmodule'''\n",
    "\n",
    "CSA4 = DefineFromTemplatedVerilog(source, **dict(N=4))[0]"
   ]
  },
  {
   "cell_type": "code",
   "execution_count": 3,
   "metadata": {},
   "outputs": [
    {
     "ename": "ModuleNotFoundError",
     "evalue": "No module named 'magma.verilator'",
     "output_type": "error",
     "traceback": [
      "\u001b[0;31m---------------------------------------------------------------------------\u001b[0m",
      "\u001b[0;31mModuleNotFoundError\u001b[0m                       Traceback (most recent call last)",
      "\u001b[0;32m<ipython-input-3-d15f6dd29697>\u001b[0m in \u001b[0;36m<module>\u001b[0;34m()\u001b[0m\n\u001b[0;32m----> 1\u001b[0;31m \u001b[0;32mfrom\u001b[0m \u001b[0mmagma\u001b[0m\u001b[0;34m.\u001b[0m\u001b[0mverilator\u001b[0m\u001b[0;34m.\u001b[0m\u001b[0mfunction\u001b[0m \u001b[0;32mimport\u001b[0m \u001b[0mtestvectors\u001b[0m\u001b[0;34m\u001b[0m\u001b[0m\n\u001b[0m\u001b[1;32m      2\u001b[0m \u001b[0;32mfrom\u001b[0m \u001b[0mmagma\u001b[0m\u001b[0;34m.\u001b[0m\u001b[0mverilator\u001b[0m\u001b[0;34m.\u001b[0m\u001b[0mverilator\u001b[0m \u001b[0;32mimport\u001b[0m \u001b[0mcompile\u001b[0m \u001b[0;32mas\u001b[0m \u001b[0mcompileverilator\u001b[0m\u001b[0;34m\u001b[0m\u001b[0m\n\u001b[1;32m      3\u001b[0m \u001b[0;32mfrom\u001b[0m \u001b[0mmagma\u001b[0m\u001b[0;34m.\u001b[0m\u001b[0mverilator\u001b[0m\u001b[0;34m.\u001b[0m\u001b[0mverilator\u001b[0m \u001b[0;32mimport\u001b[0m \u001b[0mrun_verilator_test\u001b[0m\u001b[0;34m\u001b[0m\u001b[0m\n\u001b[1;32m      4\u001b[0m \u001b[0;32mimport\u001b[0m \u001b[0mmagma\u001b[0m \u001b[0;32mas\u001b[0m \u001b[0mm\u001b[0m\u001b[0;34m\u001b[0m\u001b[0m\n\u001b[1;32m      5\u001b[0m \u001b[0;34m\u001b[0m\u001b[0m\n",
      "\u001b[0;31mModuleNotFoundError\u001b[0m: No module named 'magma.verilator'"
     ]
    }
   ],
   "source": [
    "from magma.verilator.function import testvectors\n",
    "from magma.verilator.verilator import compile as compileverilator\n",
    "from magma.verilator.verilator import run_verilator_test\n",
    "import magma as m\n",
    "\n",
    "def reference(a, b, c):\n",
    "    s = a ^ b ^ c\n",
    "    co = a & b | b & c | a & c\n",
    "    return s, co\n",
    "\n",
    "m.compile(\"build/csa4\", CSA4)"
   ]
  },
  {
   "cell_type": "code",
   "execution_count": null,
   "metadata": {},
   "outputs": [],
   "source": [
    "with open(\"build/csa4.v\", \"r\") as csa4_verilog:\n",
    "    print(csa4_verilog.read())"
   ]
  },
  {
   "cell_type": "code",
   "execution_count": null,
   "metadata": {},
   "outputs": [],
   "source": [
    "test_vectors = testvectors(CSA4, reference)\n",
    "compileverilator('build/sim_test_csa_main.cpp', CSA4, test_vectors)\n",
    "with open(\"build/sim_test_csa_main.cpp\", \"r\") as verilator_harness:\n",
    "    print(verilator_harness.read())"
   ]
  },
  {
   "cell_type": "code",
   "execution_count": null,
   "metadata": {},
   "outputs": [],
   "source": [
    "run_verilator_test('csa4', 'sim_test_csa_main', 'CSA4')  # causes an assertion if fails\n",
    "print(\"Success\")"
   ]
  }
 ],
 "metadata": {
  "kernelspec": {
   "display_name": "Python 3",
   "language": "python",
   "name": "python3"
  },
  "language_info": {
   "codemirror_mode": {
    "name": "ipython",
    "version": 3
   },
   "file_extension": ".py",
   "mimetype": "text/x-python",
   "name": "python",
   "nbconvert_exporter": "python",
   "pygments_lexer": "ipython3",
   "version": "3.6.5"
  }
 },
 "nbformat": 4,
 "nbformat_minor": 2
}
