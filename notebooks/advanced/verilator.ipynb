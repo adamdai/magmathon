{
 "cells": [
  {
   "cell_type": "markdown",
   "metadata": {},
   "source": [
    "Start by defining a `Python` function that we want to compute."
   ]
  },
  {
   "cell_type": "code",
   "execution_count": 1,
   "metadata": {},
   "outputs": [],
   "source": [
    "def f(a, b, c):\n",
    "    return (a & b) ^ c"
   ]
  },
  {
   "cell_type": "markdown",
   "metadata": {},
   "source": [
    "Generate a circuit that computes this function. To implement the logical operations we use  standard verilog gates, which are available in `mantle.verilog.gates`."
   ]
  },
  {
   "cell_type": "code",
   "execution_count": 2,
   "metadata": {},
   "outputs": [
    {
     "name": "stdout",
     "output_type": "stream",
     "text": [
      "import verilog\n",
      "compiling verilator_example\n",
      "module verilator_example (input  a, input  b, input  c, output  d);\r\n",
      "wire  inst0_0;\r\n",
      "wire  inst1_0;\r\n",
      "and inst0 (inst0_0, a, b);\r\n",
      "xor inst1 (inst1_0, inst0_0, c);\r\n",
      "assign d = inst1_0;\r\n",
      "endmodule\r\n",
      "\r\n"
     ]
    }
   ],
   "source": [
    "import magma as m\n",
    "from mantle.verilog.gates import And, XOr\n",
    "\n",
    "main = m.DefineCircuit('verilator_example', \"a\", m.In(m.Bit), \"b\", m.In(m.Bit), \"c\", m.In(m.Bit), \"d\", m.Out(m.Bit))\n",
    "t = And(2)(main.a, main.b)\n",
    "d = XOr(2)(t, main.c)\n",
    "m.wire(d, main.d)\n",
    "m.EndCircuit()\n",
    "\n",
    "m.compile(\"build/verilator_example\", main)\n",
    "%cat build/verilator_example.v"
   ]
  },
  {
   "cell_type": "markdown",
   "metadata": {},
   "source": [
    "Next, generate a verilator test harness in `C++` for the circuit. The test vectors are generated using the python function `f`. The verilator test bench compares the output of the simulator to those test vectors."
   ]
  },
  {
   "cell_type": "code",
   "execution_count": 3,
   "metadata": {},
   "outputs": [
    {
     "name": "stdout",
     "output_type": "stream",
     "text": [
      "#include \"Vverilator_example.h\"\r\n",
      "#include \"verilated.h\"\r\n",
      "#include <cassert>\r\n",
      "#include <iostream>\r\n",
      "\r\n",
      "int main(int argc, char **argv, char **env) {\r\n",
      "    Verilated::commandArgs(argc, argv);\r\n",
      "    Vverilator_example* top = new Vverilator_example;\r\n",
      "\r\n",
      "    unsigned int tests[8][4] = {\r\n",
      "        { 0b0, 0b0, 0b0, 0b0 }, \r\n",
      "        { 0b0, 0b0, 0b1, 0b1 }, \r\n",
      "        { 0b0, 0b1, 0b0, 0b0 }, \r\n",
      "        { 0b0, 0b1, 0b1, 0b1 }, \r\n",
      "        { 0b1, 0b0, 0b0, 0b0 }, \r\n",
      "        { 0b1, 0b0, 0b1, 0b1 }, \r\n",
      "        { 0b1, 0b1, 0b0, 0b1 }, \r\n",
      "        { 0b1, 0b1, 0b1, 0b0 }, \r\n",
      "    };\r\n",
      "\r\n",
      "    for(int i = 0; i < 8; i++) {\r\n",
      "        unsigned int* test = tests[i];\r\n",
      "        top->a = test[0];\r\n",
      "        top->b = test[1];\r\n",
      "        top->c = test[2];\r\n",
      "        top->eval();\r\n",
      "        assert(top->d == test[3]);\r\n",
      "    }\r\n",
      "\r\n",
      "    delete top;\r\n",
      "    std::cout << \"Success\" << std::endl;\r\n",
      "    exit(0);\r\n",
      "}"
     ]
    }
   ],
   "source": [
    "from magma.testing.verilator import compile as compileverilator\n",
    "\n",
    "compileverilator('build/sim_verilator_example.cpp', main, f)\n",
    "%cat build/sim_verilator_example.cpp"
   ]
  },
  {
   "cell_type": "markdown",
   "metadata": {},
   "source": [
    "Compile and run the test bench using `verilator`."
   ]
  },
  {
   "cell_type": "code",
   "execution_count": 4,
   "metadata": {},
   "outputs": [
    {
     "name": "stdout",
     "output_type": "stream",
     "text": [
      "/Users/hanrahan/git/magmathon/notebooks/advanced/build\n",
      "clang++  -I.  -MMD -I/usr/local/Cellar/verilator/3.924/share/verilator/include -I/usr/local/Cellar/verilator/3.924/share/verilator/include/vltstd -DVL_PRINTF=printf -DVM_COVERAGE=0 -DVM_SC=0 -DVM_TRACE=0 -faligned-new -fbracket-depth=4096 -Qunused-arguments -Wno-parentheses-equality -Wno-sign-compare -Wno-uninitialized -Wno-unused-parameter -Wno-unused-variable -Wno-shadow       -c -o sim_verilator_example.o ../sim_verilator_example.cpp\n",
      "/usr/bin/perl /usr/local/Cellar/verilator/3.924/share/verilator/bin/verilator_includer -DVL_INCLUDE_OPT=include Vverilator_example.cpp > Vverilator_example__ALLcls.cpp\n",
      "/usr/bin/perl /usr/local/Cellar/verilator/3.924/share/verilator/bin/verilator_includer -DVL_INCLUDE_OPT=include Vverilator_example__Syms.cpp > Vverilator_example__ALLsup.cpp\n",
      "clang++  -I.  -MMD -I/usr/local/Cellar/verilator/3.924/share/verilator/include -I/usr/local/Cellar/verilator/3.924/share/verilator/include/vltstd -DVL_PRINTF=printf -DVM_COVERAGE=0 -DVM_SC=0 -DVM_TRACE=0 -faligned-new -fbracket-depth=4096 -Qunused-arguments -Wno-parentheses-equality -Wno-sign-compare -Wno-uninitialized -Wno-unused-parameter -Wno-unused-variable -Wno-shadow       -c -o Vverilator_example__ALLcls.o Vverilator_example__ALLcls.cpp\n",
      "clang++  -I.  -MMD -I/usr/local/Cellar/verilator/3.924/share/verilator/include -I/usr/local/Cellar/verilator/3.924/share/verilator/include/vltstd -DVL_PRINTF=printf -DVM_COVERAGE=0 -DVM_SC=0 -DVM_TRACE=0 -faligned-new -fbracket-depth=4096 -Qunused-arguments -Wno-parentheses-equality -Wno-sign-compare -Wno-uninitialized -Wno-unused-parameter -Wno-unused-variable -Wno-shadow       -c -o Vverilator_example__ALLsup.o Vverilator_example__ALLsup.cpp\n",
      "      Archiving Vverilator_example__ALL.a ...\n",
      "ar r Vverilator_example__ALL.a Vverilator_example__ALLcls.o Vverilator_example__ALLsup.o\n",
      "ranlib Vverilator_example__ALL.a\n",
      "clang++    sim_verilator_example.o verilated.o Vverilator_example__ALL.a    -o Vverilator_example -lm -lstdc++ \n",
      "Success\n"
     ]
    }
   ],
   "source": [
    "%%bash\n",
    "cd build\n",
    "verilator -Wall -Wno-DECLFILENAME --cc verilator_example.v --exe sim_verilator_example.cpp\n",
    "make -C obj_dir -j -f Vverilator_example.mk Vverilator_example\n",
    "./obj_dir/Vverilator_example"
   ]
  }
 ],
 "metadata": {
  "kernelspec": {
   "display_name": "Python 3",
   "language": "python",
   "name": "python3"
  },
  "language_info": {
   "codemirror_mode": {
    "name": "ipython",
    "version": 3
   },
   "file_extension": ".py",
   "mimetype": "text/x-python",
   "name": "python",
   "nbconvert_exporter": "python",
   "pygments_lexer": "ipython3",
   "version": "3.6.5"
  }
 },
 "nbformat": 4,
 "nbformat_minor": 2
}
