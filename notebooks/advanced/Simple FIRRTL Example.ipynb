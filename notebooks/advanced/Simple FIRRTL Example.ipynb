{
 "cells": [
  {
   "cell_type": "markdown",
   "metadata": {},
   "source": [
    "## Dependencies\n",
    "* Firrtl [Installation Instructions](https://github.com/freechipsproject/firrtl#installation-instructions)   \n",
    "  Add the directory containing the firrtl command line tool (`firrtl/utils/bin`) to your `$PATH`"
   ]
  },
  {
   "cell_type": "code",
   "execution_count": 1,
   "metadata": {},
   "outputs": [
    {
     "name": "stdout",
     "output_type": "stream",
     "text": [
      "compiling main\n",
      "circuit main :\n",
      "  module main :\n",
      "    input a : UInt<1>\n",
      "    input b : UInt<1>\n",
      "    input c : UInt<1>\n",
      "    output d : UInt<1>\n",
      "    \n",
      "    wire inst0_out : UInt<1>\n",
      "    wire inst1_out : UInt<1>\n",
      "    inst0_out <= and(a, b)\n",
      "    inst1_out <= xor(inst0_out, c)\n",
      "    d <= inst1_out\n",
      "\n"
     ]
    }
   ],
   "source": [
    "from magma import *\n",
    "main = DefineCircuit('main', \"a\", In(Bit), \"b\", In(Bit), \"c\", In(Bit), \"d\", Out(Bit))\n",
    "d = (main.a & main.b) ^ main.c\n",
    "wire(d, main.d)\n",
    "compile(\"build/main\", main, output=\"firrtl\")\n",
    "\n",
    "with open(\"build/main.fir\", \"r\") as f:\n",
    "    print(f.read())"
   ]
  },
  {
   "cell_type": "markdown",
   "metadata": {},
   "source": [
    "*Note*: the `!` syntax used in the next cell is jupyter notebook syntax sugar for executing a shell command"
   ]
  },
  {
   "cell_type": "code",
   "execution_count": 2,
   "metadata": {},
   "outputs": [
    {
     "name": "stdout",
     "output_type": "stream",
     "text": [
      "Total FIRRTL Compile Time: 173.6 ms\r\n"
     ]
    }
   ],
   "source": [
    "!firrtl -i build/main.fir -o build/main.v -X verilog"
   ]
  },
  {
   "cell_type": "code",
   "execution_count": 3,
   "metadata": {},
   "outputs": [
    {
     "name": "stdout",
     "output_type": "stream",
     "text": [
      "`ifdef RANDOMIZE_GARBAGE_ASSIGN\n",
      "`define RANDOMIZE\n",
      "`endif\n",
      "`ifdef RANDOMIZE_INVALID_ASSIGN\n",
      "`define RANDOMIZE\n",
      "`endif\n",
      "`ifdef RANDOMIZE_REG_INIT\n",
      "`define RANDOMIZE\n",
      "`endif\n",
      "`ifdef RANDOMIZE_MEM_INIT\n",
      "`define RANDOMIZE\n",
      "`endif\n",
      "\n",
      "module main(\n",
      "  input   a,\n",
      "  input   b,\n",
      "  input   c,\n",
      "  output  d\n",
      ");\n",
      "  wire  inst0_out;\n",
      "  wire  inst1_out;\n",
      "  assign d = inst1_out;\n",
      "  assign inst0_out = a & b;\n",
      "  assign inst1_out = inst0_out ^ c;\n",
      "endmodule\n",
      "\n"
     ]
    }
   ],
   "source": [
    "with open(\"build/main.v\", \"r\") as f:\n",
    "    print(f.read())"
   ]
  },
  {
   "cell_type": "code",
   "execution_count": 4,
   "metadata": {
    "collapsed": true
   },
   "outputs": [],
   "source": [
    "with open(\"build/sim_main.cpp\", \"w\") as sim_main_f:\n",
    "    sim_main_f.write(\"\"\"\n",
    "#include \"Vmain.h\"\n",
    "#include \"verilated.h\"\n",
    "#include <cassert>\n",
    "#include <iostream>\n",
    "\n",
    "int main(int argc, char **argv, char **env) {\n",
    "    Verilated::commandArgs(argc, argv);\n",
    "    Vmain* top = new Vmain;\n",
    "    int tests[8][4] = {\n",
    "        {0, 0, 0, 0},\n",
    "        {1, 0, 0, 0},\n",
    "        {0, 1, 0, 0},\n",
    "        {1, 1, 0, 1},\n",
    "        {0, 0, 1, 1},\n",
    "        {1, 0, 1, 1},\n",
    "        {0, 1, 1, 1},\n",
    "        {1, 1, 1, 0},\n",
    "    };\n",
    "    for(int i = 0; i < 8; i++) {\n",
    "        int* test = tests[i];\n",
    "        int a = test[0];\n",
    "        int b = test[1];\n",
    "        int c = test[2];\n",
    "        int d = test[3];\n",
    "\n",
    "        top->a = a;\n",
    "        top->b = b;\n",
    "        top->c = c;\n",
    "\n",
    "        top->eval();\n",
    "        assert(top->d == d);\n",
    "    }\n",
    "\n",
    "    delete top;\n",
    "    std::cout << \"Success\" << std::endl;\n",
    "    exit(0);\n",
    "}    \n",
    "\"\"\")"
   ]
  },
  {
   "cell_type": "markdown",
   "metadata": {},
   "source": [
    "*Note*: The `%%bash` statement is a jupyter notebook magic operator that treats the cell as a bash script"
   ]
  },
  {
   "cell_type": "code",
   "execution_count": 5,
   "metadata": {},
   "outputs": [
    {
     "name": "stdout",
     "output_type": "stream",
     "text": [
      "clang++  -I.  -MMD -I/usr/local/Cellar/verilator/3.900/share/verilator/include -I/usr/local/Cellar/verilator/3.900/share/verilator/include/vltstd -DVL_PRINTF=printf -DVM_COVERAGE=0 -DVM_SC=0 -DVM_TRACE=0 -Wno-char-subscripts -Wno-parentheses-equality -Wno-sign-compare -Wno-uninitialized -Wno-unused-parameter -Wno-unused-variable -fbracket-depth=4096 -Qunused-arguments       -c -o sim_main.o ../sim_main.cpp\n",
      "/usr/bin/perl /usr/local/Cellar/verilator/3.900/share/verilator/bin/verilator_includer -DVL_INCLUDE_OPT=include Vmain.cpp > Vmain__ALLcls.cpp\n",
      "/usr/bin/perl /usr/local/Cellar/verilator/3.900/share/verilator/bin/verilator_includer -DVL_INCLUDE_OPT=include Vmain__Syms.cpp > Vmain__ALLsup.cpp\n",
      "clang++  -I.  -MMD -I/usr/local/Cellar/verilator/3.900/share/verilator/include -I/usr/local/Cellar/verilator/3.900/share/verilator/include/vltstd -DVL_PRINTF=printf -DVM_COVERAGE=0 -DVM_SC=0 -DVM_TRACE=0 -Wno-char-subscripts -Wno-parentheses-equality -Wno-sign-compare -Wno-uninitialized -Wno-unused-parameter -Wno-unused-variable -fbracket-depth=4096 -Qunused-arguments       -c -o Vmain__ALLcls.o Vmain__ALLcls.cpp\n",
      "clang++  -I.  -MMD -I/usr/local/Cellar/verilator/3.900/share/verilator/include -I/usr/local/Cellar/verilator/3.900/share/verilator/include/vltstd -DVL_PRINTF=printf -DVM_COVERAGE=0 -DVM_SC=0 -DVM_TRACE=0 -Wno-char-subscripts -Wno-parentheses-equality -Wno-sign-compare -Wno-uninitialized -Wno-unused-parameter -Wno-unused-variable -fbracket-depth=4096 -Qunused-arguments       -c -o Vmain__ALLsup.o Vmain__ALLsup.cpp\n",
      "      Archiving Vmain__ALL.a ...\n",
      "ar r Vmain__ALL.a Vmain__ALLcls.o Vmain__ALLsup.o\n",
      "ranlib Vmain__ALL.a\n",
      "clang++    sim_main.o verilated.o Vmain__ALL.a    -o Vmain -lm -lstdc++  2>&1 | c++filt\n",
      "Success\n"
     ]
    },
    {
     "name": "stderr",
     "output_type": "stream",
     "text": [
      "ar: creating archive Vmain__ALL.a\n"
     ]
    }
   ],
   "source": [
    "%%bash\n",
    "cd build\n",
    "verilator -Wall -Wno-DECLFILENAME --cc main.v --exe sim_main.cpp\n",
    "make -C obj_dir -j -f Vmain.mk Vmain\n",
    "./obj_dir/Vmain"
   ]
  }
 ],
 "metadata": {
  "kernelspec": {
   "display_name": "Python 3",
   "language": "python",
   "name": "python3"
  },
  "language_info": {
   "codemirror_mode": {
    "name": "ipython",
    "version": 3
   },
   "file_extension": ".py",
   "mimetype": "text/x-python",
   "name": "python",
   "nbconvert_exporter": "python",
   "pygments_lexer": "ipython3",
   "version": "3.6.2"
  }
 },
 "nbformat": 4,
 "nbformat_minor": 2
}
