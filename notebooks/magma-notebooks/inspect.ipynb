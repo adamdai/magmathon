{
 "cells": [
  {
   "cell_type": "code",
   "execution_count": 1,
   "metadata": {},
   "outputs": [
    {
     "name": "stdout",
     "output_type": "stream",
     "text": [
      "import verilog\n",
      "import mantle lattice ice40\n",
      "import mantle lattice mantle40\n"
     ]
    }
   ],
   "source": [
    "from magma import DefineCircuit, EndCircuit, In, Out, Bit, wire\n",
    "from mantle.lattice.mantle40 import And\n",
    "from magma.backend.verilog import compile\n",
    "from magma.ir import compile as compileir"
   ]
  },
  {
   "cell_type": "code",
   "execution_count": 2,
   "metadata": {},
   "outputs": [
    {
     "name": "stdout",
     "output_type": "stream",
     "text": [
      "----- and2 ir -----\n",
      "AnonymousCircuit(\"I0\", inst0.I0,\"I1\", inst0.I1,\"O\", inst0.O)\n",
      "----- ------- -----\n",
      "\n",
      "----- c, c.interface -----\n",
      "logic O : In(Bit) -> I0 : Out(Bit), I1 : Out(Bit)\n",
      "----- -------------- -----\n",
      "\n",
      "----- repr(c) -----\n",
      "logic = DefineCircuit(\"logic\", \"I0\", In(Bit), \"I1\", In(Bit), \"O\", Out(Bit))  # <ipython-input-2-737c4fe249cd> 1\n",
      "inst0 = SB_LUT4(LUT_INIT=0x8888)  # /Users/hanrahan/git/mantle/mantle/lattice/mantle40/LUT.py 29\n",
      "wire(logic.I0, inst0.I0)  # <ipython-input-2-737c4fe249cd> 3\n",
      "wire(logic.I1, inst0.I1)  # <ipython-input-2-737c4fe249cd> 3\n",
      "wire(0, inst0.I2)  # /Users/hanrahan/git/mantle/mantle/lattice/mantle40/LUT.py 30\n",
      "wire(0, inst0.I3)  # /Users/hanrahan/git/mantle/mantle/lattice/mantle40/LUT.py 31\n",
      "wire(inst0.O, logic.O)  # <ipython-input-2-737c4fe249cd> 3\n",
      "EndCircuit()  # <ipython-input-2-737c4fe249cd> 7\n",
      "\n",
      "----- ------- -----\n",
      "\n",
      "----- compile(c) -----\n",
      "compiling logic\n",
      "module logic (input  I0, input  I1, output  O);\n",
      "wire  inst0_O;\n",
      "SB_LUT4 #(.LUT_INIT(16'h8888)) inst0 (.I0(I0), .I1(I1), .I2(1'b0), .I3(1'b0), .O(inst0_O));\n",
      "assign O = inst0_O;\n",
      "endmodule\n",
      "\n",
      "\n",
      "----- ---------- -----\n",
      "\n",
      "----- compileir(c) -----\n",
      "logic = DefineCircuit(\"logic\", \"I0\", In(Bit), \"I1\", In(Bit), \"O\", Out(Bit))  # <ipython-input-2-737c4fe249cd> 1\n",
      "inst0 = SB_LUT4(LUT_INIT=0x8888)  # /Users/hanrahan/git/mantle/mantle/lattice/mantle40/LUT.py 29\n",
      "wire(logic.I0, inst0.I0)  # <ipython-input-2-737c4fe249cd> 3\n",
      "wire(logic.I1, inst0.I1)  # <ipython-input-2-737c4fe249cd> 3\n",
      "wire(0, inst0.I2)  # /Users/hanrahan/git/mantle/mantle/lattice/mantle40/LUT.py 30\n",
      "wire(0, inst0.I3)  # /Users/hanrahan/git/mantle/mantle/lattice/mantle40/LUT.py 31\n",
      "wire(inst0.O, logic.O)  # <ipython-input-2-737c4fe249cd> 3\n",
      "EndCircuit()  # <ipython-input-2-737c4fe249cd> 7\n",
      "\n",
      "\n",
      "----- ------------ -----\n",
      "\n"
     ]
    }
   ],
   "source": [
    "c = DefineCircuit('logic', 'I0', In(Bit), 'I1', In(Bit), 'O', Out(Bit))\n",
    "and2 = And(2)\n",
    "wire( and2(c.I0,c.I1), c.O)\n",
    "print(\"----- and2 ir -----\")\n",
    "print(compileir(and2))\n",
    "print(\"----- ------- -----\\n\")\n",
    "EndCircuit()\n",
    "\n",
    "print(\"----- c, c.interface -----\")\n",
    "print(c, c.interface)\n",
    "print(\"----- -------------- -----\\n\")\n",
    "\n",
    "print(\"----- repr(c) -----\")\n",
    "print(repr(c))\n",
    "print(\"----- ------- -----\\n\")\n",
    "\n",
    "print(\"----- compile(c) -----\")\n",
    "print(compile(c))\n",
    "print(\"----- ---------- -----\\n\")\n",
    "\n",
    "print(\"----- compileir(c) -----\")\n",
    "print(compileir(c))\n",
    "print(\"----- ------------ -----\\n\")"
   ]
  }
 ],
 "metadata": {
  "kernelspec": {
   "display_name": "Python 3",
   "language": "python",
   "name": "python3"
  },
  "language_info": {
   "codemirror_mode": {
    "name": "ipython",
    "version": 3
   },
   "file_extension": ".py",
   "mimetype": "text/x-python",
   "name": "python",
   "nbconvert_exporter": "python",
   "pygments_lexer": "ipython3",
   "version": "3.6.2"
  }
 },
 "nbformat": 4,
 "nbformat_minor": 2
}
