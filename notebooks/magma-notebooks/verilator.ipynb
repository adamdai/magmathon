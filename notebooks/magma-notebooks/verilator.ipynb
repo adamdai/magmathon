{
 "cells": [
  {
   "cell_type": "code",
   "execution_count": 1,
   "metadata": {},
   "outputs": [
    {
     "name": "stdout",
     "output_type": "stream",
     "text": [
      "import verilog\n",
      "compiling verilator_example\n"
     ]
    }
   ],
   "source": [
    "from magma import *\n",
    "from magma.verilator.verilator import compile as compileverilator\n",
    "from mantle.verilog.gates import And, XOr\n",
    "\n",
    "def f(a, b, c):\n",
    "    return (a & b) ^ c\n",
    "\n",
    "main = DefineCircuit('verilator_example', \"a\", In(Bit), \"b\", In(Bit), \"c\", In(Bit), \"d\", Out(Bit))\n",
    "t = And(2)(main.a, main.b)\n",
    "d = XOr(2)(t, main.c)\n",
    "wire(d, main.d)\n",
    "EndCircuit()\n",
    "\n",
    "compile(\"build/verilator_example\", main)\n",
    "compileverilator('build/sim_verilator_example.cpp', main, f)"
   ]
  },
  {
   "cell_type": "code",
   "execution_count": 2,
   "metadata": {},
   "outputs": [
    {
     "name": "stdout",
     "output_type": "stream",
     "text": [
      "#include \"Vverilator_example.h\"\n",
      "#include \"verilated.h\"\n",
      "#include <cassert>\n",
      "#include <iostream>\n",
      "\n",
      "int main(int argc, char **argv, char **env) {\n",
      "    Verilated::commandArgs(argc, argv);\n",
      "    Vverilator_example* top = new Vverilator_example;\n",
      "\n",
      "    unsigned int tests[8][4] = {\n",
      "        { 0b0, 0b0, 0b0, 0b0 }, \n",
      "        { 0b0, 0b0, 0b1, 0b1 }, \n",
      "        { 0b0, 0b1, 0b0, 0b0 }, \n",
      "        { 0b0, 0b1, 0b1, 0b1 }, \n",
      "        { 0b1, 0b0, 0b0, 0b0 }, \n",
      "        { 0b1, 0b0, 0b1, 0b1 }, \n",
      "        { 0b1, 0b1, 0b0, 0b1 }, \n",
      "        { 0b1, 0b1, 0b1, 0b0 }, \n",
      "    };\n",
      "\n",
      "    for(int i = 0; i < 8; i++) {\n",
      "        unsigned int* test = tests[i];\n",
      "        top->a = test[0];\n",
      "        top->b = test[1];\n",
      "        top->c = test[2];\n",
      "        top->eval();\n",
      "        assert(top->d == test[3]);\n",
      "    }\n",
      "\n",
      "    delete top;\n",
      "    std::cout << \"Success\" << std::endl;\n",
      "    exit(0);\n",
      "}\n"
     ]
    }
   ],
   "source": [
    "with open(\"build/sim_verilator_example.cpp\", \"r\") as sim_main:\n",
    "    print(sim_main.read())"
   ]
  },
  {
   "cell_type": "code",
   "execution_count": 3,
   "metadata": {},
   "outputs": [
    {
     "name": "stdout",
     "output_type": "stream",
     "text": [
      "clang++  -I.  -MMD -I/usr/local/Cellar/verilator/3.900/share/verilator/include -I/usr/local/Cellar/verilator/3.900/share/verilator/include/vltstd -DVL_PRINTF=printf -DVM_COVERAGE=0 -DVM_SC=0 -DVM_TRACE=0 -Wno-char-subscripts -Wno-parentheses-equality -Wno-sign-compare -Wno-uninitialized -Wno-unused-parameter -Wno-unused-variable -fbracket-depth=4096 -Qunused-arguments       -c -o sim_verilator_example.o ../sim_verilator_example.cpp\n",
      "/usr/bin/perl /usr/local/Cellar/verilator/3.900/share/verilator/bin/verilator_includer -DVL_INCLUDE_OPT=include Vverilator_example.cpp > Vverilator_example__ALLcls.cpp\n",
      "/usr/bin/perl /usr/local/Cellar/verilator/3.900/share/verilator/bin/verilator_includer -DVL_INCLUDE_OPT=include Vverilator_example__Syms.cpp > Vverilator_example__ALLsup.cpp\n",
      "clang++  -I.  -MMD -I/usr/local/Cellar/verilator/3.900/share/verilator/include -I/usr/local/Cellar/verilator/3.900/share/verilator/include/vltstd -DVL_PRINTF=printf -DVM_COVERAGE=0 -DVM_SC=0 -DVM_TRACE=0 -Wno-char-subscripts -Wno-parentheses-equality -Wno-sign-compare -Wno-uninitialized -Wno-unused-parameter -Wno-unused-variable -fbracket-depth=4096 -Qunused-arguments       -c -o Vverilator_example__ALLsup.o Vverilator_example__ALLsup.cpp\n",
      "clang++  -I.  -MMD -I/usr/local/Cellar/verilator/3.900/share/verilator/include -I/usr/local/Cellar/verilator/3.900/share/verilator/include/vltstd -DVL_PRINTF=printf -DVM_COVERAGE=0 -DVM_SC=0 -DVM_TRACE=0 -Wno-char-subscripts -Wno-parentheses-equality -Wno-sign-compare -Wno-uninitialized -Wno-unused-parameter -Wno-unused-variable -fbracket-depth=4096 -Qunused-arguments       -c -o Vverilator_example__ALLcls.o Vverilator_example__ALLcls.cpp\n",
      "      Archiving Vverilator_example__ALL.a ...\n",
      "ar r Vverilator_example__ALL.a Vverilator_example__ALLcls.o Vverilator_example__ALLsup.o\n",
      "ranlib Vverilator_example__ALL.a\n",
      "clang++    sim_verilator_example.o verilated.o Vverilator_example__ALL.a    -o Vverilator_example -lm -lstdc++  2>&1 | c++filt\n",
      "Success\n"
     ]
    }
   ],
   "source": [
    "%%bash\n",
    "cd build\n",
    "verilator -Wall -Wno-DECLFILENAME --cc verilator_example.v --exe sim_verilator_example.cpp\n",
    "make -C obj_dir -j -f Vverilator_example.mk Vverilator_example\n",
    "./obj_dir/Vverilator_example"
   ]
  }
 ],
 "metadata": {
  "kernelspec": {
   "display_name": "Python 3",
   "language": "python",
   "name": "python3"
  },
  "language_info": {
   "codemirror_mode": {
    "name": "ipython",
    "version": 3
   },
   "file_extension": ".py",
   "mimetype": "text/x-python",
   "name": "python",
   "nbconvert_exporter": "python",
   "pygments_lexer": "ipython3",
   "version": "3.6.2"
  }
 },
 "nbformat": 4,
 "nbformat_minor": 2
}
