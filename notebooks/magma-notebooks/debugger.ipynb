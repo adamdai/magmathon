{
 "cells": [
  {
   "cell_type": "code",
   "execution_count": null,
   "metadata": {},
   "outputs": [
    {
     "name": "stdout",
     "output_type": "stream",
     "text": [
      "import mantle lattice ice40\n",
      "import mantle lattice mantle40\n",
      "Magma Interactive Simulator.   Type help or ? to list commands.\n",
      "0: / >>> help\n",
      "\n",
      "Documented commands (type help <topic>):\n",
      "========================================\n",
      "backtrace  descend  help          next   repeat     up   \n",
      "continue   display  info          print  step       watch\n",
      "delete     examine  modify_input  quit   undisplay\n",
      "\n",
      "0: / >>> help info\n",
      "info instances|interface|watchpoints:\n",
      "     instances: Display all the instances in the current scope\n",
      "     interface: Display the interface bits of the current scope's outer circuit\n",
      "     watchpoints: Display currently active watchpoints\n",
      "0: / >>> print counter.O\n",
      "0\n",
      "0: / >>> next\n",
      "1: / >>> p counter.O\n",
      "1\n",
      "1: / >>> display counter.O\n",
      "\t1: counter.O = 1\n",
      "1: / >>> n\n",
      "\t1: counter.O = 2\n",
      "2: / >>> n\n",
      "\t1: counter.O = 3\n",
      "3: / >>> n\n",
      "\t1: counter.O = 0\n"
     ]
    }
   ],
   "source": [
    "import os\n",
    "os.environ['MANTLE_TARGET'] = 'ice40'\n",
    "from magma import DefineCircuit, Clock, Bit, Bits, In, Out, wire\n",
    "from magma.simulator.mdb import simulate\n",
    "from mantle import Counter\n",
    "\n",
    "main = DefineCircuit('main', \"O\", Out(Bits(2)), \"COUT\", Out(Bit), \"CLK\", In(Clock))\n",
    "counter = Counter(2)\n",
    "wire(counter.O, main.O)\n",
    "wire(counter.COUT, main.COUT)\n",
    "\n",
    "simulate(main) # simulator requires a Circuit Definition"
   ]
  }
 ],
 "metadata": {
  "kernelspec": {
   "display_name": "Python 3",
   "language": "python",
   "name": "python3"
  },
  "language_info": {
   "codemirror_mode": {
    "name": "ipython",
    "version": 3
   },
   "file_extension": ".py",
   "mimetype": "text/x-python",
   "name": "python",
   "nbconvert_exporter": "python",
   "pygments_lexer": "ipython3",
   "version": "3.6.1"
  }
 },
 "nbformat": 4,
 "nbformat_minor": 2
}
