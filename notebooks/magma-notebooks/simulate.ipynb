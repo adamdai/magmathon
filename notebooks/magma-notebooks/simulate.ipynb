{
 "cells": [
  {
   "cell_type": "markdown",
   "metadata": {},
   "source": [
    "# Magma Simulator"
   ]
  },
  {
   "cell_type": "code",
   "execution_count": 1,
   "metadata": {},
   "outputs": [
    {
     "name": "stdout",
     "output_type": "stream",
     "text": [
      "import mantle lattice ice40\n",
      "import mantle lattice mantle40\n"
     ]
    }
   ],
   "source": [
    "import os\n",
    "os.environ['MANTLE'] = 'lattice'\n",
    "from mantle import DefineCounter\n",
    "\n",
    "counter = DefineCounter(2)"
   ]
  },
  {
   "cell_type": "code",
   "execution_count": 2,
   "metadata": {
    "collapsed": true
   },
   "outputs": [],
   "source": [
    "from magma.python_simulator import PythonSimulator\n",
    "from magma.scope import Scope\n",
    "\n",
    "simulator = PythonSimulator(counter)\n",
    "scope = Scope()\n",
    "O0 = []\n",
    "O1 = []\n",
    "COUT = []\n",
    "for i in range(16):\n",
    "    for j in range(2):\n",
    "        simulator.step()\n",
    "        simulator.evaluate()\n",
    "        O = simulator.get_value(counter.O, scope)\n",
    "        O0.append(O[0])\n",
    "        O1.append(O[1])\n",
    "        COUT.append(simulator.get_value(counter.COUT, scope))"
   ]
  },
  {
   "cell_type": "code",
   "execution_count": 3,
   "metadata": {},
   "outputs": [
    {
     "data": {
      "image/png": "[encoded data removed]",
      "text/plain": [
       "<matplotlib.figure.Figure at 0x10f5c89b0>"
      ]
     },
     "metadata": {},
     "output_type": "display_data"
    }
   ],
   "source": [
    "import matplotlib.pyplot as plt\n",
    "import numpy as np\n",
    "\n",
    "n = len(O1)//2\n",
    "t = np.repeat(0.5*np.arange(2*n+1),2)[1:-1]\n",
    "clock = np.tile(np.array([1,1,0,0]),n)\n",
    "\n",
    "O0 = np.repeat(np.array(O0),2)\n",
    "O1 = np.repeat(np.array(O1),2)\n",
    "COUT = np.repeat(np.array(COUT),2)\n",
    "\n",
    "\n",
    "plt.text(-1.5, 3.25, 'clock')\n",
    "plt.plot(t, 0.5*clock+3, 'r', linewidth = 2)\n",
    "plt.text(-1.5, 2.25, 'O[0]')\n",
    "plt.plot(t, 0.5*O0+2,    'r', linewidth = 2)\n",
    "plt.text(-1.5, 1.25, 'O[1]')\n",
    "plt.plot(t, 0.5*O1+1,    'r', linewidth = 2)\n",
    "plt.text(-1.5, 0.25, 'COUT')\n",
    "plt.plot(t, 0.5*COUT,    'r', linewidth = 2)\n",
    "plt.xlim([0,n])\n",
    "plt.ylim([0,4])\n",
    "\n",
    "plt.gca().axis('off')\n",
    "plt.show()"
   ]
  }
 ],
 "metadata": {
  "kernelspec": {
   "display_name": "Python 3",
   "language": "python",
   "name": "python3"
  },
  "language_info": {
   "codemirror_mode": {
    "name": "ipython",
    "version": 3
   },
   "file_extension": ".py",
   "mimetype": "text/x-python",
   "name": "python",
   "nbconvert_exporter": "python",
   "pygments_lexer": "ipython3",
   "version": "3.6.2"
  }
 },
 "nbformat": 4,
 "nbformat_minor": 2
}
