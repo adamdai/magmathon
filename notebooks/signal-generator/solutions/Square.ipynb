{
 "cells": [
  {
   "cell_type": "markdown",
   "metadata": {},
   "source": [
    "# Square Wave Generator\n",
    "A *square wave* is a periodic waveform that alternates between two discrete values. \n",
    "\n",
    "Here's an example square wave that is generated using a simple Python function."
   ]
  },
  {
   "cell_type": "code",
   "execution_count": 1,
   "metadata": {},
   "outputs": [
    {
     "data": {
      "text/plain": [
       "[<matplotlib.lines.Line2D at 0x12004b7b8>]"
      ]
     },
     "execution_count": 1,
     "metadata": {},
     "output_type": "execute_result"
    },
    {
     "data": {
      "image/png": "[encoded data removed]",
      "text/plain": [
       "<Figure size 432x288 with 1 Axes>"
      ]
     },
     "metadata": {},
     "output_type": "display_data"
    }
   ],
   "source": [
    "import matplotlib.pyplot as plt\n",
    "import numpy as np\n",
    "%matplotlib inline\n",
    "\n",
    "x = np.arange(0, 100)\n",
    "\n",
    "def square(x):\n",
    "    return (x % 50) < 25\n",
    "\n",
    "plt.plot(x, square(x))"
   ]
  },
  {
   "cell_type": "code",
   "execution_count": 2,
   "metadata": {},
   "outputs": [],
   "source": [
    "import magma as m\n",
    "m.set_mantle_target(\"ice40\")"
   ]
  },
  {
   "cell_type": "markdown",
   "metadata": {},
   "source": [
    "To implement our square wave in magma, we start by importing the `IceStick` module from `loam`. We instance the `IceStick` and turn on the `Clock` and `J3[0]` (configured as an output).\n",
    "\n",
    "Now we'll use `magma` and `mantle` to implement a square wave generator.\n",
    "Since our square wave just toggles between 0 and 1 using a fixed period, we can use any bit in a synchronous counter to implement it (choosing a certain counter bit will change the period)."
   ]
  },
  {
   "cell_type": "code",
   "execution_count": 3,
   "metadata": {},
   "outputs": [
    {
     "name": "stdout",
     "output_type": "stream",
     "text": [
      "import lattice ice40\n",
      "import lattice mantle40\n"
     ]
    }
   ],
   "source": [
    "import mantle\n",
    "from loam.boards.icestick import IceStick\n",
    "\n",
    "icestick = IceStick()\n",
    "icestick.Clock.on()\n",
    "icestick.J3[0].output().on()\n",
    "\n",
    "main = icestick.main()\n",
    "\n",
    "counter = mantle.Counter(32)\n",
    "square = counter.O[9]\n",
    "\n",
    "m.wire( square, main.J3 )"
   ]
  },
  {
   "cell_type": "markdown",
   "metadata": {},
   "source": [
    "Compile and build the circuit."
   ]
  },
  {
   "cell_type": "code",
   "execution_count": 4,
   "metadata": {},
   "outputs": [
    {
     "name": "stdout",
     "output_type": "stream",
     "text": [
      "compiling FullAdder\n",
      "compiling Add32Cout\n",
      "compiling Register32\n",
      "compiling Counter32\n",
      "compiling main\n"
     ]
    }
   ],
   "source": [
    "m.compile('build/square', main)"
   ]
  },
  {
   "cell_type": "code",
   "execution_count": 5,
   "metadata": {},
   "outputs": [
    {
     "name": "stdout",
     "output_type": "stream",
     "text": [
      "/Users/hanrahan/git/magmathon/notebooks/signal-generator/solutions/build\n",
      "set_io J3 62\n",
      "set_io CLKIN 21\n"
     ]
    },
    {
     "name": "stderr",
     "output_type": "stream",
     "text": [
      "init..\n",
      "cdone: high\n",
      "reset..\n",
      "cdone: low\n",
      "flash ID: 0x20 0xBA 0x16 0x10 0x00 0x00 0x23 0x51 0x73 0x10 0x22 0x00 0x26 0x00 0x42 0x06 0x06 0x15 0x62 0xB8\n",
      "file size: 32220\n",
      "erase 64kB sector at 0x000000..\n",
      "programming..\n",
      "reading..\n",
      "VERIFY OK\n",
      "cdone: high\n",
      "Bye.\n"
     ]
    }
   ],
   "source": [
    "%%bash\n",
    "cd build\n",
    "cat square.pcf\n",
    "yosys -q -p 'synth_ice40 -top main -blif square.blif' square.v\n",
    "arachne-pnr -q -d 1k -o square.txt -p square.pcf square.blif \n",
    "icepack square.txt square.bin\n",
    "iceprog square.bin"
   ]
  },
  {
   "cell_type": "markdown",
   "metadata": {},
   "source": [
    "We can wire up GPIO pin 62 to a logic analyzer to verify that our circuit produces the correct square waveform.\n",
    "\n",
    "![](images/square.jpg)"
   ]
  }
 ],
 "metadata": {
  "kernelspec": {
   "display_name": "Python 3",
   "language": "python",
   "name": "python3"
  },
  "language_info": {
   "codemirror_mode": {
    "name": "ipython",
    "version": 3
   },
   "file_extension": ".py",
   "mimetype": "text/x-python",
   "name": "python",
   "nbconvert_exporter": "python",
   "pygments_lexer": "ipython3",
   "version": "3.6.5"
  }
 },
 "nbformat": 4,
 "nbformat_minor": 2
}
