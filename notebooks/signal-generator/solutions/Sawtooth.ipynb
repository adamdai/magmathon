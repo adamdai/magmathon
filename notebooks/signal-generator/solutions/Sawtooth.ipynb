{
 "cells": [
  {
   "cell_type": "code",
   "execution_count": 1,
   "metadata": {},
   "outputs": [
    {
     "name": "stdout",
     "output_type": "stream",
     "text": [
      "import lattice ice40\n",
      "import lattice mantle40\n"
     ]
    }
   ],
   "source": [
    "from loam.boards.icestick import IceStick\n",
    "\n",
    "N = 8\n",
    "\n",
    "icestick = IceStick()\n",
    "icestick.Clock.on()\n",
    "for i in range(N):\n",
    "    icestick.J3[i].output().on()"
   ]
  },
  {
   "cell_type": "code",
   "execution_count": 2,
   "metadata": {
    "collapsed": true
   },
   "outputs": [],
   "source": [
    "main = icestick.main()"
   ]
  },
  {
   "cell_type": "code",
   "execution_count": 3,
   "metadata": {
    "collapsed": true,
    "scrolled": true
   },
   "outputs": [],
   "source": [
    "import magma as m\n",
    "import mantle  # mantle target is set automatically by loam import above\n",
    "import math\n",
    "import matplotlib.pyplot as plt\n",
    "%matplotlib inline\n",
    "\n",
    "counter = mantle.Counter(32)\n",
    "sawtooth = counter.O[8:16]"
   ]
  },
  {
   "cell_type": "code",
   "execution_count": 4,
   "metadata": {
    "collapsed": true
   },
   "outputs": [],
   "source": [
    "m.wire( sawtooth, main.J3 )\n",
    "\n",
    "m.EndDefine()"
   ]
  },
  {
   "cell_type": "code",
   "execution_count": 5,
   "metadata": {},
   "outputs": [
    {
     "name": "stdout",
     "output_type": "stream",
     "text": [
      "compiling FullAdder\n",
      "compiling Add32Cout\n",
      "compiling Register32\n",
      "compiling Counter32\n",
      "compiling main\n"
     ]
    }
   ],
   "source": [
    "m.compile('build/sawtooth', main, vendor=\"lattice\")"
   ]
  },
  {
   "cell_type": "code",
   "execution_count": 6,
   "metadata": {},
   "outputs": [
    {
     "name": "stdout",
     "output_type": "stream",
     "text": [
      "set_io J3[7] 44\n",
      "set_io J3[6] 45\n",
      "set_io J3[5] 47\n",
      "set_io J3[4] 48\n",
      "set_io J3[3] 56\n",
      "set_io J3[2] 60\n",
      "set_io J3[1] 61\n",
      "set_io J3[0] 62\n",
      "set_io CLKIN 21\n"
     ]
    },
    {
     "name": "stderr",
     "output_type": "stream",
     "text": [
      "init..\n",
      "cdone: high\n",
      "reset..\n",
      "cdone: low\n",
      "flash ID: 0x20 0xBA 0x16 0x10 0x00 0x00 0x23 0x51 0x73 0x10 0x23 0x00 0x35 0x00 0x35 0x06 0x06 0x15 0x43 0xB6\n",
      "file size: 32220\n",
      "erase 64kB sector at 0x000000..\n",
      "programming..\n",
      "reading..\n",
      "VERIFY OK\n",
      "cdone: high\n",
      "Bye.\n"
     ]
    }
   ],
   "source": [
    "%%bash\n",
    "cd build\n",
    "cat sawtooth.pcf\n",
    "yosys -q -p 'synth_ice40 -top main -blif sawtooth.blif' sawtooth.v\n",
    "arachne-pnr -q -d 1k -o sawtooth.txt -p sawtooth.pcf sawtooth.blif \n",
    "icepack sawtooth.txt sawtooth.bin\n",
    "iceprog sawtooth.bin"
   ]
  },
  {
   "cell_type": "markdown",
   "metadata": {},
   "source": [
    "We can wire up the GPIO pins to a logic analyzer to verify that our circuit produces the correct sawtooth waveform.\n",
    "\n",
    "![](images/sawtooth.png)\n",
    "\n",
    "We can also use Saleae's [export data](https://support.saleae.com/hc/en-us/articles/115005986806-Saving-Loading-and-Exporting-Data) feature to output a [csv file](data/saw-capture.csv). We'll load this data into Python and plot the results."
   ]
  },
  {
   "cell_type": "code",
   "execution_count": 10,
   "metadata": {
    "collapsed": true
   },
   "outputs": [],
   "source": [
    "import csv\n",
    "import magma as m\n",
    "with open(\"data/saw-capture.csv\") as saw_capture_csv:\n",
    "    csv_reader = csv.reader(saw_capture_csv)\n",
    "    next(csv_reader, None)  # skip the headers\n",
    "    rows = [row for row in csv_reader]\n",
    "timestamps = [float(row[0]) for row in rows]\n",
    "values = [m.bitutils.seq2int(tuple(int(x) for x in row[1:])) for row in rows]"
   ]
  },
  {
   "cell_type": "markdown",
   "metadata": {},
   "source": [
    "**TODO**: Why do we have this little bit of jitter? Logic analyzer is running at 25 MS/s, 3.3+ Volts for 1s"
   ]
  },
  {
   "cell_type": "code",
   "execution_count": 16,
   "metadata": {},
   "outputs": [
    {
     "data": {
      "text/plain": [
       "[<matplotlib.lines.Line2D at 0x10f2ca6d8>]"
      ]
     },
     "execution_count": 16,
     "metadata": {},
     "output_type": "execute_result"
    },
    {
     "data": {
      "image/png": "[encoded data removed]",
      "text/plain": [
       "<matplotlib.figure.Figure at 0x10f237710>"
      ]
     },
     "metadata": {},
     "output_type": "display_data"
    }
   ],
   "source": [
    "import matplotlib.pyplot as plt\n",
    "plt.plot(timestamps[:1000], values[:1000], \"-\")"
   ]
  },
  {
   "cell_type": "code",
   "execution_count": null,
   "metadata": {
    "collapsed": true
   },
   "outputs": [],
   "source": []
  }
 ],
 "metadata": {
  "kernelspec": {
   "display_name": "Python 3",
   "language": "python",
   "name": "python3"
  },
  "language_info": {
   "codemirror_mode": {
    "name": "ipython",
    "version": 3
   },
   "file_extension": ".py",
   "mimetype": "text/x-python",
   "name": "python",
   "nbconvert_exporter": "python",
   "pygments_lexer": "ipython3",
   "version": "3.6.5"
  }
 },
 "nbformat": 4,
 "nbformat_minor": 2
}
