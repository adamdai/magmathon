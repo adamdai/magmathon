{
 "cells": [
  {
   "cell_type": "markdown",
   "metadata": {},
   "source": [
    "# Square Wave Generator\n",
    "A *square wave* is a periodic waveform that alternates between two discrete values. \n",
    "\n",
    "Here's an example square wave that is generated using a simple Python function."
   ]
  },
  {
   "cell_type": "code",
   "execution_count": null,
   "metadata": {
    "collapsed": true
   },
   "outputs": [],
   "source": [
    "import matplotlib.pyplot as plt\n",
    "import numpy as np\n",
    "%matplotlib inline\n",
    "\n",
    "x = np.arange(0, 100)\n",
    "\n",
    "def square(x):\n",
    "    return (x % 50) < 25\n",
    "\n",
    "plt.plot(x, square(x))"
   ]
  },
  {
   "cell_type": "markdown",
   "metadata": {},
   "source": [
    "To implement our square wave in magma, we start by importing the `IceStick` module from `loam`. We instance the `IceStick` and turn on the `Clock` and `J3[0]` (configured as an output)."
   ]
  },
  {
   "cell_type": "code",
   "execution_count": null,
   "metadata": {
    "collapsed": true
   },
   "outputs": [],
   "source": [
    "import magma as m\n",
    "m.set_mantle_target(\"ice40\")\n",
    "from loam.boards.icestick import IceStick\n",
    "\n",
    "icestick = IceStick()\n",
    "icestick.Clock.on()\n",
    "icestick.J3[0].output().on()"
   ]
  },
  {
   "cell_type": "markdown",
   "metadata": {},
   "source": [
    "Create a magma circuit that will produce a digital square wave on the J3[0] GPIO pin."
   ]
  },
  {
   "cell_type": "code",
   "execution_count": null,
   "metadata": {
    "collapsed": true
   },
   "outputs": [],
   "source": [
    "import magma as m\n",
    "import mantle\n",
    "main = icestick.main()\n",
    "\n",
    "# TODO: Define main"
   ]
  },
  {
   "cell_type": "code",
   "execution_count": null,
   "metadata": {
    "collapsed": true
   },
   "outputs": [],
   "source": [
    "m.compile('build/square', main)"
   ]
  },
  {
   "cell_type": "code",
   "execution_count": null,
   "metadata": {
    "collapsed": true
   },
   "outputs": [],
   "source": [
    "%%bash\n",
    "cd build\n",
    "cat square.pcf\n",
    "yosys -q -p 'synth_ice40 -top main -blif square.blif' square.v\n",
    "arachne-pnr -q -d 1k -o square.txt -p square.pcf square.blif \n",
    "icepack square.txt square.bin\n",
    "iceprog square.bin"
   ]
  },
  {
   "cell_type": "markdown",
   "metadata": {},
   "source": [
    "Wire up GPIO pin 62 to a logic analyzer to verify that our circuit produces the correct square waveform.\n",
    "\n",
    "![](images/square.jpg)"
   ]
  }
 ],
 "metadata": {
  "kernelspec": {
   "display_name": "Python 3",
   "language": "python",
   "name": "python3"
  },
  "language_info": {
   "codemirror_mode": {
    "name": "ipython",
    "version": 3
   },
   "file_extension": ".py",
   "mimetype": "text/x-python",
   "name": "python",
   "nbconvert_exporter": "python",
   "pygments_lexer": "ipython3",
   "version": "3.6.5"
  }
 },
 "nbformat": 4,
 "nbformat_minor": 2
}
