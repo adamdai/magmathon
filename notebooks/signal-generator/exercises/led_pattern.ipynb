{
 "cells": [
  {
   "cell_type": "markdown",
   "metadata": {},
   "source": [
    "# LED Pattern\n",
    "Implement a simple visual pattern using the onboard LEDs, a sine wave stored in LUTs, and PWM."
   ]
  },
  {
   "cell_type": "code",
   "execution_count": 1,
   "metadata": {},
   "outputs": [
    {
     "data": {
      "text/html": [
       "<video width=\"320\" height=\"240\" controls>\n",
       "  <source src=\"images/pattern.mp4\" type=\"video/mp4\">\n",
       "</video>"
      ],
      "text/plain": [
       "<IPython.core.display.HTML object>"
      ]
     },
     "metadata": {},
     "output_type": "display_data"
    }
   ],
   "source": [
    "%%HTML\n",
    "<video width=\"320\" height=\"240\" controls>\n",
    "  <source src=\"images/pattern.mp4\" type=\"video/mp4\">\n",
    "</video>"
   ]
  },
  {
   "cell_type": "code",
   "execution_count": null,
   "metadata": {},
   "outputs": [],
   "source": [
    "import sys\n",
    "import magma as m\n",
    "m.set_mantle_target(\"ice40\")\n",
    "import mantle\n",
    "from loam.boards.icestick import IceStick\n",
    "import math\n",
    "\n",
    "icestick = IceStick()\n",
    "icestick.Clock.on()\n",
    "# Configure 5 LEDs\n",
    "icestick.D1.on()\n",
    "icestick.D2.on()\n",
    "icestick.D3.on()\n",
    "icestick.D4.on()\n",
    "icestick.D5.on()\n",
    "\n",
    "main = icestick.main()\n",
    "\n",
    "# TODO: Define main\n",
    "\n",
    "m.compile(\"build/sin_leds\", main)"
   ]
  },
  {
   "cell_type": "code",
   "execution_count": null,
   "metadata": {},
   "outputs": [],
   "source": [
    "%%bash\n",
    "cd build\n",
    "yosys -q -p 'synth_ice40 -top main -blif sin_leds.blif' sin_leds.v\n",
    "arachne-pnr -q -d 1k -o sin_leds.txt -p sin_leds.pcf sin_leds.blif \n",
    "icepack sin_leds.txt sin_leds.bin\n",
    "iceprog sin_leds.bin"
   ]
  }
 ],
 "metadata": {
  "kernelspec": {
   "display_name": "Python 3",
   "language": "python",
   "name": "python3"
  },
  "language_info": {
   "codemirror_mode": {
    "name": "ipython",
    "version": 3
   },
   "file_extension": ".py",
   "mimetype": "text/x-python",
   "name": "python",
   "nbconvert_exporter": "python",
   "pygments_lexer": "ipython3",
   "version": "3.6.5"
  }
 },
 "nbformat": 4,
 "nbformat_minor": 2
}
