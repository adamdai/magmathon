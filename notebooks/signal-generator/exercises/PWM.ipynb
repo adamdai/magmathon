{
 "cells": [
  {
   "cell_type": "markdown",
   "metadata": {},
   "source": [
    "# PWM\n",
    "We can implement PWM using a counter and a comparison. For example, to achieve a 25% duty cycle, we say:\n",
    "```\n",
    "Output = (Counter < (0.25)*Max)\n",
    "```\n",
    "\n",
    "Here's a diagram showing how a counter with a threshold can be used to achieve a desired duty cycle.\n",
    "![](images/pwm_counter.png)"
   ]
  },
  {
   "cell_type": "code",
   "execution_count": null,
   "metadata": {},
   "outputs": [],
   "source": [
    "import magma as m\n",
    "m.set_mantle_target(\"ice40\")\n",
    "from loam.boards.icestick import IceStick\n",
    "\n",
    "N = 8\n",
    "\n",
    "icestick = IceStick()\n",
    "# TODO: Configure parts (GPIO, clock)"
   ]
  },
  {
   "cell_type": "code",
   "execution_count": null,
   "metadata": {
    "collapsed": true
   },
   "outputs": [],
   "source": [
    "import mantle\n",
    "main = icestick.main()\n",
    "# TODO: Define main\n",
    "m.EndDefine()"
   ]
  },
  {
   "cell_type": "code",
   "execution_count": null,
   "metadata": {},
   "outputs": [],
   "source": [
    "m.compile('build/pwm', main)"
   ]
  },
  {
   "cell_type": "code",
   "execution_count": null,
   "metadata": {},
   "outputs": [],
   "source": [
    "%%bash\n",
    "cd build\n",
    "cat pwm.pcf\n",
    "yosys -q -p 'synth_ice40 -top main -blif pwm.blif' pwm.v\n",
    "arachne-pnr -q -d 1k -o pwm.txt -p pwm.pcf pwm.blif \n",
    "icepack pwm.txt pwm.bin\n",
    "iceprog pwm.bin"
   ]
  },
  {
   "cell_type": "markdown",
   "metadata": {},
   "source": [
    "Wire up the GPIO pin to a logic analyzer to verify that our circuit produces the correct waveform.\n",
    "\n",
    "![](images/pwm.png)"
   ]
  }
 ],
 "metadata": {
  "kernelspec": {
   "display_name": "Python 3",
   "language": "python",
   "name": "python3"
  },
  "language_info": {
   "codemirror_mode": {
    "name": "ipython",
    "version": 3
   },
   "file_extension": ".py",
   "mimetype": "text/x-python",
   "name": "python",
   "nbconvert_exporter": "python",
   "pygments_lexer": "ipython3",
   "version": "3.6.5"
  }
 },
 "nbformat": 4,
 "nbformat_minor": 2
}
